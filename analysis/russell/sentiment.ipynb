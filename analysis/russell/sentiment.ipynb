{
 "cells": [
  {
   "cell_type": "code",
   "execution_count": 50,
   "metadata": {},
   "outputs": [
    {
     "data": {
      "text/plain": [
       "<spacytextblob.spacytextblob.SpacyTextBlob at 0x7fa4b384da30>"
      ]
     },
     "execution_count": 50,
     "metadata": {},
     "output_type": "execute_result"
    }
   ],
   "source": [
    "import spacy \n",
    "from spacytextblob.spacytextblob import SpacyTextBlob\n",
    "import pandas as pd\n",
    "import matplotlib\n",
    "import matplotlib.pyplot as plt\n",
    "\n",
    "nlp = spacy.load('en_core_web_sm')\n",
    "nlp.add_pipe('spacytextblob')"
   ]
  },
  {
   "cell_type": "markdown",
   "metadata": {},
   "source": [
    "## Load data"
   ]
  },
  {
   "cell_type": "code",
   "execution_count": 9,
   "metadata": {},
   "outputs": [],
   "source": [
    "submissions2 = pd.read_json(\"/Users/ritikabrahmadesam/Downloads/opiates_submissions2.json\")\n",
    "submissions2 = submissions2.head(20)\n",
    "\n",
    "submissions3 = pd.read_json(\"/Users/ritikabrahmadesam/Downloads/opiates_submissions3.json\")\n",
    "submissions3 = submissions3.head(20)"
   ]
  },
  {
   "cell_type": "code",
   "execution_count": 10,
   "metadata": {},
   "outputs": [],
   "source": [
    "submissions2['blob'] = submissions2['selftext'].apply(lambda text: nlp(text)._.blob)\n",
    "submissions2['polarity'] = submissions2['blob'].apply(lambda b: float(b.polarity))\n",
    "submissions2['subjectivity'] = submissions2['blob'].apply(lambda b: float(b.subjectivity))\n",
    "\n",
    "submissions3['blob'] = submissions3['selftext'].apply(lambda text: nlp(text)._.blob)\n",
    "submissions3['polarity'] = submissions3['blob'].apply(lambda b: float(b.polarity))\n",
    "submissions3['subjectivity'] = submissions3['blob'].apply(lambda b: float(b.subjectivity))"
   ]
  },
  {
   "cell_type": "markdown",
   "metadata": {},
   "source": [
    "## Spacy Sentiment Analysis"
   ]
  },
  {
   "cell_type": "code",
   "execution_count": 28,
   "metadata": {},
   "outputs": [],
   "source": [
    "submissions_polarity = {}\n",
    "submissions_subjectivity = {}"
   ]
  },
  {
   "cell_type": "code",
   "execution_count": 29,
   "metadata": {},
   "outputs": [
    {
     "data": {
      "text/plain": [
       "count    20.000000\n",
       "mean      0.008616\n",
       "std       0.122249\n",
       "min      -0.233333\n",
       "25%      -0.006272\n",
       "50%       0.000000\n",
       "75%       0.095985\n",
       "max       0.221591\n",
       "Name: polarity, dtype: float64"
      ]
     },
     "metadata": {},
     "output_type": "display_data"
    },
    {
     "data": {
      "text/plain": [
       "count    20.000000\n",
       "mean      0.262594\n",
       "std       0.259594\n",
       "min       0.000000\n",
       "25%       0.000000\n",
       "50%       0.267576\n",
       "75%       0.497726\n",
       "max       0.615392\n",
       "Name: subjectivity, dtype: float64"
      ]
     },
     "metadata": {},
     "output_type": "display_data"
    }
   ],
   "source": [
    "# This is how happy/sad\n",
    "display(submissions2['polarity'].describe())\n",
    "submissions_polarity[\"submissions1\"] = (submissions2['polarity'].describe())\n",
    "\n",
    "# This is the subjectivity\n",
    "display(submissions2['subjectivity'].describe())\n",
    "submissions_subjectivity[\"submissions1\"] = (submissions2['subjectivity'].describe())"
   ]
  },
  {
   "cell_type": "code",
   "execution_count": 30,
   "metadata": {},
   "outputs": [],
   "source": [
    "# This is how happy/sad\n",
    "submissions3['polarity'].describe()\n",
    "submissions_polarity[\"submissions2\"] = (submissions3['polarity'].describe())\n",
    "\n",
    "# This is the subjectivity\n",
    "submissions3['subjectivity'].describe()\n",
    "submissions_subjectivity[\"submissions2\"] = (submissions3['subjectivity'].describe())"
   ]
  },
  {
   "cell_type": "code",
   "execution_count": 31,
   "metadata": {},
   "outputs": [],
   "source": [
    "submission_data_polarity = pd.concat(submissions_polarity, axis = 1)"
   ]
  },
  {
   "cell_type": "markdown",
   "metadata": {},
   "source": [
    "## Generate Graphs from the Sentiment Analysis"
   ]
  },
  {
   "cell_type": "code",
   "execution_count": 37,
   "metadata": {},
   "outputs": [
    {
     "data": {
      "text/html": [
       "<div>\n",
       "<style scoped>\n",
       "    .dataframe tbody tr th:only-of-type {\n",
       "        vertical-align: middle;\n",
       "    }\n",
       "\n",
       "    .dataframe tbody tr th {\n",
       "        vertical-align: top;\n",
       "    }\n",
       "\n",
       "    .dataframe thead th {\n",
       "        text-align: right;\n",
       "    }\n",
       "</style>\n",
       "<table border=\"1\" class=\"dataframe\">\n",
       "  <thead>\n",
       "    <tr style=\"text-align: right;\">\n",
       "      <th></th>\n",
       "      <th>count</th>\n",
       "      <th>mean</th>\n",
       "      <th>std</th>\n",
       "      <th>min</th>\n",
       "      <th>25%</th>\n",
       "      <th>50%</th>\n",
       "      <th>75%</th>\n",
       "      <th>max</th>\n",
       "    </tr>\n",
       "  </thead>\n",
       "  <tbody>\n",
       "    <tr>\n",
       "      <th>submissions1</th>\n",
       "      <td>20.0</td>\n",
       "      <td>0.008616</td>\n",
       "      <td>0.122249</td>\n",
       "      <td>-0.233333</td>\n",
       "      <td>-0.006272</td>\n",
       "      <td>0.000000</td>\n",
       "      <td>0.095985</td>\n",
       "      <td>0.221591</td>\n",
       "    </tr>\n",
       "    <tr>\n",
       "      <th>submissions2</th>\n",
       "      <td>20.0</td>\n",
       "      <td>0.075170</td>\n",
       "      <td>0.103924</td>\n",
       "      <td>-0.102778</td>\n",
       "      <td>0.000000</td>\n",
       "      <td>0.045505</td>\n",
       "      <td>0.144318</td>\n",
       "      <td>0.313333</td>\n",
       "    </tr>\n",
       "  </tbody>\n",
       "</table>\n",
       "</div>"
      ],
      "text/plain": [
       "              count      mean       std       min       25%       50%  \\\n",
       "submissions1   20.0  0.008616  0.122249 -0.233333 -0.006272  0.000000   \n",
       "submissions2   20.0  0.075170  0.103924 -0.102778  0.000000  0.045505   \n",
       "\n",
       "                   75%       max  \n",
       "submissions1  0.095985  0.221591  \n",
       "submissions2  0.144318  0.313333  "
      ]
     },
     "execution_count": 37,
     "metadata": {},
     "output_type": "execute_result"
    }
   ],
   "source": [
    "submission_data_polarity = submission_data_polarity.transpose(copy=False)\n",
    "submission_data_polarity"
   ]
  },
  {
   "cell_type": "code",
   "execution_count": 62,
   "metadata": {},
   "outputs": [
    {
     "data": {
      "image/png": "[encoded data removed]",
      "text/plain": [
       "<Figure size 640x480 with 1 Axes>"
      ]
     },
     "metadata": {},
     "output_type": "display_data"
    }
   ],
   "source": [
    "y_error = submission_data_polarity[\"std\"]#[submission_data_polarity[\"25%\"], submission_data_polarity[\"75%\"]]\n",
    "plt.scatter(submission_data_polarity.index, submission_data_polarity[\"mean\"])\n",
    "plt.errorbar(submission_data_polarity.index, submission_data_polarity[\"mean\"], yerr=y_error, fmt=\"o\")\n",
    "\n",
    "plt.title(\"Polarity of Submissions\")\n",
    "plt.xlabel(\"Submission Posts\")\n",
    "plt.ylabel(\"Polarity\")\n",
    "\n",
    "plt.show()"
   ]
  },
  {
   "cell_type": "code",
   "execution_count": null,
   "metadata": {},
   "outputs": [],
   "source": []
  }
 ],
 "metadata": {
  "kernelspec": {
   "display_name": "Python 3",
   "language": "python",
   "name": "python3"
  },
  "language_info": {
   "codemirror_mode": {
    "name": "ipython",
    "version": 3
   },
   "file_extension": ".py",
   "mimetype": "text/x-python",
   "name": "python",
   "nbconvert_exporter": "python",
   "pygments_lexer": "ipython3",
   "version": "3.8.5"
  },
  "orig_nbformat": 4
 },
 "nbformat": 4,
 "nbformat_minor": 2
}
