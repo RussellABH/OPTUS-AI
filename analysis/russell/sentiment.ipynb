{
 "cells": [
  {
   "cell_type": "code",
   "execution_count": 42,
   "metadata": {},
   "outputs": [
    {
     "data": {
      "text/plain": [
       "<spacytextblob.spacytextblob.SpacyTextBlob at 0x261ae9f76a0>"
      ]
     },
     "execution_count": 42,
     "metadata": {},
     "output_type": "execute_result"
    }
   ],
   "source": [
    "import spacy \n",
    "from spacytextblob.spacytextblob import SpacyTextBlob\n",
    "import pandas as pd\n",
    "\n",
    "nlp = spacy.load('en_core_web_sm')\n",
    "nlp.add_pipe('spacytextblob')"
   ]
  },
  {
   "cell_type": "code",
   "execution_count": 43,
   "metadata": {},
   "outputs": [
    {
     "data": {
      "text/plain": [
       "Index(['author', 'author_created_utc', 'author_flair_css_class',\n",
       "       'author_flair_text', 'author_fullname', 'created_utc', 'domain',\n",
       "       'full_link', 'id', 'is_self', 'media_embed', 'num_comments', 'over_18',\n",
       "       'permalink', 'score', 'selftext', 'subreddit', 'subreddit_id',\n",
       "       'thumbnail', 'title', 'url', 'created', 'edited', 'media',\n",
       "       'author_flair_background_color', 'author_flair_text_color',\n",
       "       'brand_safe', 'contest_mode', 'gilded', 'is_crosspostable',\n",
       "       'is_original_content', 'is_reddit_media_domain', 'is_video',\n",
       "       'link_flair_richtext', 'link_flair_text_color', 'link_flair_type',\n",
       "       'locked', 'no_follow', 'num_crossposts', 'parent_whitelist_status',\n",
       "       'retrieved_on', 'rte_mode', 'secure_media_embed', 'send_replies',\n",
       "       'spoiler', 'stickied', 'subreddit_type', 'suggested_sort',\n",
       "       'whitelist_status', 'author_flair_richtext', 'author_flair_type',\n",
       "       'banned_by'],\n",
       "      dtype='object')"
      ]
     },
     "execution_count": 43,
     "metadata": {},
     "output_type": "execute_result"
    }
   ],
   "source": [
    "df = pd.read_json(\"C:\\\\Users\\\\rharter2\\\\Documents\\\\Git\\\\Optus_data\\\\opiates_submissions1.json\")\n",
    "df.columns"
   ]
  },
  {
   "cell_type": "code",
   "execution_count": 44,
   "metadata": {},
   "outputs": [],
   "source": [
    "df['blob'] = df['selftext'].apply(lambda text: nlp(text)._.blob)\n",
    "df['polarity'] = df['blob'].apply(lambda b: float(b.polarity))\n",
    "df['subjectivity'] = df['blob'].apply(lambda b: float(b.subjectivity))"
   ]
  },
  {
   "cell_type": "code",
   "execution_count": 45,
   "metadata": {},
   "outputs": [
    {
     "data": {
      "text/plain": [
       "count    204.000000\n",
       "mean       0.074709\n",
       "std        0.174002\n",
       "min       -0.300000\n",
       "25%        0.000000\n",
       "50%        0.000000\n",
       "75%        0.132710\n",
       "max        1.000000\n",
       "Name: polarity, dtype: float64"
      ]
     },
     "execution_count": 45,
     "metadata": {},
     "output_type": "execute_result"
    }
   ],
   "source": [
    "# This is how happy/sad\n",
    "display(df['polarity'].describe())\n",
    "\n",
    "# This is the subjectivity\n",
    "display(df['subjectivity'].describe())"
   ]
  },
  {
   "cell_type": "code",
   "execution_count": null,
   "metadata": {},
   "outputs": [],
   "source": []
  },
  {
   "cell_type": "code",
   "execution_count": 46,
   "metadata": {},
   "outputs": [
    {
     "data": {
      "text/plain": [
       "0.9"
      ]
     },
     "execution_count": 46,
     "metadata": {},
     "output_type": "execute_result"
    }
   ],
   "source": [
    "text = 'I had a really horrible day. It was the worst day ever! But every now and then I have a really good day that makes me happy.'\n",
    "nlp(text)._.blob.subjectivity"
   ]
  }
 ],
 "metadata": {
  "kernelspec": {
   "display_name": "Python 3",
   "language": "python",
   "name": "python3"
  },
  "language_info": {
   "codemirror_mode": {
    "name": "ipython",
    "version": 3
   },
   "file_extension": ".py",
   "mimetype": "text/x-python",
   "name": "python",
   "nbconvert_exporter": "python",
   "pygments_lexer": "ipython3",
   "version": "3.10.8"
  },
  "orig_nbformat": 4
 },
 "nbformat": 4,
 "nbformat_minor": 2
}
