{
 "cells": [
  {
   "cell_type": "code",
   "execution_count": 116,
   "metadata": {},
   "outputs": [
    {
     "data": {
      "text/plain": [
       "<spacytextblob.spacytextblob.SpacyTextBlob at 0x261ba67c220>"
      ]
     },
     "execution_count": 116,
     "metadata": {},
     "output_type": "execute_result"
    }
   ],
   "source": [
    "import spacy \n",
    "from spacytextblob.spacytextblob import SpacyTextBlob\n",
    "import pandas as pd\n",
    "\n",
    "nlp = spacy.load('en_core_web_sm')\n",
    "nlp.add_pipe('spacytextblob')"
   ]
  },
  {
   "cell_type": "code",
   "execution_count": 117,
   "metadata": {},
   "outputs": [
    {
     "data": {
      "text/html": [
       "<div>\n",
       "<style scoped>\n",
       "    .dataframe tbody tr th:only-of-type {\n",
       "        vertical-align: middle;\n",
       "    }\n",
       "\n",
       "    .dataframe tbody tr th {\n",
       "        vertical-align: top;\n",
       "    }\n",
       "\n",
       "    .dataframe thead th {\n",
       "        text-align: right;\n",
       "    }\n",
       "</style>\n",
       "<table border=\"1\" class=\"dataframe\">\n",
       "  <thead>\n",
       "    <tr style=\"text-align: right;\">\n",
       "      <th></th>\n",
       "      <th>author</th>\n",
       "      <th>author_created_utc</th>\n",
       "      <th>author_flair_css_class</th>\n",
       "      <th>author_flair_text</th>\n",
       "      <th>author_fullname</th>\n",
       "      <th>created_utc</th>\n",
       "      <th>domain</th>\n",
       "      <th>full_link</th>\n",
       "      <th>id</th>\n",
       "      <th>is_self</th>\n",
       "      <th>...</th>\n",
       "      <th>secure_media_embed</th>\n",
       "      <th>send_replies</th>\n",
       "      <th>spoiler</th>\n",
       "      <th>stickied</th>\n",
       "      <th>subreddit_type</th>\n",
       "      <th>suggested_sort</th>\n",
       "      <th>whitelist_status</th>\n",
       "      <th>author_flair_richtext</th>\n",
       "      <th>author_flair_type</th>\n",
       "      <th>banned_by</th>\n",
       "    </tr>\n",
       "  </thead>\n",
       "  <tbody>\n",
       "    <tr>\n",
       "      <th>0</th>\n",
       "      <td>opiophileeee</td>\n",
       "      <td>1.308850e+09</td>\n",
       "      <td>None</td>\n",
       "      <td>None</td>\n",
       "      <td>t2_5f12h</td>\n",
       "      <td>1308850467</td>\n",
       "      <td>self.opiates</td>\n",
       "      <td>https://www.reddit.com/r/opiates/comments/i7bw...</td>\n",
       "      <td>i7bwt</td>\n",
       "      <td>True</td>\n",
       "      <td>...</td>\n",
       "      <td>None</td>\n",
       "      <td>NaN</td>\n",
       "      <td>NaN</td>\n",
       "      <td>NaN</td>\n",
       "      <td>None</td>\n",
       "      <td>None</td>\n",
       "      <td>None</td>\n",
       "      <td>None</td>\n",
       "      <td>None</td>\n",
       "      <td>None</td>\n",
       "    </tr>\n",
       "    <tr>\n",
       "      <th>1</th>\n",
       "      <td>[deleted]</td>\n",
       "      <td>NaN</td>\n",
       "      <td>None</td>\n",
       "      <td>None</td>\n",
       "      <td>None</td>\n",
       "      <td>1308817178</td>\n",
       "      <td>self.opiates</td>\n",
       "      <td>https://www.reddit.com/r/opiates/comments/i703...</td>\n",
       "      <td>i7032</td>\n",
       "      <td>True</td>\n",
       "      <td>...</td>\n",
       "      <td>None</td>\n",
       "      <td>NaN</td>\n",
       "      <td>NaN</td>\n",
       "      <td>NaN</td>\n",
       "      <td>None</td>\n",
       "      <td>None</td>\n",
       "      <td>None</td>\n",
       "      <td>None</td>\n",
       "      <td>None</td>\n",
       "      <td>None</td>\n",
       "    </tr>\n",
       "    <tr>\n",
       "      <th>2</th>\n",
       "      <td>JOLLYRANCHERR</td>\n",
       "      <td>NaN</td>\n",
       "      <td>None</td>\n",
       "      <td>None</td>\n",
       "      <td>None</td>\n",
       "      <td>1308784434</td>\n",
       "      <td>self.opiates</td>\n",
       "      <td>https://www.reddit.com/r/opiates/comments/i6n9...</td>\n",
       "      <td>i6n95</td>\n",
       "      <td>True</td>\n",
       "      <td>...</td>\n",
       "      <td>None</td>\n",
       "      <td>NaN</td>\n",
       "      <td>NaN</td>\n",
       "      <td>NaN</td>\n",
       "      <td>None</td>\n",
       "      <td>None</td>\n",
       "      <td>None</td>\n",
       "      <td>None</td>\n",
       "      <td>None</td>\n",
       "      <td>None</td>\n",
       "    </tr>\n",
       "    <tr>\n",
       "      <th>3</th>\n",
       "      <td>[deleted]</td>\n",
       "      <td>NaN</td>\n",
       "      <td>None</td>\n",
       "      <td>None</td>\n",
       "      <td>None</td>\n",
       "      <td>1308783178</td>\n",
       "      <td>self.opiates</td>\n",
       "      <td>https://www.reddit.com/r/opiates/comments/i6mp...</td>\n",
       "      <td>i6mpu</td>\n",
       "      <td>True</td>\n",
       "      <td>...</td>\n",
       "      <td>None</td>\n",
       "      <td>NaN</td>\n",
       "      <td>NaN</td>\n",
       "      <td>NaN</td>\n",
       "      <td>None</td>\n",
       "      <td>None</td>\n",
       "      <td>None</td>\n",
       "      <td>None</td>\n",
       "      <td>None</td>\n",
       "      <td>None</td>\n",
       "    </tr>\n",
       "    <tr>\n",
       "      <th>4</th>\n",
       "      <td>freshermotherfucker</td>\n",
       "      <td>1.308668e+09</td>\n",
       "      <td>None</td>\n",
       "      <td>None</td>\n",
       "      <td>t2_5eneb</td>\n",
       "      <td>1308668140</td>\n",
       "      <td>self.opiates</td>\n",
       "      <td>https://www.reddit.com/r/opiates/comments/i5aj...</td>\n",
       "      <td>i5aje</td>\n",
       "      <td>True</td>\n",
       "      <td>...</td>\n",
       "      <td>None</td>\n",
       "      <td>NaN</td>\n",
       "      <td>NaN</td>\n",
       "      <td>NaN</td>\n",
       "      <td>None</td>\n",
       "      <td>None</td>\n",
       "      <td>None</td>\n",
       "      <td>None</td>\n",
       "      <td>None</td>\n",
       "      <td>None</td>\n",
       "    </tr>\n",
       "  </tbody>\n",
       "</table>\n",
       "<p>5 rows × 52 columns</p>\n",
       "</div>"
      ],
      "text/plain": [
       "                author  author_created_utc author_flair_css_class  \\\n",
       "0         opiophileeee        1.308850e+09                   None   \n",
       "1            [deleted]                 NaN                   None   \n",
       "2        JOLLYRANCHERR                 NaN                   None   \n",
       "3            [deleted]                 NaN                   None   \n",
       "4  freshermotherfucker        1.308668e+09                   None   \n",
       "\n",
       "  author_flair_text author_fullname  created_utc        domain  \\\n",
       "0              None        t2_5f12h   1308850467  self.opiates   \n",
       "1              None            None   1308817178  self.opiates   \n",
       "2              None            None   1308784434  self.opiates   \n",
       "3              None            None   1308783178  self.opiates   \n",
       "4              None        t2_5eneb   1308668140  self.opiates   \n",
       "\n",
       "                                           full_link     id  is_self  ...  \\\n",
       "0  https://www.reddit.com/r/opiates/comments/i7bw...  i7bwt     True  ...   \n",
       "1  https://www.reddit.com/r/opiates/comments/i703...  i7032     True  ...   \n",
       "2  https://www.reddit.com/r/opiates/comments/i6n9...  i6n95     True  ...   \n",
       "3  https://www.reddit.com/r/opiates/comments/i6mp...  i6mpu     True  ...   \n",
       "4  https://www.reddit.com/r/opiates/comments/i5aj...  i5aje     True  ...   \n",
       "\n",
       "  secure_media_embed  send_replies  spoiler stickied  subreddit_type  \\\n",
       "0               None           NaN      NaN      NaN            None   \n",
       "1               None           NaN      NaN      NaN            None   \n",
       "2               None           NaN      NaN      NaN            None   \n",
       "3               None           NaN      NaN      NaN            None   \n",
       "4               None           NaN      NaN      NaN            None   \n",
       "\n",
       "  suggested_sort whitelist_status author_flair_richtext author_flair_type  \\\n",
       "0           None             None                  None              None   \n",
       "1           None             None                  None              None   \n",
       "2           None             None                  None              None   \n",
       "3           None             None                  None              None   \n",
       "4           None             None                  None              None   \n",
       "\n",
       "  banned_by  \n",
       "0      None  \n",
       "1      None  \n",
       "2      None  \n",
       "3      None  \n",
       "4      None  \n",
       "\n",
       "[5 rows x 52 columns]"
      ]
     },
     "execution_count": 117,
     "metadata": {},
     "output_type": "execute_result"
    }
   ],
   "source": [
    "dfS = pd.read_json(\"C:\\\\Users\\\\rharter2\\\\Documents\\\\Git\\\\Optus_data\\\\opiates_submissions1.json\")\n",
    "dfC = pd.read_json(\"C:\\\\Users\\\\rharter2\\\\Documents\\\\Git\\\\Optus_data\\\\opiates_comments1.json\")\n",
    "dfS.head()"
   ]
  },
  {
   "cell_type": "markdown",
   "metadata": {},
   "source": [
    "## Doing analysis on submissions"
   ]
  },
  {
   "cell_type": "code",
   "execution_count": 118,
   "metadata": {},
   "outputs": [],
   "source": [
    "# Remove rows with empty values\n",
    "dfS = dfS.loc[dfS['selftext'] != '']\n",
    "dfS.reset_index(drop=True, inplace=True)"
   ]
  },
  {
   "cell_type": "code",
   "execution_count": 119,
   "metadata": {},
   "outputs": [],
   "source": [
    "dfS['blob'] = dfS['selftext'].apply(lambda text: nlp(text)._.blob)\n",
    "dfS['polarity'] = dfS['blob'].apply(lambda b: float(b.polarity))\n",
    "dfS['subjectivity'] = dfS['blob'].apply(lambda b: float(b.subjectivity))"
   ]
  },
  {
   "cell_type": "code",
   "execution_count": 120,
   "metadata": {},
   "outputs": [
    {
     "data": {
      "text/plain": [
       "count    155.000000\n",
       "mean       0.098327\n",
       "std        0.193838\n",
       "min       -0.300000\n",
       "25%        0.000000\n",
       "50%        0.054861\n",
       "75%        0.174975\n",
       "max        1.000000\n",
       "Name: polarity, dtype: float64"
      ]
     },
     "metadata": {},
     "output_type": "display_data"
    },
    {
     "data": {
      "text/plain": [
       "count    155.000000\n",
       "mean       0.405410\n",
       "std        0.250406\n",
       "min        0.000000\n",
       "25%        0.316667\n",
       "50%        0.450000\n",
       "75%        0.549712\n",
       "max        1.000000\n",
       "Name: subjectivity, dtype: float64"
      ]
     },
     "metadata": {},
     "output_type": "display_data"
    }
   ],
   "source": [
    "# This is how happy/sad\n",
    "display(dfS['polarity'].describe())\n",
    "\n",
    "# This is the subjectivity\n",
    "display(dfS['subjectivity'].describe())"
   ]
  },
  {
   "cell_type": "code",
   "execution_count": 121,
   "metadata": {},
   "outputs": [
    {
     "data": {
      "text/plain": [
       "\"I will try to keep this short because I'm really just looking for reassurance. \\n\\nI'm addicted to pain killers (hydrocodone and oxycodone). Currently I have a bottle of vicodin 5/500. I know about cold water extraction but I just need advice on what I've taken already today and that is 10 pills in 12 hours. \\n\\nI've all the sudden come to this realization that I am a dumb ass and my addiction has gotten to this point. My everyday consumption is usually not this much, but my tolerance is definitely up there. \\n\\nI have far exceeded to daily dosage and now I am panic stricken. It doesn't help that I have anxiety and I wouldn't be able to tell the difference between overdose symptoms and a panic attack. Could I die from this? Fall asleep and not wake up? \\n\\nPlease don't make fun of me for over reacting. I'm really freaking out. Can someone please talk to me about this? Thank you so much. \\n\\n**EDIT: I didn't die. It's a new day. Time to be more responsible. Sincerely, thank you to all that helped!**\""
      ]
     },
     "metadata": {},
     "output_type": "display_data"
    },
    {
     "data": {
      "text/plain": [
       "0.08149350649350648"
      ]
     },
     "metadata": {},
     "output_type": "display_data"
    },
    {
     "data": {
      "text/plain": [
       "0.44188311688311693"
      ]
     },
     "metadata": {},
     "output_type": "display_data"
    }
   ],
   "source": [
    "display(dfS.iloc[1]['selftext'])\n",
    "display(dfS.iloc[1]['polarity'])\n",
    "display(dfS.iloc[1]['subjectivity'])"
   ]
  },
  {
   "cell_type": "code",
   "execution_count": null,
   "metadata": {},
   "outputs": [],
   "source": []
  },
  {
   "cell_type": "code",
   "execution_count": 122,
   "metadata": {},
   "outputs": [
    {
     "data": {
      "text/plain": [
       "0.9"
      ]
     },
     "execution_count": 122,
     "metadata": {},
     "output_type": "execute_result"
    }
   ],
   "source": [
    "text = 'I had a really horrible day. It was the worst day ever! But every now and then I have a really good day that makes me happy.'\n",
    "nlp(text)._.blob.subjectivity"
   ]
  }
 ],
 "metadata": {
  "kernelspec": {
   "display_name": "Python 3",
   "language": "python",
   "name": "python3"
  },
  "language_info": {
   "codemirror_mode": {
    "name": "ipython",
    "version": 3
   },
   "file_extension": ".py",
   "mimetype": "text/x-python",
   "name": "python",
   "nbconvert_exporter": "python",
   "pygments_lexer": "ipython3",
   "version": "3.10.8"
  },
  "orig_nbformat": 4
 },
 "nbformat": 4,
 "nbformat_minor": 2
}
