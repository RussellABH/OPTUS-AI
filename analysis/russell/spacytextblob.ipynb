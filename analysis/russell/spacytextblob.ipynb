{
 "cells": [
  {
   "cell_type": "code",
   "execution_count": 1,
   "metadata": {},
   "outputs": [
    {
     "name": "stderr",
     "output_type": "stream",
     "text": [
      "c:\\Users\\rharter2\\AppData\\Local\\Programs\\Python\\Python310\\lib\\site-packages\\tqdm\\auto.py:22: TqdmWarning: IProgress not found. Please update jupyter and ipywidgets. See https://ipywidgets.readthedocs.io/en/stable/user_install.html\n",
      "  from .autonotebook import tqdm as notebook_tqdm\n"
     ]
    },
    {
     "data": {
      "text/plain": [
       "<spacytextblob.spacytextblob.SpacyTextBlob at 0x1b97ce4aa40>"
      ]
     },
     "execution_count": 1,
     "metadata": {},
     "output_type": "execute_result"
    }
   ],
   "source": [
    "import spacy \n",
    "from spacytextblob.spacytextblob import SpacyTextBlob\n",
    "import pandas as pd\n",
    "\n",
    "nlpFast = spacy.load('en_core_web_sm')\n",
    "nlpFast.add_pipe('spacytextblob')\n",
    "\n",
    "# nlpMed = spacy.load('en_core_web_trf')\n",
    "# nlpMed.add_pipe('spacytextblob')\n",
    "\n",
    "# nlpAcc = spacy.load('en_core_web_trf')\n",
    "# nlpAcc.add_pipe('spacytextblob')\n"
   ]
  },
  {
   "cell_type": "code",
   "execution_count": 2,
   "metadata": {},
   "outputs": [
    {
     "data": {
      "text/plain": [
       "['tok2vec', 'tagger', 'parser', 'attribute_ruler', 'lemmatizer', 'ner']"
      ]
     },
     "execution_count": 2,
     "metadata": {},
     "output_type": "execute_result"
    }
   ],
   "source": [
    "# nlpFast.pipe_names\n",
    "nlpFast.select_pipes(disable=['tok2vec','tagger', 'parser', 'attribute_ruler', 'lemmatizer', 'ner'])\n",
    "# nlpMed.select_pipes(disable=['tagger', 'parser', 'attribute_ruler', 'lemmatizer', 'ner'])\n",
    "# nlpAcc.select_pipes(disable=['tagger', 'parser', 'attribute_ruler', 'lemmatizer', 'ner'])\n"
   ]
  },
  {
   "cell_type": "code",
   "execution_count": 3,
   "metadata": {},
   "outputs": [
    {
     "data": {
      "text/plain": [
       "['spacytextblob']"
      ]
     },
     "metadata": {},
     "output_type": "display_data"
    }
   ],
   "source": [
    "display(nlpFast.pipe_names)\n",
    "# display(nlpMed.pipe_names)\n",
    "# display(nlpAcc.pipe_names)"
   ]
  },
  {
   "cell_type": "code",
   "execution_count": 5,
   "metadata": {},
   "outputs": [],
   "source": [
    "# dfS = pd.read_json(\"C:\\\\Users\\\\rharter2\\\\Documents\\\\Git\\\\Optus_data\\\\opiates_submissions1.json\")\n",
    "dfC = pd.read_json(\"C:\\\\Users\\\\rharter2\\\\Documents\\\\Git\\\\Optus_data\\\\reddit\\\\opiates_comments1.json\")\n",
    "# dfC.head()"
   ]
  },
  {
   "cell_type": "code",
   "execution_count": 6,
   "metadata": {},
   "outputs": [
    {
     "data": {
      "text/html": [
       "<div>\n",
       "<style scoped>\n",
       "    .dataframe tbody tr th:only-of-type {\n",
       "        vertical-align: middle;\n",
       "    }\n",
       "\n",
       "    .dataframe tbody tr th {\n",
       "        vertical-align: top;\n",
       "    }\n",
       "\n",
       "    .dataframe thead th {\n",
       "        text-align: right;\n",
       "    }\n",
       "</style>\n",
       "<table border=\"1\" class=\"dataframe\">\n",
       "  <thead>\n",
       "    <tr style=\"text-align: right;\">\n",
       "      <th></th>\n",
       "      <th>author</th>\n",
       "      <th>author_created_utc</th>\n",
       "      <th>author_flair_css_class</th>\n",
       "      <th>author_flair_text</th>\n",
       "      <th>author_fullname</th>\n",
       "      <th>body</th>\n",
       "      <th>controversiality</th>\n",
       "      <th>created_utc</th>\n",
       "      <th>distinguished</th>\n",
       "      <th>gilded</th>\n",
       "      <th>...</th>\n",
       "      <th>parent_id</th>\n",
       "      <th>reply_delay</th>\n",
       "      <th>retrieved_on</th>\n",
       "      <th>score</th>\n",
       "      <th>score_hidden</th>\n",
       "      <th>subreddit</th>\n",
       "      <th>subreddit_id</th>\n",
       "      <th>created</th>\n",
       "      <th>user_removed</th>\n",
       "      <th>edited</th>\n",
       "    </tr>\n",
       "  </thead>\n",
       "  <tbody>\n",
       "    <tr>\n",
       "      <th>0</th>\n",
       "      <td>ENRICOs</td>\n",
       "      <td>1.212326e+09</td>\n",
       "      <td>None</td>\n",
       "      <td>None</td>\n",
       "      <td>t2_35s46</td>\n",
       "      <td>Wrong. Loperamide is an analog of meperidine (...</td>\n",
       "      <td>0</td>\n",
       "      <td>1308887031</td>\n",
       "      <td>None</td>\n",
       "      <td>0</td>\n",
       "      <td>...</td>\n",
       "      <td>t3_i7bwt</td>\n",
       "      <td>36564.0</td>\n",
       "      <td>1427279366</td>\n",
       "      <td>2</td>\n",
       "      <td>False</td>\n",
       "      <td>opiates</td>\n",
       "      <td>t5_2r0y3</td>\n",
       "      <td>1308901431</td>\n",
       "      <td>NaN</td>\n",
       "      <td>NaN</td>\n",
       "    </tr>\n",
       "    <tr>\n",
       "      <th>1</th>\n",
       "      <td>[deleted]</td>\n",
       "      <td>NaN</td>\n",
       "      <td>None</td>\n",
       "      <td>None</td>\n",
       "      <td>None</td>\n",
       "      <td>at bonnaroo. it smelled like flowers but I did...</td>\n",
       "      <td>0</td>\n",
       "      <td>1308881233</td>\n",
       "      <td>None</td>\n",
       "      <td>0</td>\n",
       "      <td>...</td>\n",
       "      <td>t3_g8qw3</td>\n",
       "      <td>8108626.0</td>\n",
       "      <td>1427279124</td>\n",
       "      <td>1</td>\n",
       "      <td>False</td>\n",
       "      <td>opiates</td>\n",
       "      <td>t5_2r0y3</td>\n",
       "      <td>1308895633</td>\n",
       "      <td>NaN</td>\n",
       "      <td>NaN</td>\n",
       "    </tr>\n",
       "    <tr>\n",
       "      <th>2</th>\n",
       "      <td>nvrwastetree</td>\n",
       "      <td>1.291778e+09</td>\n",
       "      <td></td>\n",
       "      <td>Buprenorphine</td>\n",
       "      <td>t2_4lj4t</td>\n",
       "      <td>Lol methadone....abiet old school??</td>\n",
       "      <td>0</td>\n",
       "      <td>1308877576</td>\n",
       "      <td>None</td>\n",
       "      <td>0</td>\n",
       "      <td>...</td>\n",
       "      <td>t1_c21iap8</td>\n",
       "      <td>15926.0</td>\n",
       "      <td>1427278959</td>\n",
       "      <td>1</td>\n",
       "      <td>False</td>\n",
       "      <td>opiates</td>\n",
       "      <td>t5_2r0y3</td>\n",
       "      <td>1308891976</td>\n",
       "      <td>NaN</td>\n",
       "      <td>NaN</td>\n",
       "    </tr>\n",
       "    <tr>\n",
       "      <th>3</th>\n",
       "      <td>ttd</td>\n",
       "      <td>1.298605e+09</td>\n",
       "      <td>None</td>\n",
       "      <td>None</td>\n",
       "      <td>t2_4w05s</td>\n",
       "      <td>Immodium (loperamide) does in fact have activi...</td>\n",
       "      <td>0</td>\n",
       "      <td>1308861650</td>\n",
       "      <td>None</td>\n",
       "      <td>0</td>\n",
       "      <td>...</td>\n",
       "      <td>t3_i7bwt</td>\n",
       "      <td>11183.0</td>\n",
       "      <td>1427278139</td>\n",
       "      <td>1</td>\n",
       "      <td>False</td>\n",
       "      <td>opiates</td>\n",
       "      <td>t5_2r0y3</td>\n",
       "      <td>1308876050</td>\n",
       "      <td>NaN</td>\n",
       "      <td>NaN</td>\n",
       "    </tr>\n",
       "    <tr>\n",
       "      <th>4</th>\n",
       "      <td>nvrwastetree</td>\n",
       "      <td>1.291778e+09</td>\n",
       "      <td></td>\n",
       "      <td>Buprenorphine</td>\n",
       "      <td>t2_4lj4t</td>\n",
       "      <td>Heard of this as well...</td>\n",
       "      <td>0</td>\n",
       "      <td>1308854583</td>\n",
       "      <td>None</td>\n",
       "      <td>0</td>\n",
       "      <td>...</td>\n",
       "      <td>t1_c21h7r4</td>\n",
       "      <td>1357.0</td>\n",
       "      <td>1427277677</td>\n",
       "      <td>1</td>\n",
       "      <td>False</td>\n",
       "      <td>opiates</td>\n",
       "      <td>t5_2r0y3</td>\n",
       "      <td>1308868983</td>\n",
       "      <td>NaN</td>\n",
       "      <td>NaN</td>\n",
       "    </tr>\n",
       "    <tr>\n",
       "      <th>...</th>\n",
       "      <td>...</td>\n",
       "      <td>...</td>\n",
       "      <td>...</td>\n",
       "      <td>...</td>\n",
       "      <td>...</td>\n",
       "      <td>...</td>\n",
       "      <td>...</td>\n",
       "      <td>...</td>\n",
       "      <td>...</td>\n",
       "      <td>...</td>\n",
       "      <td>...</td>\n",
       "      <td>...</td>\n",
       "      <td>...</td>\n",
       "      <td>...</td>\n",
       "      <td>...</td>\n",
       "      <td>...</td>\n",
       "      <td>...</td>\n",
       "      <td>...</td>\n",
       "      <td>...</td>\n",
       "      <td>...</td>\n",
       "      <td>...</td>\n",
       "    </tr>\n",
       "    <tr>\n",
       "      <th>1099</th>\n",
       "      <td>[deleted]</td>\n",
       "      <td>NaN</td>\n",
       "      <td>None</td>\n",
       "      <td>None</td>\n",
       "      <td>None</td>\n",
       "      <td>[deleted]</td>\n",
       "      <td>0</td>\n",
       "      <td>1293859172</td>\n",
       "      <td>None</td>\n",
       "      <td>0</td>\n",
       "      <td>...</td>\n",
       "      <td>t3_ctihm</td>\n",
       "      <td>13784055.0</td>\n",
       "      <td>1426664807</td>\n",
       "      <td>1</td>\n",
       "      <td>False</td>\n",
       "      <td>opiates</td>\n",
       "      <td>t5_2r0y3</td>\n",
       "      <td>1293873572</td>\n",
       "      <td>1.0</td>\n",
       "      <td>NaN</td>\n",
       "    </tr>\n",
       "    <tr>\n",
       "      <th>1100</th>\n",
       "      <td>djspaceace</td>\n",
       "      <td>1.179276e+09</td>\n",
       "      <td>None</td>\n",
       "      <td>None</td>\n",
       "      <td>t2_1r1bk</td>\n",
       "      <td>exactly what I came here to say. These are bar...</td>\n",
       "      <td>0</td>\n",
       "      <td>1293858776</td>\n",
       "      <td>None</td>\n",
       "      <td>0</td>\n",
       "      <td>...</td>\n",
       "      <td>t1_c0vj8bi</td>\n",
       "      <td>NaN</td>\n",
       "      <td>1426664800</td>\n",
       "      <td>1</td>\n",
       "      <td>False</td>\n",
       "      <td>opiates</td>\n",
       "      <td>t5_2r0y3</td>\n",
       "      <td>1293873176</td>\n",
       "      <td>NaN</td>\n",
       "      <td>NaN</td>\n",
       "    </tr>\n",
       "    <tr>\n",
       "      <th>1101</th>\n",
       "      <td>[deleted]</td>\n",
       "      <td>NaN</td>\n",
       "      <td>None</td>\n",
       "      <td>None</td>\n",
       "      <td>None</td>\n",
       "      <td>[deleted]</td>\n",
       "      <td>0</td>\n",
       "      <td>1293857706</td>\n",
       "      <td>None</td>\n",
       "      <td>0</td>\n",
       "      <td>...</td>\n",
       "      <td>t3_disxb</td>\n",
       "      <td>8421160.0</td>\n",
       "      <td>1426664788</td>\n",
       "      <td>1</td>\n",
       "      <td>False</td>\n",
       "      <td>opiates</td>\n",
       "      <td>t5_2r0y3</td>\n",
       "      <td>1293872106</td>\n",
       "      <td>1.0</td>\n",
       "      <td>NaN</td>\n",
       "    </tr>\n",
       "    <tr>\n",
       "      <th>1102</th>\n",
       "      <td>[deleted]</td>\n",
       "      <td>NaN</td>\n",
       "      <td>None</td>\n",
       "      <td>None</td>\n",
       "      <td>None</td>\n",
       "      <td>[deleted]</td>\n",
       "      <td>0</td>\n",
       "      <td>1293857480</td>\n",
       "      <td>None</td>\n",
       "      <td>0</td>\n",
       "      <td>...</td>\n",
       "      <td>t1_c19x8c7</td>\n",
       "      <td>880380.0</td>\n",
       "      <td>1426664784</td>\n",
       "      <td>1</td>\n",
       "      <td>False</td>\n",
       "      <td>opiates</td>\n",
       "      <td>t5_2r0y3</td>\n",
       "      <td>1293871880</td>\n",
       "      <td>1.0</td>\n",
       "      <td>NaN</td>\n",
       "    </tr>\n",
       "    <tr>\n",
       "      <th>1103</th>\n",
       "      <td>[deleted]</td>\n",
       "      <td>NaN</td>\n",
       "      <td>None</td>\n",
       "      <td>None</td>\n",
       "      <td>None</td>\n",
       "      <td>[deleted]</td>\n",
       "      <td>0</td>\n",
       "      <td>1293857358</td>\n",
       "      <td>None</td>\n",
       "      <td>0</td>\n",
       "      <td>...</td>\n",
       "      <td>t3_erhf3</td>\n",
       "      <td>526355.0</td>\n",
       "      <td>1426664782</td>\n",
       "      <td>0</td>\n",
       "      <td>False</td>\n",
       "      <td>opiates</td>\n",
       "      <td>t5_2r0y3</td>\n",
       "      <td>1293871758</td>\n",
       "      <td>1.0</td>\n",
       "      <td>NaN</td>\n",
       "    </tr>\n",
       "  </tbody>\n",
       "</table>\n",
       "<p>1104 rows × 23 columns</p>\n",
       "</div>"
      ],
      "text/plain": [
       "            author  author_created_utc author_flair_css_class  \\\n",
       "0          ENRICOs        1.212326e+09                   None   \n",
       "1        [deleted]                 NaN                   None   \n",
       "2     nvrwastetree        1.291778e+09                          \n",
       "3              ttd        1.298605e+09                   None   \n",
       "4     nvrwastetree        1.291778e+09                          \n",
       "...            ...                 ...                    ...   \n",
       "1099     [deleted]                 NaN                   None   \n",
       "1100    djspaceace        1.179276e+09                   None   \n",
       "1101     [deleted]                 NaN                   None   \n",
       "1102     [deleted]                 NaN                   None   \n",
       "1103     [deleted]                 NaN                   None   \n",
       "\n",
       "     author_flair_text author_fullname  \\\n",
       "0                 None        t2_35s46   \n",
       "1                 None            None   \n",
       "2        Buprenorphine        t2_4lj4t   \n",
       "3                 None        t2_4w05s   \n",
       "4        Buprenorphine        t2_4lj4t   \n",
       "...                ...             ...   \n",
       "1099              None            None   \n",
       "1100              None        t2_1r1bk   \n",
       "1101              None            None   \n",
       "1102              None            None   \n",
       "1103              None            None   \n",
       "\n",
       "                                                   body  controversiality  \\\n",
       "0     Wrong. Loperamide is an analog of meperidine (...                 0   \n",
       "1     at bonnaroo. it smelled like flowers but I did...                 0   \n",
       "2                   Lol methadone....abiet old school??                 0   \n",
       "3     Immodium (loperamide) does in fact have activi...                 0   \n",
       "4                              Heard of this as well...                 0   \n",
       "...                                                 ...               ...   \n",
       "1099                                          [deleted]                 0   \n",
       "1100  exactly what I came here to say. These are bar...                 0   \n",
       "1101                                          [deleted]                 0   \n",
       "1102                                          [deleted]                 0   \n",
       "1103                                          [deleted]                 0   \n",
       "\n",
       "      created_utc distinguished  gilded  ...   parent_id reply_delay  \\\n",
       "0      1308887031          None       0  ...    t3_i7bwt     36564.0   \n",
       "1      1308881233          None       0  ...    t3_g8qw3   8108626.0   \n",
       "2      1308877576          None       0  ...  t1_c21iap8     15926.0   \n",
       "3      1308861650          None       0  ...    t3_i7bwt     11183.0   \n",
       "4      1308854583          None       0  ...  t1_c21h7r4      1357.0   \n",
       "...           ...           ...     ...  ...         ...         ...   \n",
       "1099   1293859172          None       0  ...    t3_ctihm  13784055.0   \n",
       "1100   1293858776          None       0  ...  t1_c0vj8bi         NaN   \n",
       "1101   1293857706          None       0  ...    t3_disxb   8421160.0   \n",
       "1102   1293857480          None       0  ...  t1_c19x8c7    880380.0   \n",
       "1103   1293857358          None       0  ...    t3_erhf3    526355.0   \n",
       "\n",
       "      retrieved_on score  score_hidden  subreddit  subreddit_id     created  \\\n",
       "0       1427279366     2         False    opiates      t5_2r0y3  1308901431   \n",
       "1       1427279124     1         False    opiates      t5_2r0y3  1308895633   \n",
       "2       1427278959     1         False    opiates      t5_2r0y3  1308891976   \n",
       "3       1427278139     1         False    opiates      t5_2r0y3  1308876050   \n",
       "4       1427277677     1         False    opiates      t5_2r0y3  1308868983   \n",
       "...            ...   ...           ...        ...           ...         ...   \n",
       "1099    1426664807     1         False    opiates      t5_2r0y3  1293873572   \n",
       "1100    1426664800     1         False    opiates      t5_2r0y3  1293873176   \n",
       "1101    1426664788     1         False    opiates      t5_2r0y3  1293872106   \n",
       "1102    1426664784     1         False    opiates      t5_2r0y3  1293871880   \n",
       "1103    1426664782     0         False    opiates      t5_2r0y3  1293871758   \n",
       "\n",
       "     user_removed edited  \n",
       "0             NaN    NaN  \n",
       "1             NaN    NaN  \n",
       "2             NaN    NaN  \n",
       "3             NaN    NaN  \n",
       "4             NaN    NaN  \n",
       "...           ...    ...  \n",
       "1099          1.0    NaN  \n",
       "1100          NaN    NaN  \n",
       "1101          1.0    NaN  \n",
       "1102          1.0    NaN  \n",
       "1103          1.0    NaN  \n",
       "\n",
       "[1104 rows x 23 columns]"
      ]
     },
     "execution_count": 6,
     "metadata": {},
     "output_type": "execute_result"
    }
   ],
   "source": [
    "dfC"
   ]
  },
  {
   "cell_type": "markdown",
   "metadata": {},
   "source": [
    "## Doing analysis on submissions"
   ]
  },
  {
   "cell_type": "code",
   "execution_count": 7,
   "metadata": {},
   "outputs": [],
   "source": [
    "# Remove rows with empty values\n",
    "dfC = dfC.loc[(dfC['body'] != '') & (dfC['body'] != '[deleted]') & (dfC['body'] != '[removed]')]\n",
    "dfC.reset_index(drop=True, inplace=True)"
   ]
  },
  {
   "cell_type": "code",
   "execution_count": 15,
   "metadata": {},
   "outputs": [
    {
     "data": {
      "text/plain": [
       "Sentiment(polarity=0.65, subjectivity=0.675)"
      ]
     },
     "execution_count": 15,
     "metadata": {},
     "output_type": "execute_result"
    }
   ],
   "source": [
    "text = \"hello I really love today it's great\"\n",
    "foo = nlpFast(text)\n",
    "foo._.blob.sentiment"
   ]
  },
  {
   "cell_type": "code",
   "execution_count": 16,
   "metadata": {},
   "outputs": [
    {
     "name": "stderr",
     "output_type": "stream",
     "text": [
      "C:\\Users\\rharter2\\AppData\\Local\\Temp\\ipykernel_21572\\2862337421.py:1: SettingWithCopyWarning: \n",
      "A value is trying to be set on a copy of a slice from a DataFrame.\n",
      "Try using .loc[row_indexer,col_indexer] = value instead\n",
      "\n",
      "See the caveats in the documentation: https://pandas.pydata.org/pandas-docs/stable/user_guide/indexing.html#returning-a-view-versus-a-copy\n",
      "  dfC['blobFast'] = dfC['body'].apply(lambda text: nlpFast(text)._.blob)\n",
      "C:\\Users\\rharter2\\AppData\\Local\\Temp\\ipykernel_21572\\2862337421.py:2: SettingWithCopyWarning: \n",
      "A value is trying to be set on a copy of a slice from a DataFrame.\n",
      "Try using .loc[row_indexer,col_indexer] = value instead\n",
      "\n",
      "See the caveats in the documentation: https://pandas.pydata.org/pandas-docs/stable/user_guide/indexing.html#returning-a-view-versus-a-copy\n",
      "  dfC['polarityFast'] = dfC['blobFast'].apply(lambda b: float(b.polarity))\n",
      "C:\\Users\\rharter2\\AppData\\Local\\Temp\\ipykernel_21572\\2862337421.py:3: SettingWithCopyWarning: \n",
      "A value is trying to be set on a copy of a slice from a DataFrame.\n",
      "Try using .loc[row_indexer,col_indexer] = value instead\n",
      "\n",
      "See the caveats in the documentation: https://pandas.pydata.org/pandas-docs/stable/user_guide/indexing.html#returning-a-view-versus-a-copy\n",
      "  dfC['subjectivityFast'] = dfC['blobFast'].apply(lambda b: float(b.subjectivity))\n"
     ]
    }
   ],
   "source": [
    "dfC['blobFast'] = dfC['body'].apply(lambda text: nlpFast(text)._.blob)\n",
    "dfC['polarityFast'] = dfC['blobFast'].apply(lambda b: float(b.polarity))\n",
    "dfC['subjectivityFast'] = dfC['blobFast'].apply(lambda b: float(b.subjectivity))"
   ]
  },
  {
   "cell_type": "code",
   "execution_count": null,
   "metadata": {},
   "outputs": [],
   "source": [
    "# dfC['blobMed'] = dfC['body'].apply(lambda text: nlpMed(text)._.blob)\n",
    "# dfC['polarityMed'] = dfC['blobMed'].apply(lambda b: float(b.polarity))\n",
    "# dfC['subjectivityMed'] = dfC['blobMed'].apply(lambda b: float(b.subjectivity))"
   ]
  },
  {
   "cell_type": "code",
   "execution_count": null,
   "metadata": {},
   "outputs": [],
   "source": [
    "# dfC['blobAcc'] = dfC['body'].apply(lambda text: nlpAcc(text)._.blob)\n",
    "# dfC['polarityAcc'] = dfC['blobAcc'].apply(lambda b: float(b.polarity))\n",
    "# dfC['subjectivityAcc'] = dfC['blobAcc'].apply(lambda b: float(b.subjectivity))"
   ]
  },
  {
   "cell_type": "code",
   "execution_count": null,
   "metadata": {},
   "outputs": [],
   "source": [
    "# # This is how happy/sad\n",
    "# display(dfC['polarity'].describe())\n",
    "\n",
    "# # This is the subjectivity\n",
    "# display(dfC['subjectivity'].describe())"
   ]
  },
  {
   "cell_type": "code",
   "execution_count": null,
   "metadata": {},
   "outputs": [
    {
     "data": {
      "text/plain": [
       "'sm:1.0: Looks awesome. '"
      ]
     },
     "metadata": {},
     "output_type": "display_data"
    },
    {
     "data": {
      "text/plain": [
       "'sm:1.0: I watched the videos, guess I should of read the articles too.  Made perfect sense after I thought about solubility.'"
      ]
     },
     "metadata": {},
     "output_type": "display_data"
    },
    {
     "data": {
      "text/plain": [
       "\"sm:1.0: Damn. That's awesome.\""
      ]
     },
     "metadata": {},
     "output_type": "display_data"
    },
    {
     "data": {
      "text/plain": [
       "\"sm:1.0: OP80s $20 is best I found. Can't get em anymore though. \""
      ]
     },
     "metadata": {},
     "output_type": "display_data"
    },
    {
     "data": {
      "text/plain": [
       "\"sm:1.0: You're welcome!\""
      ]
     },
     "metadata": {},
     "output_type": "display_data"
    },
    {
     "data": {
      "text/plain": [
       "'sm:1.0: Anything of Nowhere by Ride is perfect.'"
      ]
     },
     "metadata": {},
     "output_type": "display_data"
    },
    {
     "data": {
      "text/plain": [
       "'sm:1.0: One of the greatest albums of all time.'"
      ]
     },
     "metadata": {},
     "output_type": "display_data"
    },
    {
     "data": {
      "text/plain": [
       "'sm:1.0: The phoenix album by the warlocks, awesome psychedelic rock, plus two of the songs are about dope'"
      ]
     },
     "metadata": {},
     "output_type": "display_data"
    },
    {
     "data": {
      "text/plain": [
       "'sm:0.9: Works brilliantly with the jitters, and fleeting heart feeling.'"
      ]
     },
     "metadata": {},
     "output_type": "display_data"
    },
    {
     "data": {
      "text/plain": [
       "'sm:0.875: But it just feels so fucking good!'"
      ]
     },
     "metadata": {},
     "output_type": "display_data"
    },
    {
     "data": {
      "text/plain": [
       "'sm:-0.6: Thank you for the blessing. I have another three hours before the time to purchase where I might chicken out.'"
      ]
     },
     "metadata": {},
     "output_type": "display_data"
    },
    {
     "data": {
      "text/plain": [
       "\"sm:-0.6: I've already started that. I'm so fucking scared they will kill me if they find out.\""
      ]
     },
     "metadata": {},
     "output_type": "display_data"
    },
    {
     "data": {
      "text/plain": [
       "\"sm:-0.6083333333333333: The absolute worst thing, apart from the fact that every joint in your body aches like hell, is the creepy, crawley feeling you get, under your skin. It makes you wanna fucking claw your skin off. It's horrible, and you can't make it go away. :(\""
      ]
     },
     "metadata": {},
     "output_type": "display_data"
    },
    {
     "data": {
      "text/plain": [
       "'sm:-0.625: You brown them in the spoon then grind them to a powder, add water, etc. I was so mad when I heard the originals were getting discontinued.'"
      ]
     },
     "metadata": {},
     "output_type": "display_data"
    },
    {
     "data": {
      "text/plain": [
       "\"sm:-0.6999999999999998: Hey guys my before dumped me my family felt bad so they didn't do it. They felt to bad to put me through that to\""
      ]
     },
     "metadata": {},
     "output_type": "display_data"
    },
    {
     "data": {
      "text/plain": [
       "\"sm:-0.7249999999999999: Too bad I don't have any :(\""
      ]
     },
     "metadata": {},
     "output_type": "display_data"
    },
    {
     "data": {
      "text/plain": [
       "'sm:-0.75: $50 for 80mg london ontario\\nused to be 20$ in ottawa :('"
      ]
     },
     "metadata": {},
     "output_type": "display_data"
    },
    {
     "data": {
      "text/plain": [
       "\"sm:-0.75: The severe problem is that the pills contain a polymer that prevent you from extracting the opioids. It doesn't crush up into a powder at ALL, it binds together and forms globs. When you try to integrate it into an aqueous solution it forms a nasty gel that is incredibly difficult to work with.\""
      ]
     },
     "metadata": {},
     "output_type": "display_data"
    },
    {
     "data": {
      "text/plain": [
       "\"sm:-1.0: It's fucking awful on the west coast, shitty tar.\""
      ]
     },
     "metadata": {},
     "output_type": "display_data"
    },
    {
     "data": {
      "text/plain": [
       "'sm:-1.0: migraines are fucking awful.'"
      ]
     },
     "metadata": {},
     "output_type": "display_data"
    }
   ],
   "source": [
    "# Displaying the 5 highest and lowest polarity\n",
    "dfEx = pd.concat([dfC.nlargest(10, 'polarityFast'), dfC.nsmallest(10, 'polarityFast').iloc[::-1]])\n",
    "\n",
    "for i, row in dfEx.iterrows():\n",
    "    display(f\"sm:{row['polarityFast']}: {row['body']}\")"
   ]
  },
  {
   "cell_type": "code",
   "execution_count": null,
   "metadata": {},
   "outputs": [
    {
     "data": {
      "text/plain": [
       "\"I want to be you.\\n\\nDid he cut you off on the oxy30s?  I mean, I'd be happy with the 40mg a day of hydro legally forever but that oxy sounds funner.\""
      ]
     },
     "metadata": {},
     "output_type": "display_data"
    },
    {
     "data": {
      "text/plain": [
       "0.22916666666666666"
      ]
     },
     "metadata": {},
     "output_type": "display_data"
    },
    {
     "data": {
      "text/plain": [
       "[(['mean'], -0.3125, 0.6875, None),\n",
       " (['happy'], 0.8, 1.0, None),\n",
       " (['legally'], 0.2, 0.2, None)]"
      ]
     },
     "metadata": {},
     "output_type": "display_data"
    },
    {
     "data": {
      "text/plain": [
       "Sentiment(polarity=0.22916666666666666, subjectivity=0.6291666666666667)"
      ]
     },
     "execution_count": 46,
     "metadata": {},
     "output_type": "execute_result"
    }
   ],
   "source": [
    "text = dfC['body'].sample(1).iloc[0]\n",
    "# text = 'I had a really horrible day. It was the worst day ever! But every now and then I have a really good day that makes me happy.'\n",
    "res = nlpFast(text)\n",
    "display(text)\n",
    "display(res._.blob.polarity)\n",
    "display(res._.blob.sentiment_assessments.assessments)\n",
    "res._.blob.sentiment"
   ]
  }
 ],
 "metadata": {
  "kernelspec": {
   "display_name": "Python 3",
   "language": "python",
   "name": "python3"
  },
  "language_info": {
   "codemirror_mode": {
    "name": "ipython",
    "version": 3
   },
   "file_extension": ".py",
   "mimetype": "text/x-python",
   "name": "python",
   "nbconvert_exporter": "python",
   "pygments_lexer": "ipython3",
   "version": "3.10.8"
  },
  "orig_nbformat": 4
 },
 "nbformat": 4,
 "nbformat_minor": 2
}
