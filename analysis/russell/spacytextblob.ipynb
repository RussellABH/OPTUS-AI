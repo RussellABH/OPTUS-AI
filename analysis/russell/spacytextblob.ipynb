{
 "cells": [
  {
   "cell_type": "code",
   "execution_count": 36,
   "metadata": {},
   "outputs": [
    {
     "data": {
      "text/plain": [
       "<spacytextblob.spacytextblob.SpacyTextBlob at 0x28122688340>"
      ]
     },
     "execution_count": 36,
     "metadata": {},
     "output_type": "execute_result"
    }
   ],
   "source": [
    "import spacy \n",
    "from spacytextblob.spacytextblob import SpacyTextBlob\n",
    "import pandas as pd\n",
    "\n",
    "nlpFast = spacy.load('en_core_web_sm')\n",
    "nlpFast.add_pipe('spacytextblob')\n",
    "\n",
    "# nlpMed = spacy.load('en_core_web_trf')\n",
    "# nlpMed.add_pipe('spacytextblob')\n",
    "\n",
    "# nlpAcc = spacy.load('en_core_web_trf')\n",
    "# nlpAcc.add_pipe('spacytextblob')\n"
   ]
  },
  {
   "cell_type": "code",
   "execution_count": 37,
   "metadata": {},
   "outputs": [
    {
     "data": {
      "text/plain": [
       "['tok2vec', 'tagger', 'parser', 'attribute_ruler', 'lemmatizer', 'ner']"
      ]
     },
     "execution_count": 37,
     "metadata": {},
     "output_type": "execute_result"
    }
   ],
   "source": [
    "# nlpFast.pipe_names\n",
    "nlpFast.select_pipes(disable=['tok2vec','tagger', 'parser', 'attribute_ruler', 'lemmatizer', 'ner'])\n",
    "# nlpMed.select_pipes(disable=['tagger', 'parser', 'attribute_ruler', 'lemmatizer', 'ner'])\n",
    "# nlpAcc.select_pipes(disable=['tagger', 'parser', 'attribute_ruler', 'lemmatizer', 'ner'])\n"
   ]
  },
  {
   "cell_type": "code",
   "execution_count": 38,
   "metadata": {},
   "outputs": [
    {
     "data": {
      "text/plain": [
       "['spacytextblob']"
      ]
     },
     "metadata": {},
     "output_type": "display_data"
    }
   ],
   "source": [
    "display(nlpFast.pipe_names)\n",
    "# display(nlpMed.pipe_names)\n",
    "# display(nlpAcc.pipe_names)"
   ]
  },
  {
   "cell_type": "code",
   "execution_count": 39,
   "metadata": {},
   "outputs": [],
   "source": [
    "# dfS = pd.read_json(\"C:\\\\Users\\\\rharter2\\\\Documents\\\\Git\\\\Optus_data\\\\opiates_submissions1.json\")\n",
    "dfC = pd.read_json(\"C:\\\\Users\\\\rharter2\\\\Documents\\\\Git\\\\Optus_data\\\\opiates_comments1.json\")\n",
    "# dfC.head()"
   ]
  },
  {
   "cell_type": "markdown",
   "metadata": {},
   "source": [
    "## Doing analysis on submissions"
   ]
  },
  {
   "cell_type": "code",
   "execution_count": 40,
   "metadata": {},
   "outputs": [],
   "source": [
    "# Remove rows with empty values\n",
    "dfC = dfC.loc[(dfC['body'] != '') & (dfC['body'] != '[deleted]') & (dfC['body'] != '[removed]')]\n",
    "dfC.reset_index(drop=True, inplace=True)"
   ]
  },
  {
   "cell_type": "code",
   "execution_count": 41,
   "metadata": {},
   "outputs": [],
   "source": [
    "dfC['blobFast'] = dfC['body'].apply(lambda text: nlpFast(text)._.blob)\n",
    "dfC['polarityFast'] = dfC['blobFast'].apply(lambda b: float(b.polarity))\n",
    "dfC['subjectivityFast'] = dfC['blobFast'].apply(lambda b: float(b.subjectivity))"
   ]
  },
  {
   "cell_type": "code",
   "execution_count": 42,
   "metadata": {},
   "outputs": [],
   "source": [
    "# dfC['blobMed'] = dfC['body'].apply(lambda text: nlpMed(text)._.blob)\n",
    "# dfC['polarityMed'] = dfC['blobMed'].apply(lambda b: float(b.polarity))\n",
    "# dfC['subjectivityMed'] = dfC['blobMed'].apply(lambda b: float(b.subjectivity))"
   ]
  },
  {
   "cell_type": "code",
   "execution_count": 43,
   "metadata": {},
   "outputs": [],
   "source": [
    "# dfC['blobAcc'] = dfC['body'].apply(lambda text: nlpAcc(text)._.blob)\n",
    "# dfC['polarityAcc'] = dfC['blobAcc'].apply(lambda b: float(b.polarity))\n",
    "# dfC['subjectivityAcc'] = dfC['blobAcc'].apply(lambda b: float(b.subjectivity))"
   ]
  },
  {
   "cell_type": "code",
   "execution_count": 44,
   "metadata": {},
   "outputs": [],
   "source": [
    "# # This is how happy/sad\n",
    "# display(dfC['polarity'].describe())\n",
    "\n",
    "# # This is the subjectivity\n",
    "# display(dfC['subjectivity'].describe())"
   ]
  },
  {
   "cell_type": "code",
   "execution_count": 45,
   "metadata": {},
   "outputs": [
    {
     "data": {
      "text/plain": [
       "'sm:1.0: Looks awesome. '"
      ]
     },
     "metadata": {},
     "output_type": "display_data"
    },
    {
     "data": {
      "text/plain": [
       "'sm:1.0: I watched the videos, guess I should of read the articles too.  Made perfect sense after I thought about solubility.'"
      ]
     },
     "metadata": {},
     "output_type": "display_data"
    },
    {
     "data": {
      "text/plain": [
       "\"sm:1.0: Damn. That's awesome.\""
      ]
     },
     "metadata": {},
     "output_type": "display_data"
    },
    {
     "data": {
      "text/plain": [
       "\"sm:1.0: OP80s $20 is best I found. Can't get em anymore though. \""
      ]
     },
     "metadata": {},
     "output_type": "display_data"
    },
    {
     "data": {
      "text/plain": [
       "\"sm:1.0: You're welcome!\""
      ]
     },
     "metadata": {},
     "output_type": "display_data"
    },
    {
     "data": {
      "text/plain": [
       "'sm:1.0: Anything of Nowhere by Ride is perfect.'"
      ]
     },
     "metadata": {},
     "output_type": "display_data"
    },
    {
     "data": {
      "text/plain": [
       "'sm:1.0: One of the greatest albums of all time.'"
      ]
     },
     "metadata": {},
     "output_type": "display_data"
    },
    {
     "data": {
      "text/plain": [
       "'sm:1.0: The phoenix album by the warlocks, awesome psychedelic rock, plus two of the songs are about dope'"
      ]
     },
     "metadata": {},
     "output_type": "display_data"
    },
    {
     "data": {
      "text/plain": [
       "'sm:0.9: Works brilliantly with the jitters, and fleeting heart feeling.'"
      ]
     },
     "metadata": {},
     "output_type": "display_data"
    },
    {
     "data": {
      "text/plain": [
       "'sm:0.875: But it just feels so fucking good!'"
      ]
     },
     "metadata": {},
     "output_type": "display_data"
    },
    {
     "data": {
      "text/plain": [
       "'sm:-0.6: Thank you for the blessing. I have another three hours before the time to purchase where I might chicken out.'"
      ]
     },
     "metadata": {},
     "output_type": "display_data"
    },
    {
     "data": {
      "text/plain": [
       "\"sm:-0.6: I've already started that. I'm so fucking scared they will kill me if they find out.\""
      ]
     },
     "metadata": {},
     "output_type": "display_data"
    },
    {
     "data": {
      "text/plain": [
       "\"sm:-0.6083333333333333: The absolute worst thing, apart from the fact that every joint in your body aches like hell, is the creepy, crawley feeling you get, under your skin. It makes you wanna fucking claw your skin off. It's horrible, and you can't make it go away. :(\""
      ]
     },
     "metadata": {},
     "output_type": "display_data"
    },
    {
     "data": {
      "text/plain": [
       "'sm:-0.625: You brown them in the spoon then grind them to a powder, add water, etc. I was so mad when I heard the originals were getting discontinued.'"
      ]
     },
     "metadata": {},
     "output_type": "display_data"
    },
    {
     "data": {
      "text/plain": [
       "\"sm:-0.6999999999999998: Hey guys my before dumped me my family felt bad so they didn't do it. They felt to bad to put me through that to\""
      ]
     },
     "metadata": {},
     "output_type": "display_data"
    },
    {
     "data": {
      "text/plain": [
       "\"sm:-0.7249999999999999: Too bad I don't have any :(\""
      ]
     },
     "metadata": {},
     "output_type": "display_data"
    },
    {
     "data": {
      "text/plain": [
       "'sm:-0.75: $50 for 80mg london ontario\\nused to be 20$ in ottawa :('"
      ]
     },
     "metadata": {},
     "output_type": "display_data"
    },
    {
     "data": {
      "text/plain": [
       "\"sm:-0.75: The severe problem is that the pills contain a polymer that prevent you from extracting the opioids. It doesn't crush up into a powder at ALL, it binds together and forms globs. When you try to integrate it into an aqueous solution it forms a nasty gel that is incredibly difficult to work with.\""
      ]
     },
     "metadata": {},
     "output_type": "display_data"
    },
    {
     "data": {
      "text/plain": [
       "\"sm:-1.0: It's fucking awful on the west coast, shitty tar.\""
      ]
     },
     "metadata": {},
     "output_type": "display_data"
    },
    {
     "data": {
      "text/plain": [
       "'sm:-1.0: migraines are fucking awful.'"
      ]
     },
     "metadata": {},
     "output_type": "display_data"
    }
   ],
   "source": [
    "# Displaying the 5 highest and lowest polarity\n",
    "dfEx = pd.concat([dfC.nlargest(10, 'polarityFast'), dfC.nsmallest(10, 'polarityFast').iloc[::-1]])\n",
    "\n",
    "for i, row in dfEx.iterrows():\n",
    "    display(f\"sm:{row['polarityFast']}: {row['body']}\")"
   ]
  },
  {
   "cell_type": "code",
   "execution_count": 46,
   "metadata": {},
   "outputs": [
    {
     "data": {
      "text/plain": [
       "\"I want to be you.\\n\\nDid he cut you off on the oxy30s?  I mean, I'd be happy with the 40mg a day of hydro legally forever but that oxy sounds funner.\""
      ]
     },
     "metadata": {},
     "output_type": "display_data"
    },
    {
     "data": {
      "text/plain": [
       "0.22916666666666666"
      ]
     },
     "metadata": {},
     "output_type": "display_data"
    },
    {
     "data": {
      "text/plain": [
       "[(['mean'], -0.3125, 0.6875, None),\n",
       " (['happy'], 0.8, 1.0, None),\n",
       " (['legally'], 0.2, 0.2, None)]"
      ]
     },
     "metadata": {},
     "output_type": "display_data"
    },
    {
     "data": {
      "text/plain": [
       "Sentiment(polarity=0.22916666666666666, subjectivity=0.6291666666666667)"
      ]
     },
     "execution_count": 46,
     "metadata": {},
     "output_type": "execute_result"
    }
   ],
   "source": [
    "text = dfC['body'].sample(1).iloc[0]\n",
    "# text = 'I had a really horrible day. It was the worst day ever! But every now and then I have a really good day that makes me happy.'\n",
    "res = nlpFast(text)\n",
    "display(text)\n",
    "display(res._.blob.polarity)\n",
    "display(res._.blob.sentiment_assessments.assessments)\n",
    "res._.blob.sentiment"
   ]
  }
 ],
 "metadata": {
  "kernelspec": {
   "display_name": "Python 3",
   "language": "python",
   "name": "python3"
  },
  "language_info": {
   "codemirror_mode": {
    "name": "ipython",
    "version": 3
   },
   "file_extension": ".py",
   "mimetype": "text/x-python",
   "name": "python",
   "nbconvert_exporter": "python",
   "pygments_lexer": "ipython3",
   "version": "3.10.8"
  },
  "orig_nbformat": 4
 },
 "nbformat": 4,
 "nbformat_minor": 2
}
