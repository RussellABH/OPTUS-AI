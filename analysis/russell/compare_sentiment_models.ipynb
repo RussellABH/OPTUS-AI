{
 "cells": [
  {
   "cell_type": "markdown",
   "metadata": {},
   "source": [
    "### In this I'm going to compare spacytextbob, spacysentiment, and asent\n",
    "* Looks like all piplines don't care about the built in spacy piplines\n",
    "* asent might care about the size of the model, should text"
   ]
  },
  {
   "cell_type": "code",
   "execution_count": 1,
   "metadata": {},
   "outputs": [
    {
     "name": "stderr",
     "output_type": "stream",
     "text": [
      "c:\\Users\\rharter2\\AppData\\Local\\Programs\\Python\\Python310\\lib\\site-packages\\tqdm\\auto.py:22: TqdmWarning: IProgress not found. Please update jupyter and ipywidgets. See https://ipywidgets.readthedocs.io/en/stable/user_install.html\n",
      "  from .autonotebook import tqdm as notebook_tqdm\n"
     ]
    }
   ],
   "source": [
    "import pandas as pd\n",
    "\n",
    "import spacy \n",
    "from spacytextblob.spacytextblob import SpacyTextBlob\n",
    "import asent\n",
    "import eng_spacysentiment\n"
   ]
  },
  {
   "cell_type": "code",
   "execution_count": 2,
   "metadata": {},
   "outputs": [],
   "source": [
    "\n",
    "nlp = spacy.load('en_core_web_lg')\n",
    "# nlp = spacy.load('en_core_web_sm')\n",
    "nlp.add_pipe('spacytextblob')\n",
    "nlp.add_pipe('sentencizer') # asent\n",
    "nlpSS = eng_spacysentiment.load() # eng_spacysentiment\n"
   ]
  },
  {
   "cell_type": "code",
   "execution_count": 3,
   "metadata": {},
   "outputs": [
    {
     "data": {
      "text/plain": [
       "['spacytextblob', 'sentencizer']"
      ]
     },
     "execution_count": 3,
     "metadata": {},
     "output_type": "execute_result"
    }
   ],
   "source": [
    "nlp.pipe_names\n",
    "nlp.select_pipes(disable=['tok2vec', 'tagger', 'parser', 'attribute_ruler', 'lemmatizer', 'ner'])\n",
    "nlp.pipe_names"
   ]
  },
  {
   "cell_type": "code",
   "execution_count": 4,
   "metadata": {},
   "outputs": [],
   "source": [
    "df = pd.read_json(\"C:\\\\Users\\\\rharter2\\\\Documents\\\\Git\\\\Optus_data\\\\opiates_comments1.json\")\n",
    "df = df.loc[(df['body'] != '') & (df['body'] != '[deleted]') & (df['body'] != '[removed]')]\n",
    "df.reset_index(drop=True, inplace=True)"
   ]
  },
  {
   "cell_type": "code",
   "execution_count": 5,
   "metadata": {},
   "outputs": [],
   "source": [
    "df['spacytextblob'] = df['body'].apply(lambda text: nlp(text)._.blob.polarity)\n",
    "df['asent'] = df['body'].apply(lambda text: nlp(text)._.polarity) # slow but I'm lazy and it's only a few seconds\n",
    "df['spacysentiment'] = df['body'].apply(lambda text: nlpSS(text).cats)\n"
   ]
  },
  {
   "cell_type": "code",
   "execution_count": 6,
   "metadata": {},
   "outputs": [
    {
     "name": "stdout",
     "output_type": "stream",
     "text": [
      "Try 25% to be much more accurate.\n",
      "spacytextblob:0.45000000000000007, asent:0.45000000000000007, spacysentiment:(0.32006773352622986, 0.03283095359802246):\n",
      " ------------------------------\n",
      "\n",
      "If you took 750mg of hydrocodone you'll probably die.\n",
      "spacytextblob:0.0, asent:0.0, spacysentiment:(0.3367825746536255, 0.22813107073307037):\n",
      " ------------------------------\n",
      "\n",
      "When i was using them heavily I paid $0.50 per mg, so $20 for a 40mg which were the most common.\n",
      "\n",
      "Even that was outrageously expensive, heroin was much much cheaper but had to get it from other people.\n",
      "spacytextblob:-0.07083333333333333, asent:-0.07083333333333333, spacysentiment:(0.09569535404443741, 0.008628192357718945):\n",
      " ------------------------------\n",
      "\n",
      "I sure hope you'd already be high before going about that type of application... lols\n",
      "spacytextblob:0.33, asent:0.33, spacysentiment:(0.9341040849685669, 0.046780847012996674):\n",
      " ------------------------------\n",
      "\n",
      "It made my stomach bleed, urgh. I'll be using your technique next time. I've also got co-codamol instead of Nurofen+.\n",
      "spacytextblob:0.0, asent:0.0, spacysentiment:(0.44439032673835754, 0.42698681354522705):\n",
      " ------------------------------\n",
      "\n",
      "I've never used it so I can't say if I agree or disagree, but I appreciate the viewpoint.\n",
      "spacytextblob:0.0, asent:0.0, spacysentiment:(0.8708206415176392, 0.06585898250341415):\n",
      " ------------------------------\n",
      "\n",
      "i actually live in anaheim but my girlfriend has a studio in hollywood, so that's where i spend most of my time\n",
      "spacytextblob:0.3181818181818182, asent:0.3181818181818182, spacysentiment:(0.43134066462516785, 0.3570050597190857):\n",
      " ------------------------------\n",
      "\n",
      "oh man.. it's such a bitch to deal with... if you dont shoot it while it's still warm.. it gels... i've had it gel midway through a shot and i still shot it anyways and obviously it didn't like flow right into the vein... it was so disgustingly painful and gross afterwards.\n",
      "spacytextblob:0.030952380952380953, asent:0.030952380952380953, spacysentiment:(0.12890835106372833, 0.8634198904037476):\n",
      " ------------------------------\n",
      "\n",
      "Will all supermarkets carry the seeds in bulk or should I try a supermarket more oriented towards health food/organic? \n",
      "spacytextblob:0.5, asent:0.5, spacysentiment:(0.6349997520446777, 0.2163807600736618):\n",
      " ------------------------------\n",
      "\n",
      "Have you ever just taken 25mg of diph before dosing dude? There are no deleriant like effects- just greatly increases the nod, and for better or for worse lowers the itching. It's disposable for my nodding play-set hahhahah. \n",
      "spacytextblob:0.3, asent:0.3, spacysentiment:(0.9527800679206848, 0.04713323712348938):\n",
      " ------------------------------\n",
      "\n"
     ]
    }
   ],
   "source": [
    "dfS = df.sample(10)\n",
    "\n",
    "for i, row in dfS.iterrows():\n",
    "    print(f\"{row['body']}\\nspacytextblob:{row['spacytextblob']}, asent:{row['asent']}, spacysentiment:({row['spacysentiment']['positive']}, {row['spacysentiment']['negative']}):\\n ------------------------------\\n\")"
   ]
  }
 ],
 "metadata": {
  "kernelspec": {
   "display_name": "Python 3",
   "language": "python",
   "name": "python3"
  },
  "language_info": {
   "codemirror_mode": {
    "name": "ipython",
    "version": 3
   },
   "file_extension": ".py",
   "mimetype": "text/x-python",
   "name": "python",
   "nbconvert_exporter": "python",
   "pygments_lexer": "ipython3",
   "version": "3.10.8"
  }
 },
 "nbformat": 4,
 "nbformat_minor": 2
}
