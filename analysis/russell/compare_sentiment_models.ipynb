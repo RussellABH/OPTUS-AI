{
 "cells": [
  {
   "cell_type": "markdown",
   "metadata": {},
   "source": [
    "### In this I'm going to compare spacytextbob, spacysentiment, and asent\n",
    "* Looks like all piplines don't care about the built in spacy piplines\n",
    "* asent might care about the size of the model, should text\n",
    "* wait models might matter?"
   ]
  },
  {
   "cell_type": "code",
   "execution_count": 33,
   "metadata": {},
   "outputs": [],
   "source": [
    "import pandas as pd\n",
    "\n",
    "import spacy \n",
    "from spacytextblob.spacytextblob import SpacyTextBlob\n",
    "import asent\n",
    "import eng_spacysentiment\n"
   ]
  },
  {
   "cell_type": "code",
   "execution_count": 34,
   "metadata": {},
   "outputs": [],
   "source": [
    "\n",
    "nlp = spacy.load('en_core_web_trf')\n",
    "# nlp = spacy.load('en_core_web_lg')\n",
    "# nlp = spacy.load('en_core_web_sm')\n",
    "nlp.add_pipe('spacytextblob')\n",
    "nlp.add_pipe('sentencizer') # asent\n",
    "nlpSS = eng_spacysentiment.load() # eng_spacysentiment\n"
   ]
  },
  {
   "cell_type": "code",
   "execution_count": 35,
   "metadata": {},
   "outputs": [
    {
     "data": {
      "text/plain": [
       "['transformer', 'spacytextblob', 'sentencizer']"
      ]
     },
     "execution_count": 35,
     "metadata": {},
     "output_type": "execute_result"
    }
   ],
   "source": [
    "nlp.pipe_names\n",
    "nlp.select_pipes(disable=['transformer', 'tagger', 'parser', 'attribute_ruler', 'lemmatizer', 'ner'])\n",
    "nlp.pipe_names"
   ]
  },
  {
   "cell_type": "code",
   "execution_count": 36,
   "metadata": {},
   "outputs": [],
   "source": [
    "df = pd.read_json(\"C:\\\\Users\\\\rharter2\\\\Documents\\\\Git\\\\Optus_data\\\\opiates_comments1.json\")\n",
    "df = df.loc[(df['body'] != '') & (df['body'] != '[deleted]') & (df['body'] != '[removed]')]\n",
    "df.reset_index(drop=True, inplace=True)"
   ]
  },
  {
   "cell_type": "code",
   "execution_count": 37,
   "metadata": {},
   "outputs": [],
   "source": [
    "df['spacytextblob'] = df['body'].apply(lambda text: nlp(text)._.blob.polarity)\n",
    "df['asent'] = df['body'].apply(lambda text: nlp(text)._.polarity) # slow but I'm lazy and it's only a few seconds\n",
    "df['spacysentiment'] = df['body'].apply(lambda text: nlpSS(text).cats)\n"
   ]
  },
  {
   "cell_type": "code",
   "execution_count": 38,
   "metadata": {},
   "outputs": [
    {
     "name": "stdout",
     "output_type": "stream",
     "text": [
      "Looks awesome. \n",
      "spacytextblob:1.0, asent:1.0, spacysentiment:(0.6195017695426941, 0.14386504888534546):\n",
      " ------------------------------\n",
      "\n",
      "I watched the videos, guess I should of read the articles too.  Made perfect sense after I thought about solubility.\n",
      "spacytextblob:1.0, asent:1.0, spacysentiment:(0.9811609387397766, 0.0025453378912061453):\n",
      " ------------------------------\n",
      "\n",
      "Damn. That's awesome.\n",
      "spacytextblob:1.0, asent:1.0, spacysentiment:(0.4276520609855652, 0.0730644166469574):\n",
      " ------------------------------\n",
      "\n",
      "OP80s $20 is best I found. Can't get em anymore though. \n",
      "spacytextblob:1.0, asent:1.0, spacysentiment:(0.9715069532394409, 0.005517101846635342):\n",
      " ------------------------------\n",
      "\n",
      "You're welcome!\n",
      "spacytextblob:1.0, asent:1.0, spacysentiment:(0.6589643359184265, 0.2625250518321991):\n",
      " ------------------------------\n",
      "\n",
      "Anything of Nowhere by Ride is perfect.\n",
      "spacytextblob:1.0, asent:1.0, spacysentiment:(0.6896704435348511, 0.1434369534254074):\n",
      " ------------------------------\n",
      "\n",
      "One of the greatest albums of all time.\n",
      "spacytextblob:1.0, asent:1.0, spacysentiment:(0.5205553770065308, 0.092705138027668):\n",
      " ------------------------------\n",
      "\n",
      "The phoenix album by the warlocks, awesome psychedelic rock, plus two of the songs are about dope\n",
      "spacytextblob:1.0, asent:1.0, spacysentiment:(0.4916861355304718, 0.024845635518431664):\n",
      " ------------------------------\n",
      "\n",
      "Works brilliantly with the jitters, and fleeting heart feeling.\n",
      "spacytextblob:0.9, asent:0.9, spacysentiment:(0.8271426558494568, 0.12881378829479218):\n",
      " ------------------------------\n",
      "\n",
      "But it just feels so fucking good!\n",
      "spacytextblob:0.875, asent:0.875, spacysentiment:(0.6012465953826904, 0.27829790115356445):\n",
      " ------------------------------\n",
      "\n",
      "Thank you for the blessing. I have another three hours before the time to purchase where I might chicken out.\n",
      "spacytextblob:-0.6, asent:-0.6, spacysentiment:(0.912079930305481, 0.044934965670108795):\n",
      " ------------------------------\n",
      "\n",
      "I've already started that. I'm so fucking scared they will kill me if they find out.\n",
      "spacytextblob:-0.6, asent:-0.6, spacysentiment:(0.007871194742619991, 0.9442669749259949):\n",
      " ------------------------------\n",
      "\n",
      "The absolute worst thing, apart from the fact that every joint in your body aches like hell, is the creepy, crawley feeling you get, under your skin. It makes you wanna fucking claw your skin off. It's horrible, and you can't make it go away. :(\n",
      "spacytextblob:-0.6083333333333333, asent:-0.6083333333333333, spacysentiment:(0.0010639599058777094, 0.9989256262779236):\n",
      " ------------------------------\n",
      "\n",
      "You brown them in the spoon then grind them to a powder, add water, etc. I was so mad when I heard the originals were getting discontinued.\n",
      "spacytextblob:-0.625, asent:-0.625, spacysentiment:(0.017578674480319023, 0.9593691825866699):\n",
      " ------------------------------\n",
      "\n",
      "Hey guys my before dumped me my family felt bad so they didn't do it. They felt to bad to put me through that to\n",
      "spacytextblob:-0.6999999999999998, asent:-0.6999999999999998, spacysentiment:(0.034852784126996994, 0.9635255932807922):\n",
      " ------------------------------\n",
      "\n",
      "Too bad I don't have any :(\n",
      "spacytextblob:-0.7249999999999999, asent:-0.7249999999999999, spacysentiment:(0.1504434496164322, 0.7443841695785522):\n",
      " ------------------------------\n",
      "\n",
      "$50 for 80mg london ontario\n",
      "used to be 20$ in ottawa :(\n",
      "spacytextblob:-0.75, asent:-0.75, spacysentiment:(0.7968935966491699, 0.10622821003198624):\n",
      " ------------------------------\n",
      "\n",
      "The severe problem is that the pills contain a polymer that prevent you from extracting the opioids. It doesn't crush up into a powder at ALL, it binds together and forms globs. When you try to integrate it into an aqueous solution it forms a nasty gel that is incredibly difficult to work with.\n",
      "spacytextblob:-0.75, asent:-0.75, spacysentiment:(0.06621492654085159, 0.6819286942481995):\n",
      " ------------------------------\n",
      "\n",
      "It's fucking awful on the west coast, shitty tar.\n",
      "spacytextblob:-1.0, asent:-1.0, spacysentiment:(0.019838398322463036, 0.6605526804924011):\n",
      " ------------------------------\n",
      "\n",
      "migraines are fucking awful.\n",
      "spacytextblob:-1.0, asent:-1.0, spacysentiment:(0.23035326600074768, 0.506771981716156):\n",
      " ------------------------------\n",
      "\n"
     ]
    }
   ],
   "source": [
    "# Displaying the 5 highest and lowest polarity\n",
    "dfEx = pd.concat([df.nlargest(10, 'spacytextblob'), df.nsmallest(10, 'spacytextblob').iloc[::-1]])\n",
    "# dfS = df.sample(10, random_state=1)\n",
    "\n",
    "for i, row in dfEx.iterrows():\n",
    "    print(f\"{row['body']}\\nspacytextblob:{row['spacytextblob']}, asent:{row['asent']}, spacysentiment:({row['spacysentiment']['positive']}, {row['spacysentiment']['negative']}):\\n ------------------------------\\n\")"
   ]
  },
  {
   "cell_type": "code",
   "execution_count": null,
   "metadata": {},
   "outputs": [],
   "source": []
  }
 ],
 "metadata": {
  "kernelspec": {
   "display_name": "Python 3",
   "language": "python",
   "name": "python3"
  },
  "language_info": {
   "codemirror_mode": {
    "name": "ipython",
    "version": 3
   },
   "file_extension": ".py",
   "mimetype": "text/x-python",
   "name": "python",
   "nbconvert_exporter": "python",
   "pygments_lexer": "ipython3",
   "version": "3.10.8"
  }
 },
 "nbformat": 4,
 "nbformat_minor": 2
}
