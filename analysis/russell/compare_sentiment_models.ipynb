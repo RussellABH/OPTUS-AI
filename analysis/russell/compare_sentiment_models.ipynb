{
 "cells": [
  {
   "cell_type": "markdown",
   "metadata": {},
   "source": [
    "### In this I'm going to compare spacytextbob, spacysentiment, and asent\n",
    "* Looks like all piplines don't care about the built in spacy piplines\n",
    "* asent might care about the size of the model, should text"
   ]
  },
  {
   "cell_type": "code",
   "execution_count": 1,
   "metadata": {},
   "outputs": [
    {
     "name": "stderr",
     "output_type": "stream",
     "text": [
      "c:\\Users\\rharter2\\AppData\\Local\\Programs\\Python\\Python310\\lib\\site-packages\\tqdm\\auto.py:22: TqdmWarning: IProgress not found. Please update jupyter and ipywidgets. See https://ipywidgets.readthedocs.io/en/stable/user_install.html\n",
      "  from .autonotebook import tqdm as notebook_tqdm\n"
     ]
    }
   ],
   "source": [
    "import pandas as pd\n",
    "\n",
    "import spacy \n",
    "from spacytextblob.spacytextblob import SpacyTextBlob\n",
    "import asent\n",
    "import eng_spacysentiment\n"
   ]
  },
  {
   "cell_type": "code",
   "execution_count": 2,
   "metadata": {},
   "outputs": [],
   "source": [
    "\n",
    "nlp = spacy.load('en_core_web_sm')\n",
    "nlp.add_pipe('spacytextblob')\n",
    "nlp.add_pipe('sentencizer') # asent\n",
    "nlpSS = eng_spacysentiment.load() # eng_spacysentiment\n"
   ]
  },
  {
   "cell_type": "code",
   "execution_count": 3,
   "metadata": {},
   "outputs": [
    {
     "data": {
      "text/plain": [
       "['spacytextblob', 'sentencizer']"
      ]
     },
     "execution_count": 3,
     "metadata": {},
     "output_type": "execute_result"
    }
   ],
   "source": [
    "nlp.pipe_names\n",
    "nlp.select_pipes(disable=['tok2vec', 'tagger', 'parser', 'attribute_ruler', 'lemmatizer', 'ner'])\n",
    "nlp.pipe_names"
   ]
  },
  {
   "cell_type": "code",
   "execution_count": 4,
   "metadata": {},
   "outputs": [],
   "source": [
    "df = pd.read_json(\"C:\\\\Users\\\\rharter2\\\\Documents\\\\Git\\\\Optus_data\\\\opiates_comments1.json\")\n",
    "df = df.loc[(df['body'] != '') & (df['body'] != '[deleted]') & (df['body'] != '[removed]')]\n",
    "df.reset_index(drop=True, inplace=True)"
   ]
  },
  {
   "cell_type": "code",
   "execution_count": 5,
   "metadata": {},
   "outputs": [],
   "source": [
    "df['spacytextblob'] = df['body'].apply(lambda text: nlp(text)._.blob.polarity)\n",
    "df['asent'] = df['body'].apply(lambda text: nlp(text)._.polarity) # slow but I'm lazy and it's only a few seconds\n",
    "df['spacysentiment'] = df['body'].apply(lambda text: nlpSS(text).cats)\n"
   ]
  },
  {
   "cell_type": "code",
   "execution_count": 10,
   "metadata": {},
   "outputs": [
    {
     "name": "stdout",
     "output_type": "stream",
     "text": [
      "Actually I think 12mg of hydromorphone insuffulated (OH GOD THE POWDER) and 2mg of xanax may be my favorite high...sweet jesus yes\n",
      "\n",
      "spacytextblob:0.25, asent:0.25, spacysentiment:(0.9999228715896606, 4.414312934386544e-05):\n",
      " ------------------------------\n",
      "\n",
      "american morphine does indeed gel! how the fuck do i get it not to gel?\n",
      "spacytextblob:-0.2, asent:-0.2, spacysentiment:(0.12551338970661163, 0.6853139400482178):\n",
      " ------------------------------\n",
      "\n",
      "250mg is a new number to me, last I read was 325. If that's true then all apap combo opiates need to be reformulated.\n",
      "\n",
      "I get straight oxycodone though so I'm not the best source of this info.\n",
      "spacytextblob:0.3372727272727273, asent:0.3372727272727273, spacysentiment:(0.99998939037323, 4.758363502332941e-06):\n",
      " ------------------------------\n",
      "\n",
      "I felt the same way but they just don't do it for whatever reason. It always starts with them recommending physical therapy (did this in the beginning, actually made the injury substantially worse), then they suggest surgury, then they offer 800mg Ibuprofen or equivalent dose of Naproxen plus a muscle relaxant like skelaxin or flexeril, once you've gone through all that, roughly 2-5 visits with the same doctor then they MIGHT try vicodin but thats as far as I've gotten before I've had to doctor shop again.\n",
      "\n",
      "It really frustrates me to know other people with a similar injury online that are getting 30mg oxycodone when thats what I need, but would be willing to settle on half of that.\n",
      "spacytextblob:-0.02013888888888889, asent:-0.02013888888888889, spacysentiment:(0.9981237053871155, 0.0017222122987732291):\n",
      " ------------------------------\n",
      "\n",
      "Yeah I can *uhh*, assure they get disposed of properly...\n",
      "\n",
      "Really though you said she has a legitimate pain problem, I'd hold onto the drugs until you're sure she won't be needing them. It's tough being a pain patient and addicted to the high, you can't get enough to relieve your pain after awhile and when you finally do decide to stop chasing the high you're left with keeping the sickness at bay and nothing else. I get very minor pain relief from what I'm left with.\n",
      "spacytextblob:0.013842592592592587, asent:0.013842592592592587, spacysentiment:(0.1832749992609024, 0.8167250156402588):\n",
      " ------------------------------\n",
      "\n",
      "You're an idiot! \n",
      "\n",
      "Where did I say your father would watch any surveillance video?\n",
      "\n",
      "If you actually possessed a fifth grade reading level you would have understood that particular point.\n",
      "\n",
      "Grow the fuck up, and quit being a drama queen!\n",
      "\n",
      "If you should actually manage to obtain the script, (without alarming the pharmacist) you should seriously consider taking them all at once...you're too stupid to live! \n",
      "spacytextblob:-0.2662457912457913, asent:-0.2662457912457913, spacysentiment:(0.01157617848366499, 0.9884139895439148):\n",
      " ------------------------------\n",
      "\n",
      "Err, junkie for a few months to a year? Goodluck trying to stop yourself after that long, do you have any idea how quickly your tolerance rises? You would basically have to switch to heroin, and good heroin, for you to be able to keep it up financially wise.\n",
      "spacytextblob:0.33055555555555555, asent:0.33055555555555555, spacysentiment:(0.9128319621086121, 0.0379403717815876):\n",
      " ------------------------------\n",
      "\n",
      "With extensive documentation (that can be readily verified) I really don't see why the hospital wouldn't have one of their doctors write you for your medicine, until you could hook up with a GP, or better yet, a pain specialist not averse to prescribing pain medication as long as he can legally cover his ass should any questions arise.\n",
      "spacytextblob:0.17500000000000002, asent:0.17500000000000002, spacysentiment:(0.5473504662513733, 0.45243316888809204):\n",
      " ------------------------------\n",
      "\n",
      "First of all, putting things up your ass is wonderful. Second of all I'm pretty sure oral is about 60% bioavailable where as rectal is about 90%.\n",
      "spacytextblob:0.4, asent:0.4, spacysentiment:(0.9944445490837097, 0.0051750438287854195):\n",
      " ------------------------------\n",
      "\n",
      "Damn, I got 7.5mg percs and my buddy got 10mg's from the same doc. I have pity for those who only get 5mg vicodin.\n",
      "spacytextblob:-0.03333333333333333, asent:-0.03333333333333333, spacysentiment:(0.9616441130638123, 0.028918005526065826):\n",
      " ------------------------------\n",
      "\n"
     ]
    }
   ],
   "source": [
    "dfS = df.sample(10)\n",
    "\n",
    "for i, row in dfS.iterrows():\n",
    "    print(f\"{row['body']}\\nspacytextblob:{row['spacytextblob']}, asent:{row['asent']}, spacysentiment:({row['spacysentiment']['positive']}, {row['spacysentiment']['negative']}):\\n ------------------------------\\n\")"
   ]
  }
 ],
 "metadata": {
  "kernelspec": {
   "display_name": "Python 3",
   "language": "python",
   "name": "python3"
  },
  "language_info": {
   "codemirror_mode": {
    "name": "ipython",
    "version": 3
   },
   "file_extension": ".py",
   "mimetype": "text/x-python",
   "name": "python",
   "nbconvert_exporter": "python",
   "pygments_lexer": "ipython3",
   "version": "3.10.8"
  }
 },
 "nbformat": 4,
 "nbformat_minor": 2
}
