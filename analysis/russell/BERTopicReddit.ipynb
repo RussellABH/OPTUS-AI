{
 "cells": [
  {
   "cell_type": "markdown",
   "metadata": {},
   "source": [
    "In this I'm going to test BERTopic for topic modeling. It seems to have significant advantages over LDA.\n",
    "\n",
    "Going to just follow a tutorial and use their dataset for now"
   ]
  },
  {
   "cell_type": "code",
   "execution_count": null,
   "metadata": {},
   "outputs": [],
   "source": [
    "from bertopic import BERTopic\n",
    "import pandas as pd\n",
    "import pickle"
   ]
  },
  {
   "cell_type": "code",
   "execution_count": null,
   "metadata": {},
   "outputs": [],
   "source": [
    "# Since BERT uses sentence embeddings in it's process we want the stop words but the removed ones are useless\n",
    "# Testing on this one but it's really small so idk if the topics will be good\n",
    "print(f\"Reading in data\")\n",
    "dfCs = []\n",
    "dfCs.append(pd.read_json(\"C:\\\\Users\\\\rharter2\\\\Documents\\\\Git\\\\Optus_data\\\\reddit\\\\opiates_comments1.json\"))\n",
    "dfCs.append(pd.read_json(\"C:\\\\Users\\\\rharter2\\\\Documents\\\\Git\\\\Optus_data\\\\reddit\\\\opiates_comments2.json\"))\n",
    "dfCs.append(pd.read_json(\"C:\\\\Users\\\\rharter2\\\\Documents\\\\Git\\\\Optus_data\\\\reddit\\\\opiates_comments3.json\"))\n",
    "dfCs.append(pd.read_json(\"C:\\\\Users\\\\rharter2\\\\Documents\\\\Git\\\\Optus_data\\\\reddit\\\\opiates_comments4.json\"))\n",
    "dfCs.append(pd.read_json(\"C:\\\\Users\\\\rharter2\\\\Documents\\\\Git\\\\Optus_data\\\\reddit\\\\opiates_comments5.json\"))\n",
    "dfCs.append(pd.read_json(\"C:\\\\Users\\\\rharter2\\\\Documents\\\\Git\\\\Optus_data\\\\reddit\\\\opiates_comments6.json\"))\n",
    "dfCs.append(pd.read_json(\"C:\\\\Users\\\\rharter2\\\\Documents\\\\Git\\\\Optus_data\\\\reddit\\\\opiates_comments7.json\"))\n",
    "\n",
    "for i in range(len(dfCs)):\n",
    "    print(f\"File {i} shape: {dfCs[i].shape}\")\n",
    "\n"
   ]
  },
  {
   "cell_type": "code",
   "execution_count": null,
   "metadata": {},
   "outputs": [],
   "source": [
    "print(f\"Combining data\")\n",
    "dfC = pd.concat(dfCs)\n",
    "# dfC = pd.concat([dfC, pd.read_json(\"C:\\\\Users\\\\rharter2\\\\Documents\\\\Git\\\\Optus_data\\\\reddit\\\\opiates_comments2.json\")])\n",
    "# dfC = pd.concat([dfC, pd.read_json(\"C:\\\\Users\\\\rharter2\\\\Documents\\\\Git\\\\Optus_data\\\\reddit\\\\opiates_comments3.json\")])\n",
    "# dfC = pd.concat([dfC, pd.read_json(\"C:\\\\Users\\\\rharter2\\\\Documents\\\\Git\\\\Optus_data\\\\reddit\\\\opiates_comments4.json\")])\n",
    "# dfC = pd.concat([dfC, pd.read_json(\"C:\\\\Users\\\\rharter2\\\\Documents\\\\Git\\\\Optus_data\\\\reddit\\\\opiates_comments5.json\")])\n",
    "# dfC = pd.concat([dfC, pd.read_json(\"C:\\\\Users\\\\rharter2\\\\Documents\\\\Git\\\\Optus_data\\\\reddit\\\\opiates_comments6.json\")])\n",
    "# dfC = pd.concat([dfC, pd.read_json(\"C:\\\\Users\\\\rharter2\\\\Documents\\\\Git\\\\Optus_data\\\\reddit\\\\opiates_comments7.json\")])\n"
   ]
  },
  {
   "cell_type": "code",
   "execution_count": null,
   "metadata": {},
   "outputs": [],
   "source": [
    "print(f\"Munging data\")\n",
    "\n",
    "dfC = dfC.loc[(dfC['body'] != '') & (dfC['body'] != '[deleted]') & (dfC['body'] != '[removed]')]\n",
    "dfC.reset_index(drop=True, inplace=True)\n"
   ]
  },
  {
   "cell_type": "code",
   "execution_count": 37,
   "metadata": {},
   "outputs": [
    {
     "name": "stdout",
     "output_type": "stream",
     "text": [
      "sampling data\n"
     ]
    },
    {
     "data": {
      "text/plain": [
       "1134883    That we are!! It's always nice to find people ...\n",
       "773476     I don't use foil. I smoke the tar off of the p...\n",
       "1658265    Brazil..yes its weaker than Tramadol its 5 tim...\n",
       "13618      someone who isn't me. It does nothing as far a...\n",
       "2182275    wow, we get people from literally all over the...\n",
       "                                 ...                        \n",
       "3225307    I still feel like this could be an alternate u...\n",
       "286240     I've never iv'ed opana but I prefer snorted op...\n",
       "2688987    if you've been on subs for a long period of ti...\n",
       "1486657    damn whole weeks paycheck? how much do you get...\n",
       "3422126    where i was living 4 years ago thats whag my d...\n",
       "Name: body, Length: 1000, dtype: object"
      ]
     },
     "metadata": {},
     "output_type": "display_data"
    },
    {
     "data": {
      "text/plain": [
       "1000"
      ]
     },
     "execution_count": 37,
     "metadata": {},
     "output_type": "execute_result"
    }
   ],
   "source": [
    "print(\"sampling data\")\n",
    "dfSample = dfC['body'].sample(1000)\n",
    "data = dfSample.to_list()\n",
    "\n",
    "display(dfSample)\n",
    "len(data)"
   ]
  },
  {
   "cell_type": "code",
   "execution_count": 38,
   "metadata": {},
   "outputs": [],
   "source": [
    "with open(\"data.pkl\", \"wb\") as fOut:\n",
    "    pickle.dump({'data': data},fOut)\n"
   ]
  },
  {
   "cell_type": "code",
   "execution_count": 39,
   "metadata": {},
   "outputs": [
    {
     "data": {
      "text/plain": [
       "1000"
      ]
     },
     "metadata": {},
     "output_type": "display_data"
    }
   ],
   "source": [
    "with open(\"data.pkl\", \"rb\") as fIn:\n",
    "    cache_data = pickle.load(fIn)\n",
    "    data = cache_data['data']\n",
    "    display(len(data))"
   ]
  },
  {
   "cell_type": "code",
   "execution_count": null,
   "metadata": {},
   "outputs": [],
   "source": [
    "# precalculate sentence embeddings so they don't have to be done each time and save them\n",
    "from sentence_transformers import SentenceTransformer\n",
    "embedding_model = SentenceTransformer(\"all-MiniLM-L6-v2\") # fast but pretty accurate embeddings\n",
    "embeddings = embedding_model.encode(data, show_progress_bar=True)\n",
    "\n",
    "with open(\"embeddings.pkl\", \"wb\") as fOut:\n",
    "    pickle.dump({'embeddings-all': embeddings},fOut)\n",
    "\n"
   ]
  },
  {
   "cell_type": "code",
   "execution_count": null,
   "metadata": {},
   "outputs": [],
   "source": [
    "# Load embeddings from file\n",
    "with open(\"embeddings.pkl\", \"rb\") as fIn:\n",
    "    cache_data = pickle.load(fIn)\n",
    "    embeddings = cache_data['embeddings']"
   ]
  },
  {
   "cell_type": "code",
   "execution_count": null,
   "metadata": {},
   "outputs": [],
   "source": [
    "# Default representations. Want to try another representation that has less stopwords\n",
    "topicModel = BERTopic(verbose=True, embedding_model=\"all-MiniLM-L6-v2\") \n",
    "topics, probs = topicModel.fit_transform(data, embeddings)"
   ]
  },
  {
   "cell_type": "code",
   "execution_count": null,
   "metadata": {},
   "outputs": [],
   "source": [
    "# A maybe better representation?\n",
    "from bertopic.representation import KeyBERTInspired\n",
    "\n",
    "topicModel = BERTopic(verbose=True, embedding_model=\"all-MiniLM-L6-v2\", representation_model=KeyBERTInspired()) \n",
    "topics, probs = topicModel.fit_transform(data, embeddings)"
   ]
  },
  {
   "cell_type": "code",
   "execution_count": null,
   "metadata": {},
   "outputs": [],
   "source": [
    "topicModel.save(\"keyBertModelReddit-model\", serialization='safetensors')"
   ]
  },
  {
   "cell_type": "code",
   "execution_count": null,
   "metadata": {},
   "outputs": [],
   "source": [
    "topicModel.get_topic_info()"
   ]
  },
  {
   "cell_type": "code",
   "execution_count": null,
   "metadata": {},
   "outputs": [],
   "source": [
    "topicModel.get_topic(2)"
   ]
  },
  {
   "cell_type": "code",
   "execution_count": null,
   "metadata": {},
   "outputs": [],
   "source": [
    "# Want to get this working\n",
    "topicModel.visualize_distribution(topicModel.probabilities_[0])"
   ]
  },
  {
   "cell_type": "code",
   "execution_count": null,
   "metadata": {},
   "outputs": [],
   "source": [
    "topicModel.visualize_topics()"
   ]
  }
 ],
 "metadata": {
  "kernelspec": {
   "display_name": "Python 3",
   "language": "python",
   "name": "python3"
  },
  "language_info": {
   "codemirror_mode": {
    "name": "ipython",
    "version": 3
   },
   "file_extension": ".py",
   "mimetype": "text/x-python",
   "name": "python",
   "nbconvert_exporter": "python",
   "pygments_lexer": "ipython3",
   "version": "3.10.8"
  }
 },
 "nbformat": 4,
 "nbformat_minor": 2
}
