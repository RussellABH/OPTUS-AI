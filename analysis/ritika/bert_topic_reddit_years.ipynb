{
 "cells": [
  {
   "cell_type": "code",
   "execution_count": 1,
   "metadata": {},
   "outputs": [
    {
     "name": "stderr",
     "output_type": "stream",
     "text": [
      "/Users/ritikabrahmadesam/Documents/College/RCOS/OPTUS-AI/optus-ai-env/lib/python3.8/site-packages/tqdm/auto.py:21: TqdmWarning: IProgress not found. Please update jupyter and ipywidgets. See https://ipywidgets.readthedocs.io/en/stable/user_install.html\n",
      "  from .autonotebook import tqdm as notebook_tqdm\n"
     ]
    }
   ],
   "source": [
    "from bertopic import BERTopic\n",
    "import pandas as pd\n",
    "import pickle\n",
    "from sklearn.datasets import fetch_20newsgroups#\n",
    "import datetime as dt\n"
   ]
  },
  {
   "cell_type": "code",
   "execution_count": 2,
   "metadata": {},
   "outputs": [],
   "source": [
    "submissions1 = pd.read_json(\"/Users/ritikabrahmadesam/Documents/College/RCOS/OPTUS-AI_RAWDATA/opiates_submissions1.json\")\n",
    "submissions2 = pd.read_json(\"/Users/ritikabrahmadesam/Documents/College/RCOS/OPTUS-AI_RAWDATA/opiates_submissions2.json\")\n",
    "submissions3 = pd.read_json(\"/Users/ritikabrahmadesam/Documents/College/RCOS/OPTUS-AI_RAWDATA/opiates_submissions3.json\")\n",
    "submissions4 = pd.read_json(\"/Users/ritikabrahmadesam/Documents/College/RCOS/OPTUS-AI_RAWDATA/opiates_submissions4.json\")\n",
    "submissions5 = pd.read_json(\"/Users/ritikabrahmadesam/Documents/College/RCOS/OPTUS-AI_RAWDATA/opiates_submissions5.json\")\n",
    "submissions6 = pd.read_json(\"/Users/ritikabrahmadesam/Documents/College/RCOS/OPTUS-AI_RAWDATA/opiates_submissions6.json\")\n",
    "submissions7 = pd.read_json(\"/Users/ritikabrahmadesam/Documents/College/RCOS/OPTUS-AI_RAWDATA/opiates_submissions7.json\")"
   ]
  },
  {
   "cell_type": "code",
   "execution_count": 6,
   "metadata": {},
   "outputs": [],
   "source": [
    "submissions = pd.concat([submissions1, submissions2, submissions3, submissions4, submissions5, submissions6, submissions7], ignore_index=True)"
   ]
  },
  {
   "cell_type": "code",
   "execution_count": 12,
   "metadata": {},
   "outputs": [],
   "source": [
    "submissions = submissions.loc[(submissions['selftext'] != '') & (submissions['selftext'] != '[deleted]') & (submissions['selftext'] != '[removed]')]\n",
    "submissions.reset_index(drop=True, inplace=True)"
   ]
  },
  {
   "cell_type": "code",
   "execution_count": 16,
   "metadata": {},
   "outputs": [
    {
     "name": "stdout",
     "output_type": "stream",
     "text": [
      "sampling data\n"
     ]
    },
    {
     "data": {
      "text/plain": [
       "0         Downvote me if you will; but I would like to s...\n",
       "1         I will try to keep this short because I'm real...\n",
       "2         I might be mistaken, but I remember that there...\n",
       "3         Hey,\\n\\nSo I'm in general a curious person and...\n",
       "4         [All of this is purely fictional ;D] - Scroll ...\n",
       "                                ...                        \n",
       "155674    I have never ever tried any opiate other than ...\n",
       "155675    Anyone here have an oxy prescription for moder...\n",
       "155676    this feels like such a novice post but it's ki...\n",
       "155677    Got a bunch of cash waiting to clear into my b...\n",
       "155678    Is this normal? To get both body pain relief a...\n",
       "Name: selftext, Length: 155679, dtype: object"
      ]
     },
     "metadata": {},
     "output_type": "display_data"
    },
    {
     "data": {
      "text/plain": [
       "155679"
      ]
     },
     "execution_count": 16,
     "metadata": {},
     "output_type": "execute_result"
    }
   ],
   "source": [
    "print(\"sampling data\")\n",
    "dfSample = submissions['selftext']\n",
    "data = dfSample.to_list()\n",
    "\n",
    "display(dfSample)\n",
    "len(data)"
   ]
  },
  {
   "cell_type": "code",
   "execution_count": 17,
   "metadata": {},
   "outputs": [],
   "source": [
    "with open(\"data.pkl\", \"wb\") as fOut:\n",
    "    pickle.dump({'data': data},fOut)"
   ]
  },
  {
   "cell_type": "code",
   "execution_count": 18,
   "metadata": {},
   "outputs": [
    {
     "data": {
      "text/plain": [
       "155679"
      ]
     },
     "metadata": {},
     "output_type": "display_data"
    }
   ],
   "source": [
    "with open(\"data.pkl\", \"rb\") as fIn:\n",
    "    cache_data = pickle.load(fIn)\n",
    "    data = cache_data['data']\n",
    "    display(len(data))"
   ]
  },
  {
   "cell_type": "code",
   "execution_count": 19,
   "metadata": {},
   "outputs": [
    {
     "name": "stderr",
     "output_type": "stream",
     "text": [
      "Batches:   9%|▊         | 422/4865 [27:49<5:35:52,  4.54s/it]"
     ]
    }
   ],
   "source": [
    "# precalculate sentence embeddings so they don't have to be done each time and save them\n",
    "from sentence_transformers import SentenceTransformer\n",
    "embedding_model = SentenceTransformer(\"all-MiniLM-L6-v2\") # fast but pretty accurate embeddings\n",
    "embeddings = embedding_model.encode(data, show_progress_bar=True)\n",
    "\n",
    "with open(\"embeddings.pkl\", \"wb\") as fOut:\n",
    "    pickle.dump({'embeddings-only1': embeddings},fOut)"
   ]
  },
  {
   "cell_type": "code",
   "execution_count": null,
   "metadata": {},
   "outputs": [],
   "source": []
  }
 ],
 "metadata": {
  "kernelspec": {
   "display_name": "optus-ai-env",
   "language": "python",
   "name": "python3"
  },
  "language_info": {
   "codemirror_mode": {
    "name": "ipython",
    "version": 3
   },
   "file_extension": ".py",
   "mimetype": "text/x-python",
   "name": "python",
   "nbconvert_exporter": "python",
   "pygments_lexer": "ipython3",
   "version": "3.8.5"
  }
 },
 "nbformat": 4,
 "nbformat_minor": 2
}
