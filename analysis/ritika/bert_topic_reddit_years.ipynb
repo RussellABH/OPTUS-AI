{
 "cells": [
  {
   "cell_type": "code",
   "execution_count": 1,
   "metadata": {},
   "outputs": [
    {
     "ename": "ModuleNotFoundError",
     "evalue": "No module named 'sklearn._loss._loss'",
     "output_type": "error",
     "traceback": [
      "\u001b[0;31m---------------------------------------------------------------------------\u001b[0m",
      "\u001b[0;31mModuleNotFoundError\u001b[0m                       Traceback (most recent call last)",
      "\u001b[1;32m/Users/ritikabrahmadesam/Documents/College/RCOS/OPTUS-AI/analysis/ritika/bert_topic_reddit_years.ipynb Cell 1\u001b[0m line \u001b[0;36m4\n\u001b[1;32m      <a href='vscode-notebook-cell:/Users/ritikabrahmadesam/Documents/College/RCOS/OPTUS-AI/analysis/ritika/bert_topic_reddit_years.ipynb#W0sZmlsZQ%3D%3D?line=1'>2</a>\u001b[0m \u001b[39mimport\u001b[39;00m \u001b[39mdatetime\u001b[39;00m \u001b[39mas\u001b[39;00m \u001b[39mdt\u001b[39;00m\n\u001b[1;32m      <a href='vscode-notebook-cell:/Users/ritikabrahmadesam/Documents/College/RCOS/OPTUS-AI/analysis/ritika/bert_topic_reddit_years.ipynb#W0sZmlsZQ%3D%3D?line=2'>3</a>\u001b[0m \u001b[39mimport\u001b[39;00m \u001b[39mpandas\u001b[39;00m \u001b[39mas\u001b[39;00m \u001b[39mpd\u001b[39;00m\n\u001b[0;32m----> <a href='vscode-notebook-cell:/Users/ritikabrahmadesam/Documents/College/RCOS/OPTUS-AI/analysis/ritika/bert_topic_reddit_years.ipynb#W0sZmlsZQ%3D%3D?line=3'>4</a>\u001b[0m \u001b[39mfrom\u001b[39;00m \u001b[39mbertopic\u001b[39;00m \u001b[39mimport\u001b[39;00m BERTopic\n\u001b[1;32m      <a href='vscode-notebook-cell:/Users/ritikabrahmadesam/Documents/College/RCOS/OPTUS-AI/analysis/ritika/bert_topic_reddit_years.ipynb#W0sZmlsZQ%3D%3D?line=4'>5</a>\u001b[0m \u001b[39mfrom\u001b[39;00m \u001b[39msentence_transformers\u001b[39;00m \u001b[39mimport\u001b[39;00m SentenceTransformer\n\u001b[1;32m      <a href='vscode-notebook-cell:/Users/ritikabrahmadesam/Documents/College/RCOS/OPTUS-AI/analysis/ritika/bert_topic_reddit_years.ipynb#W0sZmlsZQ%3D%3D?line=5'>6</a>\u001b[0m \u001b[39mfrom\u001b[39;00m \u001b[39mbertopic\u001b[39;00m\u001b[39m.\u001b[39;00m\u001b[39mrepresentation\u001b[39;00m \u001b[39mimport\u001b[39;00m KeyBERTInspired\n",
      "File \u001b[0;32m~/Documents/College/RCOS/OPTUS-AI/optus-ai-env/lib/python3.8/site-packages/bertopic/__init__.py:1\u001b[0m\n\u001b[0;32m----> 1\u001b[0m \u001b[39mfrom\u001b[39;00m \u001b[39mbertopic\u001b[39;00m\u001b[39m.\u001b[39;00m\u001b[39m_bertopic\u001b[39;00m \u001b[39mimport\u001b[39;00m BERTopic\n\u001b[1;32m      3\u001b[0m __version__ \u001b[39m=\u001b[39m \u001b[39m\"\u001b[39m\u001b[39m0.15.0\u001b[39m\u001b[39m\"\u001b[39m\n\u001b[1;32m      5\u001b[0m __all__ \u001b[39m=\u001b[39m [\n\u001b[1;32m      6\u001b[0m     \u001b[39m\"\u001b[39m\u001b[39mBERTopic\u001b[39m\u001b[39m\"\u001b[39m,\n\u001b[1;32m      7\u001b[0m ]\n",
      "File \u001b[0;32m~/Documents/College/RCOS/OPTUS-AI/optus-ai-env/lib/python3.8/site-packages/bertopic/_bertopic.py:37\u001b[0m\n\u001b[1;32m     34\u001b[0m \u001b[39mfrom\u001b[39;00m \u001b[39mtyping\u001b[39;00m \u001b[39mimport\u001b[39;00m List, Tuple, Union, Mapping, Any, Callable, Iterable\n\u001b[1;32m     36\u001b[0m \u001b[39m# Models\u001b[39;00m\n\u001b[0;32m---> 37\u001b[0m \u001b[39mimport\u001b[39;00m \u001b[39mhdbscan\u001b[39;00m\n\u001b[1;32m     38\u001b[0m \u001b[39mfrom\u001b[39;00m \u001b[39mumap\u001b[39;00m \u001b[39mimport\u001b[39;00m UMAP\n\u001b[1;32m     39\u001b[0m \u001b[39mfrom\u001b[39;00m \u001b[39msklearn\u001b[39;00m\u001b[39m.\u001b[39;00m\u001b[39mpreprocessing\u001b[39;00m \u001b[39mimport\u001b[39;00m normalize\n",
      "File \u001b[0;32m~/Documents/College/RCOS/OPTUS-AI/optus-ai-env/lib/python3.8/site-packages/hdbscan/__init__.py:1\u001b[0m\n\u001b[0;32m----> 1\u001b[0m \u001b[39mfrom\u001b[39;00m \u001b[39m.\u001b[39;00m\u001b[39mhdbscan_\u001b[39;00m \u001b[39mimport\u001b[39;00m HDBSCAN, hdbscan\n\u001b[1;32m      2\u001b[0m \u001b[39mfrom\u001b[39;00m \u001b[39m.\u001b[39;00m\u001b[39mrobust_single_linkage_\u001b[39;00m \u001b[39mimport\u001b[39;00m RobustSingleLinkage, robust_single_linkage\n\u001b[1;32m      3\u001b[0m \u001b[39mfrom\u001b[39;00m \u001b[39m.\u001b[39;00m\u001b[39mvalidity\u001b[39;00m \u001b[39mimport\u001b[39;00m validity_index\n",
      "File \u001b[0;32m~/Documents/College/RCOS/OPTUS-AI/optus-ai-env/lib/python3.8/site-packages/hdbscan/hdbscan_.py:12\u001b[0m\n\u001b[1;32m     10\u001b[0m \u001b[39mfrom\u001b[39;00m \u001b[39msklearn\u001b[39;00m\u001b[39m.\u001b[39;00m\u001b[39mmetrics\u001b[39;00m \u001b[39mimport\u001b[39;00m pairwise_distances\n\u001b[1;32m     11\u001b[0m \u001b[39mfrom\u001b[39;00m \u001b[39mscipy\u001b[39;00m\u001b[39m.\u001b[39;00m\u001b[39msparse\u001b[39;00m \u001b[39mimport\u001b[39;00m issparse\n\u001b[0;32m---> 12\u001b[0m \u001b[39mfrom\u001b[39;00m \u001b[39msklearn\u001b[39;00m\u001b[39m.\u001b[39;00m\u001b[39mneighbors\u001b[39;00m \u001b[39mimport\u001b[39;00m KDTree, BallTree\n\u001b[1;32m     13\u001b[0m \u001b[39mfrom\u001b[39;00m \u001b[39mjoblib\u001b[39;00m \u001b[39mimport\u001b[39;00m Memory\n\u001b[1;32m     14\u001b[0m \u001b[39mfrom\u001b[39;00m \u001b[39mwarnings\u001b[39;00m \u001b[39mimport\u001b[39;00m warn\n",
      "File \u001b[0;32m~/Documents/College/RCOS/OPTUS-AI/optus-ai-env/lib/python3.8/site-packages/sklearn/neighbors/__init__.py:18\u001b[0m\n\u001b[1;32m     16\u001b[0m \u001b[39mfrom\u001b[39;00m \u001b[39m.\u001b[39;00m\u001b[39m_kde\u001b[39;00m \u001b[39mimport\u001b[39;00m KernelDensity\n\u001b[1;32m     17\u001b[0m \u001b[39mfrom\u001b[39;00m \u001b[39m.\u001b[39;00m\u001b[39m_lof\u001b[39;00m \u001b[39mimport\u001b[39;00m LocalOutlierFactor\n\u001b[0;32m---> 18\u001b[0m \u001b[39mfrom\u001b[39;00m \u001b[39m.\u001b[39;00m\u001b[39m_nca\u001b[39;00m \u001b[39mimport\u001b[39;00m NeighborhoodComponentsAnalysis\n\u001b[1;32m     19\u001b[0m \u001b[39mfrom\u001b[39;00m \u001b[39m.\u001b[39;00m\u001b[39m_nearest_centroid\u001b[39;00m \u001b[39mimport\u001b[39;00m NearestCentroid\n\u001b[1;32m     20\u001b[0m \u001b[39mfrom\u001b[39;00m \u001b[39m.\u001b[39;00m\u001b[39m_regression\u001b[39;00m \u001b[39mimport\u001b[39;00m KNeighborsRegressor, RadiusNeighborsRegressor\n",
      "File \u001b[0;32m~/Documents/College/RCOS/OPTUS-AI/optus-ai-env/lib/python3.8/site-packages/sklearn/neighbors/_nca.py:23\u001b[0m\n\u001b[1;32m     15\u001b[0m \u001b[39mfrom\u001b[39;00m \u001b[39mscipy\u001b[39;00m\u001b[39m.\u001b[39;00m\u001b[39moptimize\u001b[39;00m \u001b[39mimport\u001b[39;00m minimize\n\u001b[1;32m     17\u001b[0m \u001b[39mfrom\u001b[39;00m \u001b[39m.\u001b[39;00m\u001b[39m.\u001b[39;00m\u001b[39mbase\u001b[39;00m \u001b[39mimport\u001b[39;00m (\n\u001b[1;32m     18\u001b[0m     BaseEstimator,\n\u001b[1;32m     19\u001b[0m     ClassNamePrefixFeaturesOutMixin,\n\u001b[1;32m     20\u001b[0m     TransformerMixin,\n\u001b[1;32m     21\u001b[0m     _fit_context,\n\u001b[1;32m     22\u001b[0m )\n\u001b[0;32m---> 23\u001b[0m \u001b[39mfrom\u001b[39;00m \u001b[39m.\u001b[39;00m\u001b[39m.\u001b[39;00m\u001b[39mdecomposition\u001b[39;00m \u001b[39mimport\u001b[39;00m PCA\n\u001b[1;32m     24\u001b[0m \u001b[39mfrom\u001b[39;00m \u001b[39m.\u001b[39;00m\u001b[39m.\u001b[39;00m\u001b[39mexceptions\u001b[39;00m \u001b[39mimport\u001b[39;00m ConvergenceWarning\n\u001b[1;32m     25\u001b[0m \u001b[39mfrom\u001b[39;00m \u001b[39m.\u001b[39;00m\u001b[39m.\u001b[39;00m\u001b[39mmetrics\u001b[39;00m \u001b[39mimport\u001b[39;00m pairwise_distances\n",
      "File \u001b[0;32m~/Documents/College/RCOS/OPTUS-AI/optus-ai-env/lib/python3.8/site-packages/sklearn/decomposition/__init__.py:9\u001b[0m\n\u001b[1;32m      1\u001b[0m \u001b[39m\"\"\"\u001b[39;00m\n\u001b[1;32m      2\u001b[0m \u001b[39mThe :mod:`sklearn.decomposition` module includes matrix decomposition\u001b[39;00m\n\u001b[1;32m      3\u001b[0m \u001b[39malgorithms, including among others PCA, NMF or ICA. Most of the algorithms of\u001b[39;00m\n\u001b[1;32m      4\u001b[0m \u001b[39mthis module can be regarded as dimensionality reduction techniques.\u001b[39;00m\n\u001b[1;32m      5\u001b[0m \u001b[39m\"\"\"\u001b[39;00m\n\u001b[1;32m      8\u001b[0m \u001b[39mfrom\u001b[39;00m \u001b[39m.\u001b[39;00m\u001b[39m.\u001b[39;00m\u001b[39mutils\u001b[39;00m\u001b[39m.\u001b[39;00m\u001b[39mextmath\u001b[39;00m \u001b[39mimport\u001b[39;00m randomized_svd\n\u001b[0;32m----> 9\u001b[0m \u001b[39mfrom\u001b[39;00m \u001b[39m.\u001b[39;00m\u001b[39m_dict_learning\u001b[39;00m \u001b[39mimport\u001b[39;00m (\n\u001b[1;32m     10\u001b[0m     DictionaryLearning,\n\u001b[1;32m     11\u001b[0m     MiniBatchDictionaryLearning,\n\u001b[1;32m     12\u001b[0m     SparseCoder,\n\u001b[1;32m     13\u001b[0m     dict_learning,\n\u001b[1;32m     14\u001b[0m     dict_learning_online,\n\u001b[1;32m     15\u001b[0m     sparse_encode,\n\u001b[1;32m     16\u001b[0m )\n\u001b[1;32m     17\u001b[0m \u001b[39mfrom\u001b[39;00m \u001b[39m.\u001b[39;00m\u001b[39m_factor_analysis\u001b[39;00m \u001b[39mimport\u001b[39;00m FactorAnalysis\n\u001b[1;32m     18\u001b[0m \u001b[39mfrom\u001b[39;00m \u001b[39m.\u001b[39;00m\u001b[39m_fastica\u001b[39;00m \u001b[39mimport\u001b[39;00m FastICA, fastica\n",
      "File \u001b[0;32m~/Documents/College/RCOS/OPTUS-AI/optus-ai-env/lib/python3.8/site-packages/sklearn/decomposition/_dict_learning.py:23\u001b[0m\n\u001b[1;32m     15\u001b[0m \u001b[39mfrom\u001b[39;00m \u001b[39mscipy\u001b[39;00m \u001b[39mimport\u001b[39;00m linalg\n\u001b[1;32m     17\u001b[0m \u001b[39mfrom\u001b[39;00m \u001b[39m.\u001b[39;00m\u001b[39m.\u001b[39;00m\u001b[39mbase\u001b[39;00m \u001b[39mimport\u001b[39;00m (\n\u001b[1;32m     18\u001b[0m     BaseEstimator,\n\u001b[1;32m     19\u001b[0m     ClassNamePrefixFeaturesOutMixin,\n\u001b[1;32m     20\u001b[0m     TransformerMixin,\n\u001b[1;32m     21\u001b[0m     _fit_context,\n\u001b[1;32m     22\u001b[0m )\n\u001b[0;32m---> 23\u001b[0m \u001b[39mfrom\u001b[39;00m \u001b[39m.\u001b[39;00m\u001b[39m.\u001b[39;00m\u001b[39mlinear_model\u001b[39;00m \u001b[39mimport\u001b[39;00m Lars, Lasso, LassoLars, orthogonal_mp_gram\n\u001b[1;32m     24\u001b[0m \u001b[39mfrom\u001b[39;00m \u001b[39m.\u001b[39;00m\u001b[39m.\u001b[39;00m\u001b[39mutils\u001b[39;00m \u001b[39mimport\u001b[39;00m check_array, check_random_state, gen_batches, gen_even_slices\n\u001b[1;32m     25\u001b[0m \u001b[39mfrom\u001b[39;00m \u001b[39m.\u001b[39;00m\u001b[39m.\u001b[39;00m\u001b[39mutils\u001b[39;00m\u001b[39m.\u001b[39;00m\u001b[39m_param_validation\u001b[39;00m \u001b[39mimport\u001b[39;00m Hidden, Interval, StrOptions, validate_params\n",
      "File \u001b[0;32m~/Documents/College/RCOS/OPTUS-AI/optus-ai-env/lib/python3.8/site-packages/sklearn/linear_model/__init__.py:23\u001b[0m\n\u001b[1;32m     10\u001b[0m \u001b[39mfrom\u001b[39;00m \u001b[39m.\u001b[39;00m\u001b[39m_bayes\u001b[39;00m \u001b[39mimport\u001b[39;00m ARDRegression, BayesianRidge\n\u001b[1;32m     11\u001b[0m \u001b[39mfrom\u001b[39;00m \u001b[39m.\u001b[39;00m\u001b[39m_coordinate_descent\u001b[39;00m \u001b[39mimport\u001b[39;00m (\n\u001b[1;32m     12\u001b[0m     ElasticNet,\n\u001b[1;32m     13\u001b[0m     ElasticNetCV,\n\u001b[0;32m   (...)\u001b[0m\n\u001b[1;32m     21\u001b[0m     lasso_path,\n\u001b[1;32m     22\u001b[0m )\n\u001b[0;32m---> 23\u001b[0m \u001b[39mfrom\u001b[39;00m \u001b[39m.\u001b[39;00m\u001b[39m_glm\u001b[39;00m \u001b[39mimport\u001b[39;00m GammaRegressor, PoissonRegressor, TweedieRegressor\n\u001b[1;32m     24\u001b[0m \u001b[39mfrom\u001b[39;00m \u001b[39m.\u001b[39;00m\u001b[39m_huber\u001b[39;00m \u001b[39mimport\u001b[39;00m HuberRegressor\n\u001b[1;32m     25\u001b[0m \u001b[39mfrom\u001b[39;00m \u001b[39m.\u001b[39;00m\u001b[39m_least_angle\u001b[39;00m \u001b[39mimport\u001b[39;00m (\n\u001b[1;32m     26\u001b[0m     Lars,\n\u001b[1;32m     27\u001b[0m     LarsCV,\n\u001b[0;32m   (...)\u001b[0m\n\u001b[1;32m     32\u001b[0m     lars_path_gram,\n\u001b[1;32m     33\u001b[0m )\n",
      "File \u001b[0;32m~/Documents/College/RCOS/OPTUS-AI/optus-ai-env/lib/python3.8/site-packages/sklearn/linear_model/_glm/__init__.py:3\u001b[0m\n\u001b[1;32m      1\u001b[0m \u001b[39m# License: BSD 3 clause\u001b[39;00m\n\u001b[0;32m----> 3\u001b[0m \u001b[39mfrom\u001b[39;00m \u001b[39m.\u001b[39;00m\u001b[39mglm\u001b[39;00m \u001b[39mimport\u001b[39;00m (\n\u001b[1;32m      4\u001b[0m     GammaRegressor,\n\u001b[1;32m      5\u001b[0m     PoissonRegressor,\n\u001b[1;32m      6\u001b[0m     TweedieRegressor,\n\u001b[1;32m      7\u001b[0m     _GeneralizedLinearRegressor,\n\u001b[1;32m      8\u001b[0m )\n\u001b[1;32m     10\u001b[0m __all__ \u001b[39m=\u001b[39m [\n\u001b[1;32m     11\u001b[0m     \u001b[39m\"\u001b[39m\u001b[39m_GeneralizedLinearRegressor\u001b[39m\u001b[39m\"\u001b[39m,\n\u001b[1;32m     12\u001b[0m     \u001b[39m\"\u001b[39m\u001b[39mPoissonRegressor\u001b[39m\u001b[39m\"\u001b[39m,\n\u001b[1;32m     13\u001b[0m     \u001b[39m\"\u001b[39m\u001b[39mGammaRegressor\u001b[39m\u001b[39m\"\u001b[39m,\n\u001b[1;32m     14\u001b[0m     \u001b[39m\"\u001b[39m\u001b[39mTweedieRegressor\u001b[39m\u001b[39m\"\u001b[39m,\n\u001b[1;32m     15\u001b[0m ]\n",
      "File \u001b[0;32m~/Documents/College/RCOS/OPTUS-AI/optus-ai-env/lib/python3.8/site-packages/sklearn/linear_model/_glm/glm.py:14\u001b[0m\n\u001b[1;32m     11\u001b[0m \u001b[39mimport\u001b[39;00m \u001b[39mnumpy\u001b[39;00m \u001b[39mas\u001b[39;00m \u001b[39mnp\u001b[39;00m\n\u001b[1;32m     12\u001b[0m \u001b[39mimport\u001b[39;00m \u001b[39mscipy\u001b[39;00m\u001b[39m.\u001b[39;00m\u001b[39moptimize\u001b[39;00m\n\u001b[0;32m---> 14\u001b[0m \u001b[39mfrom\u001b[39;00m \u001b[39m.\u001b[39;00m\u001b[39m.\u001b[39;00m\u001b[39m.\u001b[39;00m\u001b[39m_loss\u001b[39;00m\u001b[39m.\u001b[39;00m\u001b[39mloss\u001b[39;00m \u001b[39mimport\u001b[39;00m (\n\u001b[1;32m     15\u001b[0m     HalfGammaLoss,\n\u001b[1;32m     16\u001b[0m     HalfPoissonLoss,\n\u001b[1;32m     17\u001b[0m     HalfSquaredError,\n\u001b[1;32m     18\u001b[0m     HalfTweedieLoss,\n\u001b[1;32m     19\u001b[0m     HalfTweedieLossIdentity,\n\u001b[1;32m     20\u001b[0m )\n\u001b[1;32m     21\u001b[0m \u001b[39mfrom\u001b[39;00m \u001b[39m.\u001b[39;00m\u001b[39m.\u001b[39;00m\u001b[39m.\u001b[39;00m\u001b[39mbase\u001b[39;00m \u001b[39mimport\u001b[39;00m BaseEstimator, RegressorMixin, _fit_context\n\u001b[1;32m     22\u001b[0m \u001b[39mfrom\u001b[39;00m \u001b[39m.\u001b[39;00m\u001b[39m.\u001b[39;00m\u001b[39m.\u001b[39;00m\u001b[39mutils\u001b[39;00m \u001b[39mimport\u001b[39;00m check_array\n",
      "File \u001b[0;32m~/Documents/College/RCOS/OPTUS-AI/optus-ai-env/lib/python3.8/site-packages/sklearn/_loss/__init__.py:6\u001b[0m\n\u001b[1;32m      1\u001b[0m \u001b[39m\"\"\"\u001b[39;00m\n\u001b[1;32m      2\u001b[0m \u001b[39mThe :mod:`sklearn._loss` module includes loss function classes suitable for\u001b[39;00m\n\u001b[1;32m      3\u001b[0m \u001b[39mfitting classification and regression tasks.\u001b[39;00m\n\u001b[1;32m      4\u001b[0m \u001b[39m\"\"\"\u001b[39;00m\n\u001b[0;32m----> 6\u001b[0m \u001b[39mfrom\u001b[39;00m \u001b[39m.\u001b[39;00m\u001b[39mloss\u001b[39;00m \u001b[39mimport\u001b[39;00m (\n\u001b[1;32m      7\u001b[0m     AbsoluteError,\n\u001b[1;32m      8\u001b[0m     HalfBinomialLoss,\n\u001b[1;32m      9\u001b[0m     HalfGammaLoss,\n\u001b[1;32m     10\u001b[0m     HalfMultinomialLoss,\n\u001b[1;32m     11\u001b[0m     HalfPoissonLoss,\n\u001b[1;32m     12\u001b[0m     HalfSquaredError,\n\u001b[1;32m     13\u001b[0m     HalfTweedieLoss,\n\u001b[1;32m     14\u001b[0m     HalfTweedieLossIdentity,\n\u001b[1;32m     15\u001b[0m     HuberLoss,\n\u001b[1;32m     16\u001b[0m     PinballLoss,\n\u001b[1;32m     17\u001b[0m )\n\u001b[1;32m     19\u001b[0m __all__ \u001b[39m=\u001b[39m [\n\u001b[1;32m     20\u001b[0m     \u001b[39m\"\u001b[39m\u001b[39mHalfSquaredError\u001b[39m\u001b[39m\"\u001b[39m,\n\u001b[1;32m     21\u001b[0m     \u001b[39m\"\u001b[39m\u001b[39mAbsoluteError\u001b[39m\u001b[39m\"\u001b[39m,\n\u001b[0;32m   (...)\u001b[0m\n\u001b[1;32m     29\u001b[0m     \u001b[39m\"\u001b[39m\u001b[39mHalfMultinomialLoss\u001b[39m\u001b[39m\"\u001b[39m,\n\u001b[1;32m     30\u001b[0m ]\n",
      "File \u001b[0;32m~/Documents/College/RCOS/OPTUS-AI/optus-ai-env/lib/python3.8/site-packages/sklearn/_loss/loss.py:25\u001b[0m\n\u001b[1;32m     23\u001b[0m \u001b[39mfrom\u001b[39;00m \u001b[39m.\u001b[39;00m\u001b[39m.\u001b[39;00m\u001b[39mutils\u001b[39;00m \u001b[39mimport\u001b[39;00m check_scalar\n\u001b[1;32m     24\u001b[0m \u001b[39mfrom\u001b[39;00m \u001b[39m.\u001b[39;00m\u001b[39m.\u001b[39;00m\u001b[39mutils\u001b[39;00m\u001b[39m.\u001b[39;00m\u001b[39mstats\u001b[39;00m \u001b[39mimport\u001b[39;00m _weighted_percentile\n\u001b[0;32m---> 25\u001b[0m \u001b[39mfrom\u001b[39;00m \u001b[39m.\u001b[39;00m\u001b[39m_loss\u001b[39;00m \u001b[39mimport\u001b[39;00m (\n\u001b[1;32m     26\u001b[0m     CyAbsoluteError,\n\u001b[1;32m     27\u001b[0m     CyExponentialLoss,\n\u001b[1;32m     28\u001b[0m     CyHalfBinomialLoss,\n\u001b[1;32m     29\u001b[0m     CyHalfGammaLoss,\n\u001b[1;32m     30\u001b[0m     CyHalfMultinomialLoss,\n\u001b[1;32m     31\u001b[0m     CyHalfPoissonLoss,\n\u001b[1;32m     32\u001b[0m     CyHalfSquaredError,\n\u001b[1;32m     33\u001b[0m     CyHalfTweedieLoss,\n\u001b[1;32m     34\u001b[0m     CyHalfTweedieLossIdentity,\n\u001b[1;32m     35\u001b[0m     CyHuberLoss,\n\u001b[1;32m     36\u001b[0m     CyPinballLoss,\n\u001b[1;32m     37\u001b[0m )\n\u001b[1;32m     38\u001b[0m \u001b[39mfrom\u001b[39;00m \u001b[39m.\u001b[39;00m\u001b[39mlink\u001b[39;00m \u001b[39mimport\u001b[39;00m (\n\u001b[1;32m     39\u001b[0m     HalfLogitLink,\n\u001b[1;32m     40\u001b[0m     IdentityLink,\n\u001b[0;32m   (...)\u001b[0m\n\u001b[1;32m     44\u001b[0m     MultinomialLogit,\n\u001b[1;32m     45\u001b[0m )\n\u001b[1;32m     48\u001b[0m \u001b[39m# Note: The shape of raw_prediction for multiclass classifications are\u001b[39;00m\n\u001b[1;32m     49\u001b[0m \u001b[39m# - GradientBoostingClassifier: (n_samples, n_classes)\u001b[39;00m\n\u001b[1;32m     50\u001b[0m \u001b[39m# - HistGradientBoostingClassifier: (n_classes, n_samples)\u001b[39;00m\n\u001b[0;32m   (...)\u001b[0m\n\u001b[1;32m     64\u001b[0m \u001b[39m# mentioned Cython edge case and have easier to understand code (which method calls\u001b[39;00m\n\u001b[1;32m     65\u001b[0m \u001b[39m# which code).\u001b[39;00m\n",
      "\u001b[0;31mModuleNotFoundError\u001b[0m: No module named 'sklearn._loss._loss'"
     ]
    }
   ],
   "source": [
    "import pickle\n",
    "import datetime as dt\n",
    "import pandas as pd\n",
    "from bertopic import BERTopic\n",
    "from sentence_transformers import SentenceTransformer\n",
    "from bertopic.representation import KeyBERTInspired"
   ]
  },
  {
   "cell_type": "markdown",
   "metadata": {},
   "source": [
    "### Store and Preprocess Data"
   ]
  },
  {
   "cell_type": "code",
   "execution_count": 2,
   "metadata": {},
   "outputs": [],
   "source": [
    "submissions1 = pd.read_json(\"/Users/ritikabrahmadesam/Documents/College/RCOS/OPTUS-AI_RAWDATA/opiates_submissions1.json\")\n",
    "submissions2 = pd.read_json(\"/Users/ritikabrahmadesam/Documents/College/RCOS/OPTUS-AI_RAWDATA/opiates_submissions2.json\")\n",
    "submissions3 = pd.read_json(\"/Users/ritikabrahmadesam/Documents/College/RCOS/OPTUS-AI_RAWDATA/opiates_submissions3.json\")\n",
    "submissions4 = pd.read_json(\"/Users/ritikabrahmadesam/Documents/College/RCOS/OPTUS-AI_RAWDATA/opiates_submissions4.json\")\n",
    "submissions5 = pd.read_json(\"/Users/ritikabrahmadesam/Documents/College/RCOS/OPTUS-AI_RAWDATA/opiates_submissions5.json\")\n",
    "submissions6 = pd.read_json(\"/Users/ritikabrahmadesam/Documents/College/RCOS/OPTUS-AI_RAWDATA/opiates_submissions6.json\")\n",
    "submissions7 = pd.read_json(\"/Users/ritikabrahmadesam/Documents/College/RCOS/OPTUS-AI_RAWDATA/opiates_submissions7.json\")"
   ]
  },
  {
   "cell_type": "code",
   "execution_count": 14,
   "metadata": {},
   "outputs": [],
   "source": [
    "submissions['selftext'].to_csv(\"data_find\")"
   ]
  },
  {
   "cell_type": "code",
   "execution_count": 26,
   "metadata": {},
   "outputs": [
    {
     "name": "stdout",
     "output_type": "stream",
     "text": [
      "29108532\n",
      "17624970\n"
     ]
    }
   ],
   "source": [
    "submissions = pd.concat([submissions1, submissions2, submissions3, submissions4, submissions5, submissions6, submissions7], ignore_index=True)\n",
    "print(submissions.size)\n",
    "submissions = submissions.loc[(submissions['selftext'] != '') & (submissions['selftext'] != '[deleted]') & (submissions['selftext'] != '[removed]')]\n",
    "submissions.dropna()\n",
    "submissions.reset_index(drop=True, inplace=True)\n",
    "mask = submissions['selftext'].str.len() >=1\n",
    "submissions= submissions.loc[mask]\n",
    "#posts['selftext'] = posts['title'].astype('str')\n",
    "print(submissions.size)\n"
   ]
  },
  {
   "cell_type": "code",
   "execution_count": 28,
   "metadata": {},
   "outputs": [],
   "source": [
    "submissions['created_utc'] = submissions['created_utc'].apply(lambda date: dt.datetime.fromtimestamp(date))\n",
    "submissions = submissions.sort_values(by='created_utc', ascending=True)\n",
    "years =set(submissions['created_utc'].dt.year.to_list())"
   ]
  },
  {
   "cell_type": "markdown",
   "metadata": {},
   "source": [
    "### Calculate Topics by Years"
   ]
  },
  {
   "cell_type": "code",
   "execution_count": 29,
   "metadata": {},
   "outputs": [
    {
     "name": "stdout",
     "output_type": "stream",
     "text": [
      "2016\n",
      "sampling data\n"
     ]
    },
    {
     "name": "stderr",
     "output_type": "stream",
     "text": [
      "Batches: 100%|██████████| 94/94 [02:32<00:00,  1.62s/it]\n"
     ]
    },
    {
     "name": "stdout",
     "output_type": "stream",
     "text": [
      "2017\n",
      "sampling data\n"
     ]
    },
    {
     "name": "stderr",
     "output_type": "stream",
     "text": [
      "Batches: 100%|██████████| 94/94 [02:22<00:00,  1.51s/it]\n"
     ]
    },
    {
     "name": "stdout",
     "output_type": "stream",
     "text": [
      "2018\n",
      "sampling data\n"
     ]
    },
    {
     "name": "stderr",
     "output_type": "stream",
     "text": [
      "Batches: 100%|██████████| 94/94 [02:15<00:00,  1.45s/it]\n"
     ]
    },
    {
     "name": "stdout",
     "output_type": "stream",
     "text": [
      "2019\n",
      "sampling data\n"
     ]
    },
    {
     "name": "stderr",
     "output_type": "stream",
     "text": [
      "Batches: 100%|██████████| 94/94 [02:00<00:00,  1.29s/it]\n"
     ]
    },
    {
     "name": "stdout",
     "output_type": "stream",
     "text": [
      "2020\n",
      "sampling data\n"
     ]
    },
    {
     "name": "stderr",
     "output_type": "stream",
     "text": [
      "Batches: 100%|██████████| 94/94 [02:06<00:00,  1.34s/it]\n"
     ]
    },
    {
     "name": "stdout",
     "output_type": "stream",
     "text": [
      "2021\n",
      "sampling data\n"
     ]
    },
    {
     "name": "stderr",
     "output_type": "stream",
     "text": [
      "Batches: 100%|██████████| 94/94 [01:57<00:00,  1.25s/it]\n"
     ]
    },
    {
     "name": "stdout",
     "output_type": "stream",
     "text": [
      "2022\n",
      "sampling data\n"
     ]
    },
    {
     "name": "stderr",
     "output_type": "stream",
     "text": [
      "Batches: 100%|██████████| 94/94 [01:47<00:00,  1.14s/it]\n"
     ]
    },
    {
     "name": "stdout",
     "output_type": "stream",
     "text": [
      "2010\n",
      "sampling data\n"
     ]
    },
    {
     "name": "stderr",
     "output_type": "stream",
     "text": [
      "Batches: 100%|██████████| 2/2 [00:03<00:00,  1.55s/it]\n"
     ]
    },
    {
     "name": "stdout",
     "output_type": "stream",
     "text": [
      "2011\n",
      "sampling data\n"
     ]
    },
    {
     "name": "stderr",
     "output_type": "stream",
     "text": [
      "Batches: 100%|██████████| 13/13 [00:20<00:00,  1.58s/it]\n"
     ]
    },
    {
     "name": "stdout",
     "output_type": "stream",
     "text": [
      "2012\n",
      "sampling data\n"
     ]
    },
    {
     "name": "stderr",
     "output_type": "stream",
     "text": [
      "Batches: 100%|██████████| 94/94 [02:11<00:00,  1.40s/it]\n"
     ]
    },
    {
     "name": "stdout",
     "output_type": "stream",
     "text": [
      "2013\n",
      "sampling data\n"
     ]
    },
    {
     "name": "stderr",
     "output_type": "stream",
     "text": [
      "Batches: 100%|██████████| 1/1 [00:00<00:00,  1.74it/s]\n"
     ]
    },
    {
     "name": "stdout",
     "output_type": "stream",
     "text": [
      "2014\n",
      "sampling data\n"
     ]
    },
    {
     "name": "stderr",
     "output_type": "stream",
     "text": [
      "Batches: 100%|██████████| 94/94 [02:16<00:00,  1.45s/it]\n"
     ]
    },
    {
     "name": "stdout",
     "output_type": "stream",
     "text": [
      "2015\n",
      "sampling data\n"
     ]
    },
    {
     "name": "stderr",
     "output_type": "stream",
     "text": [
      "Batches: 100%|██████████| 94/94 [02:17<00:00,  1.47s/it]\n"
     ]
    }
   ],
   "source": [
    "if 0:\n",
    "    print(year)\n",
    "    sample_number = 3000\n",
    "    posts = submissions[submissions['created_utc'].dt.year==year]\n",
    "\n",
    "\n",
    "    print(\"sampling data\")\n",
    "    if(posts.shape[0] < 3000):\n",
    "        sample_number = posts.shape[0]\n",
    "    dfSample = posts['selftext'].sample(sample_number)\n",
    "    data = dfSample.to_list()\n",
    "\n",
    "    embedding_model = SentenceTransformer(\"all-MiniLM-L6-v2\") # fast but pretty accurate embeddings\n",
    "    embeddings = embedding_model.encode(data, show_progress_bar=True)\n",
    "    with open(str(year) + \"embeddings.pkl\", \"wb\") as fOut:\n",
    "        pickle.dump({str(year)+'embeddings-only1': embeddings},fOut)"
   ]
  },
  {
   "cell_type": "code",
   "execution_count": 45,
   "metadata": {},
   "outputs": [
    {
     "name": "stdout",
     "output_type": "stream",
     "text": [
      "{'2016embeddings-only1': array([[-2.8931147e-03, -1.0990363e-01,  6.6168144e-02, ...,\n",
      "         9.0606883e-03,  6.5594348e-03, -6.5573463e-03],\n",
      "       [-8.0260649e-02, -7.0326060e-02, -2.4151871e-02, ...,\n",
      "         6.0399845e-03,  1.8606786e-02, -1.8828316e-02],\n",
      "       [ 2.1699646e-02,  2.7360922e-05,  2.3694694e-02, ...,\n",
      "        -6.5688647e-02, -6.5822583e-03, -2.2711031e-02],\n",
      "       ...,\n",
      "       [ 2.2890145e-02, -6.7461558e-02,  4.3521132e-03, ...,\n",
      "        -5.5088274e-02, -1.9784969e-04, -2.8905377e-02],\n",
      "       [ 6.7359857e-02, -8.5017018e-02, -5.8567179e-03, ...,\n",
      "        -2.4620745e-02, -2.7051095e-02,  4.0021427e-02],\n",
      "       [ 7.0983075e-02,  1.1113807e-01,  2.7779860e-02, ...,\n",
      "        -3.0476460e-03, -9.4917715e-02,  1.9114187e-02]], dtype=float32)}\n"
     ]
    },
    {
     "name": "stderr",
     "output_type": "stream",
     "text": [
      "2023-11-20 17:49:05,908 - BERTopic - Reduced dimensionality\n",
      "2023-11-20 17:49:06,006 - BERTopic - Clustered reduced embeddings\n"
     ]
    },
    {
     "name": "stdout",
     "output_type": "stream",
     "text": [
      "{'2017embeddings-only1': array([[-0.04409034, -0.09077199, -0.00893802, ...,  0.09062455,\n",
      "        -0.08203623,  0.03371636],\n",
      "       [ 0.01626818, -0.01278613,  0.01106399, ..., -0.00161768,\n",
      "        -0.09539252, -0.02737349],\n",
      "       [-0.00109263,  0.1089293 ,  0.02795395, ...,  0.03535517,\n",
      "        -0.02318533, -0.0275852 ],\n",
      "       ...,\n",
      "       [-0.03249486,  0.0095879 ,  0.01783998, ..., -0.02543228,\n",
      "        -0.04499633, -0.00801935],\n",
      "       [ 0.08365713, -0.00994504,  0.01657425, ..., -0.02728137,\n",
      "        -0.06881227,  0.00429414],\n",
      "       [-0.02172235,  0.07705797,  0.04117063, ..., -0.01015177,\n",
      "         0.00011748, -0.04086026]], dtype=float32)}\n"
     ]
    },
    {
     "name": "stderr",
     "output_type": "stream",
     "text": [
      "2023-11-20 17:49:39,013 - BERTopic - Reduced dimensionality\n",
      "2023-11-20 17:49:39,109 - BERTopic - Clustered reduced embeddings\n"
     ]
    },
    {
     "name": "stdout",
     "output_type": "stream",
     "text": [
      "{'2018embeddings-only1': array([[ 0.08470776, -0.01665849,  0.07448334, ...,  0.00134327,\n",
      "        -0.07450522, -0.04679236],\n",
      "       [-0.01306077, -0.05099441, -0.00499397, ..., -0.03272002,\n",
      "        -0.03330849,  0.0942742 ],\n",
      "       [ 0.02537968, -0.03551613,  0.00499156, ..., -0.0937696 ,\n",
      "        -0.03420861,  0.02941266],\n",
      "       ...,\n",
      "       [-0.12457715,  0.10605086,  0.04469365, ..., -0.02428617,\n",
      "        -0.06795746, -0.01325911],\n",
      "       [-0.01637382,  0.03666568,  0.04334334, ..., -0.08754168,\n",
      "        -0.05433042,  0.08092182],\n",
      "       [ 0.0135336 , -0.05795679,  0.12259805, ...,  0.05217906,\n",
      "        -0.11027162, -0.04313593]], dtype=float32)}\n"
     ]
    },
    {
     "name": "stderr",
     "output_type": "stream",
     "text": [
      "2023-11-20 17:50:10,772 - BERTopic - Reduced dimensionality\n",
      "2023-11-20 17:50:10,873 - BERTopic - Clustered reduced embeddings\n"
     ]
    },
    {
     "name": "stdout",
     "output_type": "stream",
     "text": [
      "{'2019embeddings-only1': array([[-0.01336967,  0.02203912,  0.01933719, ..., -0.01353638,\n",
      "        -0.04460654, -0.02711279],\n",
      "       [-0.09348077, -0.03786033, -0.01896939, ..., -0.02529137,\n",
      "         0.10522322,  0.05551704],\n",
      "       [ 0.00189768, -0.0680602 , -0.04574516, ..., -0.01126178,\n",
      "         0.09886061, -0.00357157],\n",
      "       ...,\n",
      "       [-0.02257104, -0.03583921, -0.00017842, ...,  0.02732942,\n",
      "        -0.02656361, -0.07208896],\n",
      "       [-0.06886193,  0.02594801,  0.02603942, ..., -0.01542181,\n",
      "         0.06935926,  0.04376236],\n",
      "       [ 0.07061513,  0.05772305,  0.05169167, ...,  0.01717081,\n",
      "        -0.07312124,  0.0425809 ]], dtype=float32)}\n"
     ]
    },
    {
     "name": "stderr",
     "output_type": "stream",
     "text": [
      "2023-11-20 17:50:39,739 - BERTopic - Reduced dimensionality\n",
      "2023-11-20 17:50:39,835 - BERTopic - Clustered reduced embeddings\n"
     ]
    },
    {
     "name": "stdout",
     "output_type": "stream",
     "text": [
      "{'2020embeddings-only1': array([[ 0.05027443, -0.03019443,  0.01535617, ..., -0.08992632,\n",
      "        -0.05380837, -0.04757331],\n",
      "       [ 0.04053731, -0.00286143, -0.00289355, ..., -0.03523187,\n",
      "         0.01449259, -0.00103807],\n",
      "       [-0.1012122 ,  0.03234487, -0.01963287, ..., -0.11414655,\n",
      "         0.02871956, -0.03377759],\n",
      "       ...,\n",
      "       [-0.02985334,  0.02173256, -0.02059508, ..., -0.03746631,\n",
      "        -0.02864471, -0.00417465],\n",
      "       [ 0.07987844, -0.15968378,  0.01658728, ...,  0.08339537,\n",
      "         0.0445888 , -0.03997164],\n",
      "       [-0.03460403,  0.00305958,  0.02863645, ..., -0.12425983,\n",
      "         0.00398538,  0.06020412]], dtype=float32)}\n"
     ]
    },
    {
     "name": "stderr",
     "output_type": "stream",
     "text": [
      "2023-11-20 17:51:12,427 - BERTopic - Reduced dimensionality\n",
      "2023-11-20 17:51:12,530 - BERTopic - Clustered reduced embeddings\n"
     ]
    },
    {
     "name": "stdout",
     "output_type": "stream",
     "text": [
      "{'2021embeddings-only1': array([[-0.00379872, -0.03604827, -0.03771646, ..., -0.02349331,\n",
      "        -0.00215024, -0.02105709],\n",
      "       [ 0.0260278 , -0.01392777,  0.04263585, ..., -0.09203416,\n",
      "        -0.00624286,  0.03496077],\n",
      "       [-0.06347186, -0.06693182,  0.00027332, ..., -0.09177687,\n",
      "        -0.04847464, -0.03330031],\n",
      "       ...,\n",
      "       [ 0.02724442, -0.07131824,  0.0660364 , ..., -0.04178296,\n",
      "         0.0077703 ,  0.02448353],\n",
      "       [ 0.04101005, -0.04395668, -0.00022157, ..., -0.06398869,\n",
      "        -0.04859978,  0.02820007],\n",
      "       [-0.00126933, -0.05166581, -0.07237146, ..., -0.03564291,\n",
      "         0.05250688,  0.05811672]], dtype=float32)}\n"
     ]
    },
    {
     "name": "stderr",
     "output_type": "stream",
     "text": [
      "2023-11-20 17:51:43,580 - BERTopic - Reduced dimensionality\n",
      "2023-11-20 17:51:43,680 - BERTopic - Clustered reduced embeddings\n"
     ]
    },
    {
     "name": "stdout",
     "output_type": "stream",
     "text": [
      "{'2022embeddings-only1': array([[ 0.03141153, -0.06745194, -0.02076028, ..., -0.02395406,\n",
      "        -0.04756227,  0.01294449],\n",
      "       [ 0.04883639, -0.01472938,  0.01517043, ..., -0.06549706,\n",
      "        -0.0469088 ,  0.08035963],\n",
      "       [-0.02786929, -0.0591104 , -0.03729664, ...,  0.00171094,\n",
      "         0.08300571, -0.02897988],\n",
      "       ...,\n",
      "       [ 0.00545292, -0.0050073 , -0.00937492, ..., -0.05400174,\n",
      "        -0.01869861,  0.06443758],\n",
      "       [ 0.043503  , -0.06323043, -0.00214287, ..., -0.12154653,\n",
      "        -0.0522516 ,  0.13513212],\n",
      "       [ 0.01823201, -0.04719174,  0.01036312, ...,  0.06068161,\n",
      "        -0.04321857, -0.05248189]], dtype=float32)}\n"
     ]
    },
    {
     "name": "stderr",
     "output_type": "stream",
     "text": [
      "2023-11-20 17:51:55,234 - BERTopic - Reduced dimensionality\n",
      "2023-11-20 17:51:55,353 - BERTopic - Clustered reduced embeddings\n"
     ]
    },
    {
     "name": "stdout",
     "output_type": "stream",
     "text": [
      "{'2010embeddings-only1': array([[ 0.03388299, -0.06846802,  0.03841985, ...,  0.05455399,\n",
      "        -0.00486806,  0.01869964],\n",
      "       [-0.00330581,  0.00080769, -0.03523574, ...,  0.01124648,\n",
      "         0.0504192 , -0.04749123],\n",
      "       [ 0.04282231, -0.05474753,  0.00504814, ..., -0.01300391,\n",
      "        -0.05396838, -0.00044658],\n",
      "       ...,\n",
      "       [ 0.05637384, -0.01025718, -0.00970191, ..., -0.01745078,\n",
      "         0.04160207,  0.05710806],\n",
      "       [ 0.02521606, -0.13671012, -0.05509052, ..., -0.02573266,\n",
      "         0.08087453, -0.01877661],\n",
      "       [ 0.11545262, -0.01121868, -0.07574148, ..., -0.02368018,\n",
      "        -0.05258647, -0.01110857]], dtype=float32)}\n",
      "{'2011embeddings-only1': array([[-0.00290896, -0.06732383,  0.03931407, ..., -0.13989131,\n",
      "        -0.06387119,  0.04358809],\n",
      "       [ 0.06019468, -0.0665935 ,  0.01171349, ..., -0.08103342,\n",
      "        -0.1026013 ,  0.01119775],\n",
      "       [ 0.0210888 , -0.05792421,  0.04812714, ..., -0.0562794 ,\n",
      "        -0.091479  ,  0.03172365],\n",
      "       ...,\n",
      "       [ 0.05618998,  0.00335697,  0.00176174, ..., -0.05660137,\n",
      "         0.06494936,  0.01902442],\n",
      "       [ 0.03865541, -0.05074078,  0.05145768, ..., -0.03772647,\n",
      "        -0.00069067, -0.03364421],\n",
      "       [ 0.07986265, -0.0153167 ,  0.02714584, ...,  0.0060751 ,\n",
      "         0.00798211, -0.00534422]], dtype=float32)}\n",
      "{'2012embeddings-only1': array([[-0.05975018, -0.01963712,  0.06989767, ..., -0.00474816,\n",
      "         0.02321544, -0.05812708],\n",
      "       [-0.04677698, -0.00604086,  0.03085865, ...,  0.07319211,\n",
      "         0.03682702,  0.06729802],\n",
      "       [ 0.0148151 , -0.02923988,  0.01459287, ..., -0.1005256 ,\n",
      "        -0.07970731, -0.01393546],\n",
      "       ...,\n",
      "       [-0.05728538, -0.02445957,  0.10773025, ..., -0.00678697,\n",
      "        -0.12142125,  0.0417155 ],\n",
      "       [ 0.02833953, -0.0576039 , -0.00103187, ..., -0.05511501,\n",
      "        -0.01843051, -0.03115649],\n",
      "       [ 0.01958393, -0.00684572,  0.10407935, ..., -0.04887459,\n",
      "        -0.12833333,  0.02791332]], dtype=float32)}\n"
     ]
    },
    {
     "name": "stderr",
     "output_type": "stream",
     "text": [
      "2023-11-20 17:52:28,696 - BERTopic - Reduced dimensionality\n",
      "2023-11-20 17:52:28,794 - BERTopic - Clustered reduced embeddings\n"
     ]
    },
    {
     "name": "stdout",
     "output_type": "stream",
     "text": [
      "{'2013embeddings-only1': array([[ 0.00425331, -0.04146898,  0.05958175, ..., -0.02212209,\n",
      "        -0.12164985,  0.02041013],\n",
      "       [-0.10149891, -0.00981178,  0.03868761, ..., -0.12120683,\n",
      "        -0.03522051, -0.02708027],\n",
      "       [ 0.04843904, -0.02671784,  0.11511432, ..., -0.01883863,\n",
      "         0.01414882,  0.07811869],\n",
      "       [ 0.04380814, -0.00322477,  0.03955466, ..., -0.0174785 ,\n",
      "        -0.09736925, -0.04361986],\n",
      "       [ 0.00681317, -0.04165075,  0.02873897, ...,  0.01848924,\n",
      "        -0.14966688,  0.03223858],\n",
      "       [ 0.04567214, -0.0400871 , -0.05745888, ..., -0.02220304,\n",
      "        -0.03625107,  0.06408536]], dtype=float32)}\n",
      "{'2014embeddings-only1': array([[-0.08889083, -0.01860604, -0.03503602, ..., -0.02129542,\n",
      "        -0.11735911,  0.00533552],\n",
      "       [-0.01329427, -0.00386929,  0.03713627, ..., -0.07471276,\n",
      "        -0.05758296, -0.0243179 ],\n",
      "       [ 0.01099008, -0.00231486,  0.1632459 , ...,  0.01835486,\n",
      "        -0.07468835, -0.11843091],\n",
      "       ...,\n",
      "       [ 0.01285856,  0.02279476, -0.0140312 , ..., -0.13013993,\n",
      "        -0.10149939,  0.04856452],\n",
      "       [ 0.00838368, -0.02833244,  0.01868782, ..., -0.02170502,\n",
      "        -0.09010157, -0.00891564],\n",
      "       [ 0.04750354, -0.03954945,  0.03409246, ..., -0.05061643,\n",
      "        -0.11222318,  0.07101263]], dtype=float32)}\n"
     ]
    },
    {
     "name": "stderr",
     "output_type": "stream",
     "text": [
      "2023-11-20 17:53:01,827 - BERTopic - Reduced dimensionality\n",
      "2023-11-20 17:53:01,940 - BERTopic - Clustered reduced embeddings\n"
     ]
    },
    {
     "name": "stdout",
     "output_type": "stream",
     "text": [
      "{'2015embeddings-only1': array([[ 0.08098323, -0.05043215,  0.00016234, ..., -0.0117062 ,\n",
      "         0.03085539,  0.0358707 ],\n",
      "       [ 0.00774006,  0.03259801, -0.01544798, ..., -0.03104876,\n",
      "        -0.08322182, -0.05940226],\n",
      "       [ 0.06153182, -0.04914653,  0.06097639, ..., -0.05919405,\n",
      "        -0.05664682,  0.01946494],\n",
      "       ...,\n",
      "       [ 0.02977203,  0.10366309,  0.03676306, ...,  0.01619382,\n",
      "        -0.14754355, -0.03148817],\n",
      "       [ 0.06079275, -0.07049439, -0.01995135, ..., -0.03904489,\n",
      "        -0.07651559,  0.00427957],\n",
      "       [-0.01641113,  0.05242947, -0.00965677, ..., -0.07338092,\n",
      "        -0.06213282, -0.02573716]], dtype=float32)}\n"
     ]
    }
   ],
   "source": [
    "embeddings = {}\n",
    "if 0:\n",
    "    for year in years:\n",
    "        with open(str(year) + \"embeddings.pkl\", \"rb\") as fIn:\n",
    "            cache_data = pickle.load(fIn)\n",
    "            print(cache_data)\n",
    "            embeddings = cache_data[str(year)+'embeddings-only1']\n",
    "            topicModel = BERTopic(verbose=True, embedding_model=\"all-MiniLM-L6-v2\", representation_model=KeyBERTInspired()) \n",
    "            topics, probs = topicModel.fit_transform(data, embeddings)"
   ]
  },
  {
   "cell_type": "code",
   "execution_count": 73,
   "metadata": {},
   "outputs": [
    {
     "name": "stderr",
     "output_type": "stream",
     "text": [
      "Batches: 100%|██████████| 469/469 [10:50<00:00,  1.39s/it]\n",
      "2023-11-21 11:24:12,031 - BERTopic - Transformed documents to Embeddings\n",
      "2023-11-21 11:24:18,378 - BERTopic - Reduced dimensionality\n",
      "2023-11-21 11:24:19,148 - BERTopic - Clustered reduced embeddings\n"
     ]
    }
   ],
   "source": [
    "topicModel = BERTopic(verbose=True, embedding_model=\"all-MiniLM-L6-v2\", representation_model=KeyBERTInspired()) \n",
    "sample_df = submissions.sample(15000)\n",
    "text = sample_df['selftext'].to_list()\n",
    "dates = sample_df['created_utc'].to_list()\n",
    "\n",
    "topics, probs = topicModel.fit_transform(text)"
   ]
  },
  {
   "cell_type": "code",
   "execution_count": 74,
   "metadata": {},
   "outputs": [
    {
     "name": "stderr",
     "output_type": "stream",
     "text": [
      "10it [04:20, 26.07s/it]\n"
     ]
    }
   ],
   "source": [
    "topics_over_time = topicModel.topics_over_time(text, dates, datetime_format=\"%b%M\", nr_bins=10)"
   ]
  },
  {
   "cell_type": "code",
   "execution_count": 75,
   "metadata": {},
   "outputs": [],
   "source": [
    "topic_nums= list(range(0, 10))"
   ]
  },
  {
   "cell_type": "markdown",
   "metadata": {},
   "source": [
    "## Topics Over Time Graph"
   ]
  },
  {
   "cell_type": "code",
   "execution_count": 77,
   "metadata": {},
   "outputs": [
    {
     "data": {
      "application/vnd.plotly.v1+json": {
       "config": {
        "plotlyServerURL": "https://plot.ly"
       },
       "data": [
        {
         "hoverinfo": "text",
         "hovertext": [
          "<b>Topic 0</b><br>Words: suboxone, opiate, 8mg, withdrawal, 2mg",
          "<b>Topic 0</b><br>Words: 8mg, 30mg, 40mg, 15mg, 5mg",
          "<b>Topic 0</b><br>Words: suboxone, withdrawal, withdrawals, 2mg, 4mg",
          "<b>Topic 0</b><br>Words: suboxone, 8mg, 4mg, 2mg, withdrawal",
          "<b>Topic 0</b><br>Words: suboxone, opiate, withdrawal, 8mg, 4mg",
          "<b>Topic 0</b><br>Words: suboxone, detox, opioid, withdrawal, 8mg",
          "<b>Topic 0</b><br>Words: suboxone, detox, withdrawal, 4mg, withdrawals",
          "<b>Topic 0</b><br>Words: suboxone, withdrawal, 4mg, 8mg, 3mg",
          "<b>Topic 0</b><br>Words: suboxone, withdrawal, buprenorphine, 8mg, withdrawals"
         ],
         "marker": {
          "color": "#E69F00"
         },
         "mode": "lines",
         "name": "0_suboxone_4mg_8mg_2mg",
         "type": "scatter",
         "x": [
          "2011-07-31T04:14:42.500000",
          "2012-10-26T08:36:30",
          "2014-01-22T12:58:17.500000",
          "2015-04-20T17:20:05",
          "2016-07-16T21:41:52.500000",
          "2017-10-13T02:03:40",
          "2019-01-09T06:25:27.500000",
          "2020-04-06T10:47:15",
          "2021-07-03T15:09:02.500000"
         ],
         "y": [
          12,
          2,
          29,
          45,
          54,
          58,
          86,
          93,
          96
         ]
        },
        {
         "hoverinfo": "text",
         "hovertext": [
          "<b>Topic 1</b><br>Words: kratom, 60mg, 100mg, methadone, oxycodone",
          "<b>Topic 1</b><br>Words: morphine, kratom, heroin, opiates, dose",
          "<b>Topic 1</b><br>Words: kratom, opioids, opioid, opiates, withdrawal",
          "<b>Topic 1</b><br>Words: kratom, antidepressants, doses, withdrawal, opiates",
          "<b>Topic 1</b><br>Words: kratom, withdrawal, withdrawals, opiates, capsules",
          "<b>Topic 1</b><br>Words: kratom, opiates, doses, withdrawal, withdrawals",
          "<b>Topic 1</b><br>Words: kratom, withdrawal, opioid, opiates, withdrawals",
          "<b>Topic 1</b><br>Words: kratom, opiates, withdrawal, heroin, withdrawals",
          "<b>Topic 1</b><br>Words: kratom, methadone, opiates, withdrawal, withdrawals"
         ],
         "marker": {
          "color": "#56B4E9"
         },
         "mode": "lines",
         "name": "1_kratom_opiates_withdrawal_daily",
         "type": "scatter",
         "x": [
          "2011-07-31T04:14:42.500000",
          "2012-10-26T08:36:30",
          "2014-01-22T12:58:17.500000",
          "2015-04-20T17:20:05",
          "2016-07-16T21:41:52.500000",
          "2017-10-13T02:03:40",
          "2019-01-09T06:25:27.500000",
          "2020-04-06T10:47:15",
          "2021-07-03T15:09:02.500000"
         ],
         "y": [
          3,
          1,
          6,
          14,
          37,
          48,
          68,
          53,
          50
         ]
        },
        {
         "hoverinfo": "text",
         "hovertext": [
          "<b>Topic 2</b><br>Words: paranoid, cop, call, meet, cops",
          "<b>Topic 2</b><br>Words: middleman, dealing, hell, roxy, bastards",
          "<b>Topic 2</b><br>Words: his, call, him, work, guy",
          "<b>Topic 2</b><br>Words: call, meet, guy, cop, called",
          "<b>Topic 2</b><br>Words: cop, his, pay, him, guy",
          "<b>Topic 2</b><br>Words: call, cop, work, his, him",
          "<b>Topic 2</b><br>Words: cop, call, calls, hes, him",
          "<b>Topic 2</b><br>Words: call, meet, dealer, calls, guy",
          "<b>Topic 2</b><br>Words: call, his, him, phone, dropping"
         ],
         "marker": {
          "color": "#009E73"
         },
         "mode": "lines",
         "name": "2_call_cop_his_phone",
         "type": "scatter",
         "x": [
          "2011-07-31T04:14:42.500000",
          "2012-10-26T08:36:30",
          "2014-01-22T12:58:17.500000",
          "2015-04-20T17:20:05",
          "2016-07-16T21:41:52.500000",
          "2017-10-13T02:03:40",
          "2019-01-09T06:25:27.500000",
          "2020-04-06T10:47:15",
          "2021-07-03T15:09:02.500000"
         ],
         "y": [
          4,
          2,
          31,
          49,
          62,
          50,
          31,
          12,
          6
         ]
        },
        {
         "hoverinfo": "text",
         "hovertext": [
          "<b>Topic 3</b><br>Words: snorted, snorting, dilaudid, drug, urine",
          "<b>Topic 3</b><br>Words: urine, testing, opiates, tests, test",
          "<b>Topic 3</b><br>Words: suboxone, tests, test, urine, opiates",
          "<b>Topic 3</b><br>Words: opiates, morphine, oxycodone, testing, tests",
          "<b>Topic 3</b><br>Words: urine, drug, probation, opiates, test",
          "<b>Topic 3</b><br>Words: urine, opiates, tests, testing, drug",
          "<b>Topic 3</b><br>Words: opiates, urine, drug, heroin, testing",
          "<b>Topic 3</b><br>Words: urine, testing, tests, test, tested",
          "<b>Topic 3</b><br>Words: opiate, fentanyl, opiates, methadone, urine",
          "<b>Topic 3</b><br>Words: urine, tests, test, oxycodone, swab"
         ],
         "marker": {
          "color": "#F0E442"
         },
         "mode": "lines",
         "name": "3_oxycodone_urine_test_tests",
         "type": "scatter",
         "x": [
          "2010-04-29T11:07:05.924999",
          "2011-07-31T04:14:42.500000",
          "2012-10-26T08:36:30",
          "2014-01-22T12:58:17.500000",
          "2015-04-20T17:20:05",
          "2016-07-16T21:41:52.500000",
          "2017-10-13T02:03:40",
          "2019-01-09T06:25:27.500000",
          "2020-04-06T10:47:15",
          "2021-07-03T15:09:02.500000"
         ],
         "y": [
          1,
          7,
          3,
          26,
          34,
          35,
          26,
          42,
          34,
          29
         ]
        },
        {
         "hoverinfo": "text",
         "hovertext": [
          "<b>Topic 4</b><br>Words: friday, today, rest, vacation, going",
          "<b>Topic 4</b><br>Words: alone, winter, apartment, cooped, myself",
          "<b>Topic 4</b><br>Words: tonight, weekend, night, im, going",
          "<b>Topic 4</b><br>Words: morning, going, tonight, hey, bed",
          "<b>Topic 4</b><br>Words: evening, weekend, day, tonight, going",
          "<b>Topic 4</b><br>Words: day, today, tonight, thanksgiving, hey",
          "<b>Topic 4</b><br>Words: morning, tonight, going, weekend, day",
          "<b>Topic 4</b><br>Words: weekend, saturday, tylenol, holidays, week",
          "<b>Topic 4</b><br>Words: day, evening, happy, going, cheers"
         ],
         "marker": {
          "color": "#D55E00"
         },
         "mode": "lines",
         "name": "4_morning_day_today_tonight",
         "type": "scatter",
         "x": [
          "2011-07-31T04:14:42.500000",
          "2012-10-26T08:36:30",
          "2014-01-22T12:58:17.500000",
          "2015-04-20T17:20:05",
          "2016-07-16T21:41:52.500000",
          "2017-10-13T02:03:40",
          "2019-01-09T06:25:27.500000",
          "2020-04-06T10:47:15",
          "2021-07-03T15:09:02.500000"
         ],
         "y": [
          4,
          2,
          25,
          58,
          62,
          31,
          19,
          8,
          11
         ]
        },
        {
         "hoverinfo": "text",
         "hovertext": [
          "<b>Topic 5</b><br>Words: addict, addicted, sober, sobriety, drugs",
          "<b>Topic 5</b><br>Words: addiction, sober, rehab, drugs, depressed",
          "<b>Topic 5</b><br>Words: addiction, drugs, end, getting, through",
          "<b>Topic 5</b><br>Words: addiction, heroin, sober, drugs, life",
          "<b>Topic 5</b><br>Words: addiction, heroin, sober, drugs, feel",
          "<b>Topic 5</b><br>Words: addiction, heroin, sober, rehab, drugs",
          "<b>Topic 5</b><br>Words: addiction, sober, rehab, drugs, life",
          "<b>Topic 5</b><br>Words: addiction, addict, sober, drugs, live"
         ],
         "marker": {
          "color": "#0072B2"
         },
         "mode": "lines",
         "name": "5_addiction_heroin_sober_rehab",
         "type": "scatter",
         "x": [
          "2012-10-26T08:36:30",
          "2014-01-22T12:58:17.500000",
          "2015-04-20T17:20:05",
          "2016-07-16T21:41:52.500000",
          "2017-10-13T02:03:40",
          "2019-01-09T06:25:27.500000",
          "2020-04-06T10:47:15",
          "2021-07-03T15:09:02.500000"
         ],
         "y": [
          2,
          18,
          23,
          46,
          27,
          33,
          22,
          22
         ]
        },
        {
         "hoverinfo": "text",
         "hovertext": [
          "<b>Topic 6</b><br>Words: tramadol, 400mg, 100mg, hydrocodone, tram",
          "<b>Topic 6</b><br>Words: tramadol, 50mg, 75mg, capsules, roxicodone",
          "<b>Topic 6</b><br>Words: tramadol, tramadols, dosage, morphine, 50mg",
          "<b>Topic 6</b><br>Words: tramadol, opiate, opioid, opiates, serotonin",
          "<b>Topic 6</b><br>Words: tramadol, tramadols, opioid, 150mg, 400mg",
          "<b>Topic 6</b><br>Words: tramadol, tramadols, 150mg, 30mg, 50mg",
          "<b>Topic 6</b><br>Words: tramadol, tramadols, opiate, opiates, opioid",
          "<b>Topic 6</b><br>Words: tramadol, tramadols, opiate, opioid, morphine",
          "<b>Topic 6</b><br>Words: tramadol, opiate, oxycodone, opioid, morphine"
         ],
         "marker": {
          "color": "#CC79A7"
         },
         "mode": "lines",
         "name": "6_tramadol_tramadols_opiate_opioid",
         "type": "scatter",
         "x": [
          "2011-07-31T04:14:42.500000",
          "2012-10-26T08:36:30",
          "2014-01-22T12:58:17.500000",
          "2015-04-20T17:20:05",
          "2016-07-16T21:41:52.500000",
          "2017-10-13T02:03:40",
          "2019-01-09T06:25:27.500000",
          "2020-04-06T10:47:15",
          "2021-07-03T15:09:02.500000"
         ],
         "y": [
          8,
          4,
          9,
          11,
          25,
          32,
          41,
          38,
          23
         ]
        },
        {
         "hoverinfo": "text",
         "hovertext": [
          "<b>Topic 7</b><br>Words: methadone, heroin, withdrawal, suboxone, treatment",
          "<b>Topic 7</b><br>Words: methadone, dosage, doses, opiates, 60mg",
          "<b>Topic 7</b><br>Words: methadone, opiates, 20mg, 10mg, 10mgs",
          "<b>Topic 7</b><br>Words: methadone, opiates, heroin, 10mg, dose",
          "<b>Topic 7</b><br>Words: methadone, withdrawal, opiates, suboxone, clinic",
          "<b>Topic 7</b><br>Words: methadone, suboxone, heroin, treatment, clinics",
          "<b>Topic 7</b><br>Words: methadone, 30mg, suboxone, benzos, dose",
          "<b>Topic 7</b><br>Words: methadone, morphine, suboxone, heroin, taking",
          "<b>Topic 7</b><br>Words: methadone, heroin, withdrawal, detox, suboxone"
         ],
         "marker": {
          "color": "#E69F00"
         },
         "mode": "lines",
         "name": "7_methadone_opiates_suboxone_heroin",
         "type": "scatter",
         "x": [
          "2011-07-31T04:14:42.500000",
          "2012-10-26T08:36:30",
          "2014-01-22T12:58:17.500000",
          "2015-04-20T17:20:05",
          "2016-07-16T21:41:52.500000",
          "2017-10-13T02:03:40",
          "2019-01-09T06:25:27.500000",
          "2020-04-06T10:47:15",
          "2021-07-03T15:09:02.500000"
         ],
         "y": [
          6,
          2,
          6,
          21,
          32,
          30,
          34,
          33,
          26
         ]
        },
        {
         "hoverinfo": "text",
         "hovertext": [
          "<b>Topic 8</b><br>Words: codeine, dosage, dihydrocodeine, 750mg, 30mgs",
          "<b>Topic 8</b><br>Words: codeine, dihydrocodeine, quinine, codein, paracetamol",
          "<b>Topic 8</b><br>Words: codeine, dosage, opiate, doses, opiates",
          "<b>Topic 8</b><br>Words: codeine, 15mg, 230mg, 120mg, paracetamol",
          "<b>Topic 8</b><br>Words: codeine, promethazine, dihydrocodeine, paracetamol, xanax",
          "<b>Topic 8</b><br>Words: codeine, 60mg, doses, dihydrocodeine, 300mg",
          "<b>Topic 8</b><br>Words: codeine, 30mg, 50mg, 300mg, 60mg",
          "<b>Topic 8</b><br>Words: codeine, dihydrocodeine, paracetamol, 600mg, morphine",
          "<b>Topic 8</b><br>Words: codeine, dihydrocodeine, promethazine, 30mg, 50mg"
         ],
         "marker": {
          "color": "#56B4E9"
         },
         "mode": "lines",
         "name": "8_codeine_dihydrocodeine_promethazine_pa...",
         "type": "scatter",
         "x": [
          "2011-07-31T04:14:42.500000",
          "2012-10-26T08:36:30",
          "2014-01-22T12:58:17.500000",
          "2015-04-20T17:20:05",
          "2016-07-16T21:41:52.500000",
          "2017-10-13T02:03:40",
          "2019-01-09T06:25:27.500000",
          "2020-04-06T10:47:15",
          "2021-07-03T15:09:02.500000"
         ],
         "y": [
          4,
          4,
          11,
          12,
          17,
          25,
          36,
          35,
          40
         ]
        },
        {
         "hoverinfo": "text",
         "hovertext": [
          "<b>Topic 9</b><br>Words: opiatenoobs, opiates, opiatesgonewild, opies, mods",
          "<b>Topic 9</b><br>Words: opiate, opiates, blogs, stories, forum",
          "<b>Topic 9</b><br>Words: reddit, opiate, opiates, account, forum",
          "<b>Topic 9</b><br>Words: opiate, posting, reddit, opiates, forum",
          "<b>Topic 9</b><br>Words: forum, opiates, reddit, posting, commenting",
          "<b>Topic 9</b><br>Words: posting, posts, reddit, users, opiate",
          "<b>Topic 9</b><br>Words: opiateswriters, modmail, opiates, mod, opiatesmodapplicants",
          "<b>Topic 9</b><br>Words: posts, posting, bans, mods, post",
          "<b>Topic 9</b><br>Words: opiatelife, opiates, posting, sub, post"
         ],
         "marker": {
          "color": "#009E73"
         },
         "mode": "lines",
         "name": "9_opiate_opiates_reddit_sub",
         "type": "scatter",
         "x": [
          "2011-07-31T04:14:42.500000",
          "2012-10-26T08:36:30",
          "2014-01-22T12:58:17.500000",
          "2015-04-20T17:20:05",
          "2016-07-16T21:41:52.500000",
          "2017-10-13T02:03:40",
          "2019-01-09T06:25:27.500000",
          "2020-04-06T10:47:15",
          "2021-07-03T15:09:02.500000"
         ],
         "y": [
          10,
          1,
          14,
          33,
          38,
          30,
          24,
          5,
          14
         ]
        }
       ],
       "layout": {
        "height": 450,
        "hoverlabel": {
         "bgcolor": "white",
         "font": {
          "family": "Rockwell",
          "size": 16
         }
        },
        "legend": {
         "title": {
          "text": "<b>Global Topic Representation"
         }
        },
        "template": {
         "data": {
          "bar": [
           {
            "error_x": {
             "color": "rgb(36,36,36)"
            },
            "error_y": {
             "color": "rgb(36,36,36)"
            },
            "marker": {
             "line": {
              "color": "white",
              "width": 0.5
             },
             "pattern": {
              "fillmode": "overlay",
              "size": 10,
              "solidity": 0.2
             }
            },
            "type": "bar"
           }
          ],
          "barpolar": [
           {
            "marker": {
             "line": {
              "color": "white",
              "width": 0.5
             },
             "pattern": {
              "fillmode": "overlay",
              "size": 10,
              "solidity": 0.2
             }
            },
            "type": "barpolar"
           }
          ],
          "carpet": [
           {
            "aaxis": {
             "endlinecolor": "rgb(36,36,36)",
             "gridcolor": "white",
             "linecolor": "white",
             "minorgridcolor": "white",
             "startlinecolor": "rgb(36,36,36)"
            },
            "baxis": {
             "endlinecolor": "rgb(36,36,36)",
             "gridcolor": "white",
             "linecolor": "white",
             "minorgridcolor": "white",
             "startlinecolor": "rgb(36,36,36)"
            },
            "type": "carpet"
           }
          ],
          "choropleth": [
           {
            "colorbar": {
             "outlinewidth": 1,
             "tickcolor": "rgb(36,36,36)",
             "ticks": "outside"
            },
            "type": "choropleth"
           }
          ],
          "contour": [
           {
            "colorbar": {
             "outlinewidth": 1,
             "tickcolor": "rgb(36,36,36)",
             "ticks": "outside"
            },
            "colorscale": [
             [
              0,
              "#440154"
             ],
             [
              0.1111111111111111,
              "#482878"
             ],
             [
              0.2222222222222222,
              "#3e4989"
             ],
             [
              0.3333333333333333,
              "#31688e"
             ],
             [
              0.4444444444444444,
              "#26828e"
             ],
             [
              0.5555555555555556,
              "#1f9e89"
             ],
             [
              0.6666666666666666,
              "#35b779"
             ],
             [
              0.7777777777777778,
              "#6ece58"
             ],
             [
              0.8888888888888888,
              "#b5de2b"
             ],
             [
              1,
              "#fde725"
             ]
            ],
            "type": "contour"
           }
          ],
          "contourcarpet": [
           {
            "colorbar": {
             "outlinewidth": 1,
             "tickcolor": "rgb(36,36,36)",
             "ticks": "outside"
            },
            "type": "contourcarpet"
           }
          ],
          "heatmap": [
           {
            "colorbar": {
             "outlinewidth": 1,
             "tickcolor": "rgb(36,36,36)",
             "ticks": "outside"
            },
            "colorscale": [
             [
              0,
              "#440154"
             ],
             [
              0.1111111111111111,
              "#482878"
             ],
             [
              0.2222222222222222,
              "#3e4989"
             ],
             [
              0.3333333333333333,
              "#31688e"
             ],
             [
              0.4444444444444444,
              "#26828e"
             ],
             [
              0.5555555555555556,
              "#1f9e89"
             ],
             [
              0.6666666666666666,
              "#35b779"
             ],
             [
              0.7777777777777778,
              "#6ece58"
             ],
             [
              0.8888888888888888,
              "#b5de2b"
             ],
             [
              1,
              "#fde725"
             ]
            ],
            "type": "heatmap"
           }
          ],
          "heatmapgl": [
           {
            "colorbar": {
             "outlinewidth": 1,
             "tickcolor": "rgb(36,36,36)",
             "ticks": "outside"
            },
            "colorscale": [
             [
              0,
              "#440154"
             ],
             [
              0.1111111111111111,
              "#482878"
             ],
             [
              0.2222222222222222,
              "#3e4989"
             ],
             [
              0.3333333333333333,
              "#31688e"
             ],
             [
              0.4444444444444444,
              "#26828e"
             ],
             [
              0.5555555555555556,
              "#1f9e89"
             ],
             [
              0.6666666666666666,
              "#35b779"
             ],
             [
              0.7777777777777778,
              "#6ece58"
             ],
             [
              0.8888888888888888,
              "#b5de2b"
             ],
             [
              1,
              "#fde725"
             ]
            ],
            "type": "heatmapgl"
           }
          ],
          "histogram": [
           {
            "marker": {
             "line": {
              "color": "white",
              "width": 0.6
             }
            },
            "type": "histogram"
           }
          ],
          "histogram2d": [
           {
            "colorbar": {
             "outlinewidth": 1,
             "tickcolor": "rgb(36,36,36)",
             "ticks": "outside"
            },
            "colorscale": [
             [
              0,
              "#440154"
             ],
             [
              0.1111111111111111,
              "#482878"
             ],
             [
              0.2222222222222222,
              "#3e4989"
             ],
             [
              0.3333333333333333,
              "#31688e"
             ],
             [
              0.4444444444444444,
              "#26828e"
             ],
             [
              0.5555555555555556,
              "#1f9e89"
             ],
             [
              0.6666666666666666,
              "#35b779"
             ],
             [
              0.7777777777777778,
              "#6ece58"
             ],
             [
              0.8888888888888888,
              "#b5de2b"
             ],
             [
              1,
              "#fde725"
             ]
            ],
            "type": "histogram2d"
           }
          ],
          "histogram2dcontour": [
           {
            "colorbar": {
             "outlinewidth": 1,
             "tickcolor": "rgb(36,36,36)",
             "ticks": "outside"
            },
            "colorscale": [
             [
              0,
              "#440154"
             ],
             [
              0.1111111111111111,
              "#482878"
             ],
             [
              0.2222222222222222,
              "#3e4989"
             ],
             [
              0.3333333333333333,
              "#31688e"
             ],
             [
              0.4444444444444444,
              "#26828e"
             ],
             [
              0.5555555555555556,
              "#1f9e89"
             ],
             [
              0.6666666666666666,
              "#35b779"
             ],
             [
              0.7777777777777778,
              "#6ece58"
             ],
             [
              0.8888888888888888,
              "#b5de2b"
             ],
             [
              1,
              "#fde725"
             ]
            ],
            "type": "histogram2dcontour"
           }
          ],
          "mesh3d": [
           {
            "colorbar": {
             "outlinewidth": 1,
             "tickcolor": "rgb(36,36,36)",
             "ticks": "outside"
            },
            "type": "mesh3d"
           }
          ],
          "parcoords": [
           {
            "line": {
             "colorbar": {
              "outlinewidth": 1,
              "tickcolor": "rgb(36,36,36)",
              "ticks": "outside"
             }
            },
            "type": "parcoords"
           }
          ],
          "pie": [
           {
            "automargin": true,
            "type": "pie"
           }
          ],
          "scatter": [
           {
            "fillpattern": {
             "fillmode": "overlay",
             "size": 10,
             "solidity": 0.2
            },
            "type": "scatter"
           }
          ],
          "scatter3d": [
           {
            "line": {
             "colorbar": {
              "outlinewidth": 1,
              "tickcolor": "rgb(36,36,36)",
              "ticks": "outside"
             }
            },
            "marker": {
             "colorbar": {
              "outlinewidth": 1,
              "tickcolor": "rgb(36,36,36)",
              "ticks": "outside"
             }
            },
            "type": "scatter3d"
           }
          ],
          "scattercarpet": [
           {
            "marker": {
             "colorbar": {
              "outlinewidth": 1,
              "tickcolor": "rgb(36,36,36)",
              "ticks": "outside"
             }
            },
            "type": "scattercarpet"
           }
          ],
          "scattergeo": [
           {
            "marker": {
             "colorbar": {
              "outlinewidth": 1,
              "tickcolor": "rgb(36,36,36)",
              "ticks": "outside"
             }
            },
            "type": "scattergeo"
           }
          ],
          "scattergl": [
           {
            "marker": {
             "colorbar": {
              "outlinewidth": 1,
              "tickcolor": "rgb(36,36,36)",
              "ticks": "outside"
             }
            },
            "type": "scattergl"
           }
          ],
          "scattermapbox": [
           {
            "marker": {
             "colorbar": {
              "outlinewidth": 1,
              "tickcolor": "rgb(36,36,36)",
              "ticks": "outside"
             }
            },
            "type": "scattermapbox"
           }
          ],
          "scatterpolar": [
           {
            "marker": {
             "colorbar": {
              "outlinewidth": 1,
              "tickcolor": "rgb(36,36,36)",
              "ticks": "outside"
             }
            },
            "type": "scatterpolar"
           }
          ],
          "scatterpolargl": [
           {
            "marker": {
             "colorbar": {
              "outlinewidth": 1,
              "tickcolor": "rgb(36,36,36)",
              "ticks": "outside"
             }
            },
            "type": "scatterpolargl"
           }
          ],
          "scatterternary": [
           {
            "marker": {
             "colorbar": {
              "outlinewidth": 1,
              "tickcolor": "rgb(36,36,36)",
              "ticks": "outside"
             }
            },
            "type": "scatterternary"
           }
          ],
          "surface": [
           {
            "colorbar": {
             "outlinewidth": 1,
             "tickcolor": "rgb(36,36,36)",
             "ticks": "outside"
            },
            "colorscale": [
             [
              0,
              "#440154"
             ],
             [
              0.1111111111111111,
              "#482878"
             ],
             [
              0.2222222222222222,
              "#3e4989"
             ],
             [
              0.3333333333333333,
              "#31688e"
             ],
             [
              0.4444444444444444,
              "#26828e"
             ],
             [
              0.5555555555555556,
              "#1f9e89"
             ],
             [
              0.6666666666666666,
              "#35b779"
             ],
             [
              0.7777777777777778,
              "#6ece58"
             ],
             [
              0.8888888888888888,
              "#b5de2b"
             ],
             [
              1,
              "#fde725"
             ]
            ],
            "type": "surface"
           }
          ],
          "table": [
           {
            "cells": {
             "fill": {
              "color": "rgb(237,237,237)"
             },
             "line": {
              "color": "white"
             }
            },
            "header": {
             "fill": {
              "color": "rgb(217,217,217)"
             },
             "line": {
              "color": "white"
             }
            },
            "type": "table"
           }
          ]
         },
         "layout": {
          "annotationdefaults": {
           "arrowhead": 0,
           "arrowwidth": 1
          },
          "autotypenumbers": "strict",
          "coloraxis": {
           "colorbar": {
            "outlinewidth": 1,
            "tickcolor": "rgb(36,36,36)",
            "ticks": "outside"
           }
          },
          "colorscale": {
           "diverging": [
            [
             0,
             "rgb(103,0,31)"
            ],
            [
             0.1,
             "rgb(178,24,43)"
            ],
            [
             0.2,
             "rgb(214,96,77)"
            ],
            [
             0.3,
             "rgb(244,165,130)"
            ],
            [
             0.4,
             "rgb(253,219,199)"
            ],
            [
             0.5,
             "rgb(247,247,247)"
            ],
            [
             0.6,
             "rgb(209,229,240)"
            ],
            [
             0.7,
             "rgb(146,197,222)"
            ],
            [
             0.8,
             "rgb(67,147,195)"
            ],
            [
             0.9,
             "rgb(33,102,172)"
            ],
            [
             1,
             "rgb(5,48,97)"
            ]
           ],
           "sequential": [
            [
             0,
             "#440154"
            ],
            [
             0.1111111111111111,
             "#482878"
            ],
            [
             0.2222222222222222,
             "#3e4989"
            ],
            [
             0.3333333333333333,
             "#31688e"
            ],
            [
             0.4444444444444444,
             "#26828e"
            ],
            [
             0.5555555555555556,
             "#1f9e89"
            ],
            [
             0.6666666666666666,
             "#35b779"
            ],
            [
             0.7777777777777778,
             "#6ece58"
            ],
            [
             0.8888888888888888,
             "#b5de2b"
            ],
            [
             1,
             "#fde725"
            ]
           ],
           "sequentialminus": [
            [
             0,
             "#440154"
            ],
            [
             0.1111111111111111,
             "#482878"
            ],
            [
             0.2222222222222222,
             "#3e4989"
            ],
            [
             0.3333333333333333,
             "#31688e"
            ],
            [
             0.4444444444444444,
             "#26828e"
            ],
            [
             0.5555555555555556,
             "#1f9e89"
            ],
            [
             0.6666666666666666,
             "#35b779"
            ],
            [
             0.7777777777777778,
             "#6ece58"
            ],
            [
             0.8888888888888888,
             "#b5de2b"
            ],
            [
             1,
             "#fde725"
            ]
           ]
          },
          "colorway": [
           "#1F77B4",
           "#FF7F0E",
           "#2CA02C",
           "#D62728",
           "#9467BD",
           "#8C564B",
           "#E377C2",
           "#7F7F7F",
           "#BCBD22",
           "#17BECF"
          ],
          "font": {
           "color": "rgb(36,36,36)"
          },
          "geo": {
           "bgcolor": "white",
           "lakecolor": "white",
           "landcolor": "white",
           "showlakes": true,
           "showland": true,
           "subunitcolor": "white"
          },
          "hoverlabel": {
           "align": "left"
          },
          "hovermode": "closest",
          "mapbox": {
           "style": "light"
          },
          "paper_bgcolor": "white",
          "plot_bgcolor": "white",
          "polar": {
           "angularaxis": {
            "gridcolor": "rgb(232,232,232)",
            "linecolor": "rgb(36,36,36)",
            "showgrid": false,
            "showline": true,
            "ticks": "outside"
           },
           "bgcolor": "white",
           "radialaxis": {
            "gridcolor": "rgb(232,232,232)",
            "linecolor": "rgb(36,36,36)",
            "showgrid": false,
            "showline": true,
            "ticks": "outside"
           }
          },
          "scene": {
           "xaxis": {
            "backgroundcolor": "white",
            "gridcolor": "rgb(232,232,232)",
            "gridwidth": 2,
            "linecolor": "rgb(36,36,36)",
            "showbackground": true,
            "showgrid": false,
            "showline": true,
            "ticks": "outside",
            "zeroline": false,
            "zerolinecolor": "rgb(36,36,36)"
           },
           "yaxis": {
            "backgroundcolor": "white",
            "gridcolor": "rgb(232,232,232)",
            "gridwidth": 2,
            "linecolor": "rgb(36,36,36)",
            "showbackground": true,
            "showgrid": false,
            "showline": true,
            "ticks": "outside",
            "zeroline": false,
            "zerolinecolor": "rgb(36,36,36)"
           },
           "zaxis": {
            "backgroundcolor": "white",
            "gridcolor": "rgb(232,232,232)",
            "gridwidth": 2,
            "linecolor": "rgb(36,36,36)",
            "showbackground": true,
            "showgrid": false,
            "showline": true,
            "ticks": "outside",
            "zeroline": false,
            "zerolinecolor": "rgb(36,36,36)"
           }
          },
          "shapedefaults": {
           "fillcolor": "black",
           "line": {
            "width": 0
           },
           "opacity": 0.3
          },
          "ternary": {
           "aaxis": {
            "gridcolor": "rgb(232,232,232)",
            "linecolor": "rgb(36,36,36)",
            "showgrid": false,
            "showline": true,
            "ticks": "outside"
           },
           "baxis": {
            "gridcolor": "rgb(232,232,232)",
            "linecolor": "rgb(36,36,36)",
            "showgrid": false,
            "showline": true,
            "ticks": "outside"
           },
           "bgcolor": "white",
           "caxis": {
            "gridcolor": "rgb(232,232,232)",
            "linecolor": "rgb(36,36,36)",
            "showgrid": false,
            "showline": true,
            "ticks": "outside"
           }
          },
          "title": {
           "x": 0.05
          },
          "xaxis": {
           "automargin": true,
           "gridcolor": "rgb(232,232,232)",
           "linecolor": "rgb(36,36,36)",
           "showgrid": false,
           "showline": true,
           "ticks": "outside",
           "title": {
            "standoff": 15
           },
           "zeroline": false,
           "zerolinecolor": "rgb(36,36,36)"
          },
          "yaxis": {
           "automargin": true,
           "gridcolor": "rgb(232,232,232)",
           "linecolor": "rgb(36,36,36)",
           "showgrid": false,
           "showline": true,
           "ticks": "outside",
           "title": {
            "standoff": 15
           },
           "zeroline": false,
           "zerolinecolor": "rgb(36,36,36)"
          }
         }
        },
        "title": {
         "font": {
          "color": "Black",
          "size": 22
         },
         "text": "<b>Topics over Time</b>",
         "x": 0.4,
         "xanchor": "center",
         "y": 0.95,
         "yanchor": "top"
        },
        "width": 1250,
        "xaxis": {
         "showgrid": true
        },
        "yaxis": {
         "showgrid": true,
         "title": {
          "text": "Frequency"
         }
        }
       }
      }
     },
     "metadata": {},
     "output_type": "display_data"
    }
   ],
   "source": [
    "topicModel.visualize_topics_over_time(topics_over_time, topics=topic_nums)"
   ]
  },
  {
   "cell_type": "code",
   "execution_count": 80,
   "metadata": {},
   "outputs": [],
   "source": [
    "fig = topicModel.visualize_topics_over_time(topics_over_time, topics=topic_nums)\n",
    "fig.write_html(\"bert_topics_over_time.html\")"
   ]
  },
  {
   "cell_type": "code",
   "execution_count": null,
   "metadata": {},
   "outputs": [],
   "source": []
  }
 ],
 "metadata": {
  "kernelspec": {
   "display_name": "optus-ai-env",
   "language": "python",
   "name": "python3"
  },
  "language_info": {
   "codemirror_mode": {
    "name": "ipython",
    "version": 3
   },
   "file_extension": ".py",
   "mimetype": "text/x-python",
   "name": "python",
   "nbconvert_exporter": "python",
   "pygments_lexer": "ipython3",
   "version": "3.8.5"
  }
 },
 "nbformat": 4,
 "nbformat_minor": 2
}
