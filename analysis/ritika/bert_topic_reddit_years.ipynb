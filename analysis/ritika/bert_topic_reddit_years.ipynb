{
 "cells": [
  {
   "cell_type": "code",
   "execution_count": 38,
   "metadata": {},
   "outputs": [],
   "source": [
    "import pickle\n",
    "import datetime as dt\n",
    "import pandas as pd\n",
    "from bertopic import BERTopic\n",
    "from sklearn.datasets import fetch_20newsgroups#\n",
    "from sentence_transformers import SentenceTransformer\n",
    "from bertopic.representation import KeyBERTInspired"
   ]
  },
  {
   "cell_type": "markdown",
   "metadata": {},
   "source": [
    "### Store and Preprocess Data"
   ]
  },
  {
   "cell_type": "code",
   "execution_count": 2,
   "metadata": {},
   "outputs": [],
   "source": [
    "submissions1 = pd.read_json(\"/Users/ritikabrahmadesam/Documents/College/RCOS/OPTUS-AI_RAWDATA/opiates_submissions1.json\")\n",
    "submissions2 = pd.read_json(\"/Users/ritikabrahmadesam/Documents/College/RCOS/OPTUS-AI_RAWDATA/opiates_submissions2.json\")\n",
    "submissions3 = pd.read_json(\"/Users/ritikabrahmadesam/Documents/College/RCOS/OPTUS-AI_RAWDATA/opiates_submissions3.json\")\n",
    "submissions4 = pd.read_json(\"/Users/ritikabrahmadesam/Documents/College/RCOS/OPTUS-AI_RAWDATA/opiates_submissions4.json\")\n",
    "submissions5 = pd.read_json(\"/Users/ritikabrahmadesam/Documents/College/RCOS/OPTUS-AI_RAWDATA/opiates_submissions5.json\")\n",
    "submissions6 = pd.read_json(\"/Users/ritikabrahmadesam/Documents/College/RCOS/OPTUS-AI_RAWDATA/opiates_submissions6.json\")\n",
    "submissions7 = pd.read_json(\"/Users/ritikabrahmadesam/Documents/College/RCOS/OPTUS-AI_RAWDATA/opiates_submissions7.json\")"
   ]
  },
  {
   "cell_type": "code",
   "execution_count": 14,
   "metadata": {},
   "outputs": [],
   "source": [
    "submissions['selftext'].to_csv(\"data_find\")"
   ]
  },
  {
   "cell_type": "code",
   "execution_count": 26,
   "metadata": {},
   "outputs": [
    {
     "name": "stdout",
     "output_type": "stream",
     "text": [
      "29108532\n",
      "17624970\n"
     ]
    }
   ],
   "source": [
    "submissions = pd.concat([submissions1, submissions2, submissions3, submissions4, submissions5, submissions6, submissions7], ignore_index=True)\n",
    "print(submissions.size)\n",
    "submissions = submissions.loc[(submissions['selftext'] != '') & (submissions['selftext'] != '[deleted]') & (submissions['selftext'] != '[removed]')]\n",
    "submissions.dropna()\n",
    "submissions.reset_index(drop=True, inplace=True)\n",
    "mask = submissions['selftext'].str.len() >=1\n",
    "submissions= submissions.loc[mask]\n",
    "#posts['selftext'] = posts['title'].astype('str')\n",
    "print(submissions.size)\n"
   ]
  },
  {
   "cell_type": "code",
   "execution_count": 28,
   "metadata": {},
   "outputs": [],
   "source": [
    "submissions['created_utc'] = submissions['created_utc'].apply(lambda date: dt.datetime.fromtimestamp(date))\n",
    "submissions = submissions.sort_values(by='created_utc', ascending=True)\n",
    "years =set(submissions['created_utc'].dt.year.to_list())"
   ]
  },
  {
   "cell_type": "markdown",
   "metadata": {},
   "source": [
    "### Calculate Topics by Years"
   ]
  },
  {
   "cell_type": "code",
   "execution_count": 29,
   "metadata": {},
   "outputs": [
    {
     "name": "stdout",
     "output_type": "stream",
     "text": [
      "2016\n",
      "sampling data\n"
     ]
    },
    {
     "name": "stderr",
     "output_type": "stream",
     "text": [
      "Batches: 100%|██████████| 94/94 [02:32<00:00,  1.62s/it]\n"
     ]
    },
    {
     "name": "stdout",
     "output_type": "stream",
     "text": [
      "2017\n",
      "sampling data\n"
     ]
    },
    {
     "name": "stderr",
     "output_type": "stream",
     "text": [
      "Batches: 100%|██████████| 94/94 [02:22<00:00,  1.51s/it]\n"
     ]
    },
    {
     "name": "stdout",
     "output_type": "stream",
     "text": [
      "2018\n",
      "sampling data\n"
     ]
    },
    {
     "name": "stderr",
     "output_type": "stream",
     "text": [
      "Batches: 100%|██████████| 94/94 [02:15<00:00,  1.45s/it]\n"
     ]
    },
    {
     "name": "stdout",
     "output_type": "stream",
     "text": [
      "2019\n",
      "sampling data\n"
     ]
    },
    {
     "name": "stderr",
     "output_type": "stream",
     "text": [
      "Batches: 100%|██████████| 94/94 [02:00<00:00,  1.29s/it]\n"
     ]
    },
    {
     "name": "stdout",
     "output_type": "stream",
     "text": [
      "2020\n",
      "sampling data\n"
     ]
    },
    {
     "name": "stderr",
     "output_type": "stream",
     "text": [
      "Batches: 100%|██████████| 94/94 [02:06<00:00,  1.34s/it]\n"
     ]
    },
    {
     "name": "stdout",
     "output_type": "stream",
     "text": [
      "2021\n",
      "sampling data\n"
     ]
    },
    {
     "name": "stderr",
     "output_type": "stream",
     "text": [
      "Batches: 100%|██████████| 94/94 [01:57<00:00,  1.25s/it]\n"
     ]
    },
    {
     "name": "stdout",
     "output_type": "stream",
     "text": [
      "2022\n",
      "sampling data\n"
     ]
    },
    {
     "name": "stderr",
     "output_type": "stream",
     "text": [
      "Batches: 100%|██████████| 94/94 [01:47<00:00,  1.14s/it]\n"
     ]
    },
    {
     "name": "stdout",
     "output_type": "stream",
     "text": [
      "2010\n",
      "sampling data\n"
     ]
    },
    {
     "name": "stderr",
     "output_type": "stream",
     "text": [
      "Batches: 100%|██████████| 2/2 [00:03<00:00,  1.55s/it]\n"
     ]
    },
    {
     "name": "stdout",
     "output_type": "stream",
     "text": [
      "2011\n",
      "sampling data\n"
     ]
    },
    {
     "name": "stderr",
     "output_type": "stream",
     "text": [
      "Batches: 100%|██████████| 13/13 [00:20<00:00,  1.58s/it]\n"
     ]
    },
    {
     "name": "stdout",
     "output_type": "stream",
     "text": [
      "2012\n",
      "sampling data\n"
     ]
    },
    {
     "name": "stderr",
     "output_type": "stream",
     "text": [
      "Batches: 100%|██████████| 94/94 [02:11<00:00,  1.40s/it]\n"
     ]
    },
    {
     "name": "stdout",
     "output_type": "stream",
     "text": [
      "2013\n",
      "sampling data\n"
     ]
    },
    {
     "name": "stderr",
     "output_type": "stream",
     "text": [
      "Batches: 100%|██████████| 1/1 [00:00<00:00,  1.74it/s]\n"
     ]
    },
    {
     "name": "stdout",
     "output_type": "stream",
     "text": [
      "2014\n",
      "sampling data\n"
     ]
    },
    {
     "name": "stderr",
     "output_type": "stream",
     "text": [
      "Batches: 100%|██████████| 94/94 [02:16<00:00,  1.45s/it]\n"
     ]
    },
    {
     "name": "stdout",
     "output_type": "stream",
     "text": [
      "2015\n",
      "sampling data\n"
     ]
    },
    {
     "name": "stderr",
     "output_type": "stream",
     "text": [
      "Batches: 100%|██████████| 94/94 [02:17<00:00,  1.47s/it]\n"
     ]
    }
   ],
   "source": [
    "\n",
    "if 0:\n",
    "    print(year)\n",
    "    sample_number = 3000\n",
    "    posts = submissions[submissions['created_utc'].dt.year==year]\n",
    "\n",
    "\n",
    "    print(\"sampling data\")\n",
    "    if(posts.shape[0] < 3000):\n",
    "        sample_number = posts.shape[0]\n",
    "    dfSample = posts['selftext'].sample(sample_number)\n",
    "    data = dfSample.to_list()\n",
    "    \n",
    "    embedding_model = SentenceTransformer(\"all-MiniLM-L6-v2\") # fast but pretty accurate embeddings\n",
    "    embeddings = embedding_model.encode(data, show_progress_bar=True)\n",
    "    with open(str(year) + \"embeddings.pkl\", \"wb\") as fOut:\n",
    "        pickle.dump({str(year)+'embeddings-only1': embeddings},fOut)"
   ]
  },
  {
   "cell_type": "code",
   "execution_count": 45,
   "metadata": {},
   "outputs": [
    {
     "name": "stdout",
     "output_type": "stream",
     "text": [
      "{'2016embeddings-only1': array([[-2.8931147e-03, -1.0990363e-01,  6.6168144e-02, ...,\n",
      "         9.0606883e-03,  6.5594348e-03, -6.5573463e-03],\n",
      "       [-8.0260649e-02, -7.0326060e-02, -2.4151871e-02, ...,\n",
      "         6.0399845e-03,  1.8606786e-02, -1.8828316e-02],\n",
      "       [ 2.1699646e-02,  2.7360922e-05,  2.3694694e-02, ...,\n",
      "        -6.5688647e-02, -6.5822583e-03, -2.2711031e-02],\n",
      "       ...,\n",
      "       [ 2.2890145e-02, -6.7461558e-02,  4.3521132e-03, ...,\n",
      "        -5.5088274e-02, -1.9784969e-04, -2.8905377e-02],\n",
      "       [ 6.7359857e-02, -8.5017018e-02, -5.8567179e-03, ...,\n",
      "        -2.4620745e-02, -2.7051095e-02,  4.0021427e-02],\n",
      "       [ 7.0983075e-02,  1.1113807e-01,  2.7779860e-02, ...,\n",
      "        -3.0476460e-03, -9.4917715e-02,  1.9114187e-02]], dtype=float32)}\n"
     ]
    },
    {
     "name": "stderr",
     "output_type": "stream",
     "text": [
      "2023-11-20 17:49:05,908 - BERTopic - Reduced dimensionality\n",
      "2023-11-20 17:49:06,006 - BERTopic - Clustered reduced embeddings\n"
     ]
    },
    {
     "name": "stdout",
     "output_type": "stream",
     "text": [
      "{'2017embeddings-only1': array([[-0.04409034, -0.09077199, -0.00893802, ...,  0.09062455,\n",
      "        -0.08203623,  0.03371636],\n",
      "       [ 0.01626818, -0.01278613,  0.01106399, ..., -0.00161768,\n",
      "        -0.09539252, -0.02737349],\n",
      "       [-0.00109263,  0.1089293 ,  0.02795395, ...,  0.03535517,\n",
      "        -0.02318533, -0.0275852 ],\n",
      "       ...,\n",
      "       [-0.03249486,  0.0095879 ,  0.01783998, ..., -0.02543228,\n",
      "        -0.04499633, -0.00801935],\n",
      "       [ 0.08365713, -0.00994504,  0.01657425, ..., -0.02728137,\n",
      "        -0.06881227,  0.00429414],\n",
      "       [-0.02172235,  0.07705797,  0.04117063, ..., -0.01015177,\n",
      "         0.00011748, -0.04086026]], dtype=float32)}\n"
     ]
    },
    {
     "name": "stderr",
     "output_type": "stream",
     "text": [
      "2023-11-20 17:49:39,013 - BERTopic - Reduced dimensionality\n",
      "2023-11-20 17:49:39,109 - BERTopic - Clustered reduced embeddings\n"
     ]
    },
    {
     "name": "stdout",
     "output_type": "stream",
     "text": [
      "{'2018embeddings-only1': array([[ 0.08470776, -0.01665849,  0.07448334, ...,  0.00134327,\n",
      "        -0.07450522, -0.04679236],\n",
      "       [-0.01306077, -0.05099441, -0.00499397, ..., -0.03272002,\n",
      "        -0.03330849,  0.0942742 ],\n",
      "       [ 0.02537968, -0.03551613,  0.00499156, ..., -0.0937696 ,\n",
      "        -0.03420861,  0.02941266],\n",
      "       ...,\n",
      "       [-0.12457715,  0.10605086,  0.04469365, ..., -0.02428617,\n",
      "        -0.06795746, -0.01325911],\n",
      "       [-0.01637382,  0.03666568,  0.04334334, ..., -0.08754168,\n",
      "        -0.05433042,  0.08092182],\n",
      "       [ 0.0135336 , -0.05795679,  0.12259805, ...,  0.05217906,\n",
      "        -0.11027162, -0.04313593]], dtype=float32)}\n"
     ]
    },
    {
     "name": "stderr",
     "output_type": "stream",
     "text": [
      "2023-11-20 17:50:10,772 - BERTopic - Reduced dimensionality\n",
      "2023-11-20 17:50:10,873 - BERTopic - Clustered reduced embeddings\n"
     ]
    },
    {
     "name": "stdout",
     "output_type": "stream",
     "text": [
      "{'2019embeddings-only1': array([[-0.01336967,  0.02203912,  0.01933719, ..., -0.01353638,\n",
      "        -0.04460654, -0.02711279],\n",
      "       [-0.09348077, -0.03786033, -0.01896939, ..., -0.02529137,\n",
      "         0.10522322,  0.05551704],\n",
      "       [ 0.00189768, -0.0680602 , -0.04574516, ..., -0.01126178,\n",
      "         0.09886061, -0.00357157],\n",
      "       ...,\n",
      "       [-0.02257104, -0.03583921, -0.00017842, ...,  0.02732942,\n",
      "        -0.02656361, -0.07208896],\n",
      "       [-0.06886193,  0.02594801,  0.02603942, ..., -0.01542181,\n",
      "         0.06935926,  0.04376236],\n",
      "       [ 0.07061513,  0.05772305,  0.05169167, ...,  0.01717081,\n",
      "        -0.07312124,  0.0425809 ]], dtype=float32)}\n"
     ]
    },
    {
     "name": "stderr",
     "output_type": "stream",
     "text": [
      "2023-11-20 17:50:39,739 - BERTopic - Reduced dimensionality\n",
      "2023-11-20 17:50:39,835 - BERTopic - Clustered reduced embeddings\n"
     ]
    },
    {
     "name": "stdout",
     "output_type": "stream",
     "text": [
      "{'2020embeddings-only1': array([[ 0.05027443, -0.03019443,  0.01535617, ..., -0.08992632,\n",
      "        -0.05380837, -0.04757331],\n",
      "       [ 0.04053731, -0.00286143, -0.00289355, ..., -0.03523187,\n",
      "         0.01449259, -0.00103807],\n",
      "       [-0.1012122 ,  0.03234487, -0.01963287, ..., -0.11414655,\n",
      "         0.02871956, -0.03377759],\n",
      "       ...,\n",
      "       [-0.02985334,  0.02173256, -0.02059508, ..., -0.03746631,\n",
      "        -0.02864471, -0.00417465],\n",
      "       [ 0.07987844, -0.15968378,  0.01658728, ...,  0.08339537,\n",
      "         0.0445888 , -0.03997164],\n",
      "       [-0.03460403,  0.00305958,  0.02863645, ..., -0.12425983,\n",
      "         0.00398538,  0.06020412]], dtype=float32)}\n"
     ]
    },
    {
     "name": "stderr",
     "output_type": "stream",
     "text": [
      "2023-11-20 17:51:12,427 - BERTopic - Reduced dimensionality\n",
      "2023-11-20 17:51:12,530 - BERTopic - Clustered reduced embeddings\n"
     ]
    },
    {
     "name": "stdout",
     "output_type": "stream",
     "text": [
      "{'2021embeddings-only1': array([[-0.00379872, -0.03604827, -0.03771646, ..., -0.02349331,\n",
      "        -0.00215024, -0.02105709],\n",
      "       [ 0.0260278 , -0.01392777,  0.04263585, ..., -0.09203416,\n",
      "        -0.00624286,  0.03496077],\n",
      "       [-0.06347186, -0.06693182,  0.00027332, ..., -0.09177687,\n",
      "        -0.04847464, -0.03330031],\n",
      "       ...,\n",
      "       [ 0.02724442, -0.07131824,  0.0660364 , ..., -0.04178296,\n",
      "         0.0077703 ,  0.02448353],\n",
      "       [ 0.04101005, -0.04395668, -0.00022157, ..., -0.06398869,\n",
      "        -0.04859978,  0.02820007],\n",
      "       [-0.00126933, -0.05166581, -0.07237146, ..., -0.03564291,\n",
      "         0.05250688,  0.05811672]], dtype=float32)}\n"
     ]
    },
    {
     "name": "stderr",
     "output_type": "stream",
     "text": [
      "2023-11-20 17:51:43,580 - BERTopic - Reduced dimensionality\n",
      "2023-11-20 17:51:43,680 - BERTopic - Clustered reduced embeddings\n"
     ]
    },
    {
     "name": "stdout",
     "output_type": "stream",
     "text": [
      "{'2022embeddings-only1': array([[ 0.03141153, -0.06745194, -0.02076028, ..., -0.02395406,\n",
      "        -0.04756227,  0.01294449],\n",
      "       [ 0.04883639, -0.01472938,  0.01517043, ..., -0.06549706,\n",
      "        -0.0469088 ,  0.08035963],\n",
      "       [-0.02786929, -0.0591104 , -0.03729664, ...,  0.00171094,\n",
      "         0.08300571, -0.02897988],\n",
      "       ...,\n",
      "       [ 0.00545292, -0.0050073 , -0.00937492, ..., -0.05400174,\n",
      "        -0.01869861,  0.06443758],\n",
      "       [ 0.043503  , -0.06323043, -0.00214287, ..., -0.12154653,\n",
      "        -0.0522516 ,  0.13513212],\n",
      "       [ 0.01823201, -0.04719174,  0.01036312, ...,  0.06068161,\n",
      "        -0.04321857, -0.05248189]], dtype=float32)}\n"
     ]
    },
    {
     "name": "stderr",
     "output_type": "stream",
     "text": [
      "2023-11-20 17:51:55,234 - BERTopic - Reduced dimensionality\n",
      "2023-11-20 17:51:55,353 - BERTopic - Clustered reduced embeddings\n"
     ]
    },
    {
     "name": "stdout",
     "output_type": "stream",
     "text": [
      "{'2010embeddings-only1': array([[ 0.03388299, -0.06846802,  0.03841985, ...,  0.05455399,\n",
      "        -0.00486806,  0.01869964],\n",
      "       [-0.00330581,  0.00080769, -0.03523574, ...,  0.01124648,\n",
      "         0.0504192 , -0.04749123],\n",
      "       [ 0.04282231, -0.05474753,  0.00504814, ..., -0.01300391,\n",
      "        -0.05396838, -0.00044658],\n",
      "       ...,\n",
      "       [ 0.05637384, -0.01025718, -0.00970191, ..., -0.01745078,\n",
      "         0.04160207,  0.05710806],\n",
      "       [ 0.02521606, -0.13671012, -0.05509052, ..., -0.02573266,\n",
      "         0.08087453, -0.01877661],\n",
      "       [ 0.11545262, -0.01121868, -0.07574148, ..., -0.02368018,\n",
      "        -0.05258647, -0.01110857]], dtype=float32)}\n",
      "{'2011embeddings-only1': array([[-0.00290896, -0.06732383,  0.03931407, ..., -0.13989131,\n",
      "        -0.06387119,  0.04358809],\n",
      "       [ 0.06019468, -0.0665935 ,  0.01171349, ..., -0.08103342,\n",
      "        -0.1026013 ,  0.01119775],\n",
      "       [ 0.0210888 , -0.05792421,  0.04812714, ..., -0.0562794 ,\n",
      "        -0.091479  ,  0.03172365],\n",
      "       ...,\n",
      "       [ 0.05618998,  0.00335697,  0.00176174, ..., -0.05660137,\n",
      "         0.06494936,  0.01902442],\n",
      "       [ 0.03865541, -0.05074078,  0.05145768, ..., -0.03772647,\n",
      "        -0.00069067, -0.03364421],\n",
      "       [ 0.07986265, -0.0153167 ,  0.02714584, ...,  0.0060751 ,\n",
      "         0.00798211, -0.00534422]], dtype=float32)}\n",
      "{'2012embeddings-only1': array([[-0.05975018, -0.01963712,  0.06989767, ..., -0.00474816,\n",
      "         0.02321544, -0.05812708],\n",
      "       [-0.04677698, -0.00604086,  0.03085865, ...,  0.07319211,\n",
      "         0.03682702,  0.06729802],\n",
      "       [ 0.0148151 , -0.02923988,  0.01459287, ..., -0.1005256 ,\n",
      "        -0.07970731, -0.01393546],\n",
      "       ...,\n",
      "       [-0.05728538, -0.02445957,  0.10773025, ..., -0.00678697,\n",
      "        -0.12142125,  0.0417155 ],\n",
      "       [ 0.02833953, -0.0576039 , -0.00103187, ..., -0.05511501,\n",
      "        -0.01843051, -0.03115649],\n",
      "       [ 0.01958393, -0.00684572,  0.10407935, ..., -0.04887459,\n",
      "        -0.12833333,  0.02791332]], dtype=float32)}\n"
     ]
    },
    {
     "name": "stderr",
     "output_type": "stream",
     "text": [
      "2023-11-20 17:52:28,696 - BERTopic - Reduced dimensionality\n",
      "2023-11-20 17:52:28,794 - BERTopic - Clustered reduced embeddings\n"
     ]
    },
    {
     "name": "stdout",
     "output_type": "stream",
     "text": [
      "{'2013embeddings-only1': array([[ 0.00425331, -0.04146898,  0.05958175, ..., -0.02212209,\n",
      "        -0.12164985,  0.02041013],\n",
      "       [-0.10149891, -0.00981178,  0.03868761, ..., -0.12120683,\n",
      "        -0.03522051, -0.02708027],\n",
      "       [ 0.04843904, -0.02671784,  0.11511432, ..., -0.01883863,\n",
      "         0.01414882,  0.07811869],\n",
      "       [ 0.04380814, -0.00322477,  0.03955466, ..., -0.0174785 ,\n",
      "        -0.09736925, -0.04361986],\n",
      "       [ 0.00681317, -0.04165075,  0.02873897, ...,  0.01848924,\n",
      "        -0.14966688,  0.03223858],\n",
      "       [ 0.04567214, -0.0400871 , -0.05745888, ..., -0.02220304,\n",
      "        -0.03625107,  0.06408536]], dtype=float32)}\n",
      "{'2014embeddings-only1': array([[-0.08889083, -0.01860604, -0.03503602, ..., -0.02129542,\n",
      "        -0.11735911,  0.00533552],\n",
      "       [-0.01329427, -0.00386929,  0.03713627, ..., -0.07471276,\n",
      "        -0.05758296, -0.0243179 ],\n",
      "       [ 0.01099008, -0.00231486,  0.1632459 , ...,  0.01835486,\n",
      "        -0.07468835, -0.11843091],\n",
      "       ...,\n",
      "       [ 0.01285856,  0.02279476, -0.0140312 , ..., -0.13013993,\n",
      "        -0.10149939,  0.04856452],\n",
      "       [ 0.00838368, -0.02833244,  0.01868782, ..., -0.02170502,\n",
      "        -0.09010157, -0.00891564],\n",
      "       [ 0.04750354, -0.03954945,  0.03409246, ..., -0.05061643,\n",
      "        -0.11222318,  0.07101263]], dtype=float32)}\n"
     ]
    },
    {
     "name": "stderr",
     "output_type": "stream",
     "text": [
      "2023-11-20 17:53:01,827 - BERTopic - Reduced dimensionality\n",
      "2023-11-20 17:53:01,940 - BERTopic - Clustered reduced embeddings\n"
     ]
    },
    {
     "name": "stdout",
     "output_type": "stream",
     "text": [
      "{'2015embeddings-only1': array([[ 0.08098323, -0.05043215,  0.00016234, ..., -0.0117062 ,\n",
      "         0.03085539,  0.0358707 ],\n",
      "       [ 0.00774006,  0.03259801, -0.01544798, ..., -0.03104876,\n",
      "        -0.08322182, -0.05940226],\n",
      "       [ 0.06153182, -0.04914653,  0.06097639, ..., -0.05919405,\n",
      "        -0.05664682,  0.01946494],\n",
      "       ...,\n",
      "       [ 0.02977203,  0.10366309,  0.03676306, ...,  0.01619382,\n",
      "        -0.14754355, -0.03148817],\n",
      "       [ 0.06079275, -0.07049439, -0.01995135, ..., -0.03904489,\n",
      "        -0.07651559,  0.00427957],\n",
      "       [-0.01641113,  0.05242947, -0.00965677, ..., -0.07338092,\n",
      "        -0.06213282, -0.02573716]], dtype=float32)}\n"
     ]
    }
   ],
   "source": [
    "embeddings = {}\n",
    "if 0:\n",
    "    for year in years:\n",
    "        with open(str(year) + \"embeddings.pkl\", \"rb\") as fIn:\n",
    "            cache_data = pickle.load(fIn)\n",
    "            print(cache_data)\n",
    "            embeddings = cache_data[str(year)+'embeddings-only1']\n",
    "        try:\n",
    "            topicModel = BERTopic(verbose=True, embedding_model=\"all-MiniLM-L6-v2\", representation_model=KeyBERTInspired()) \n",
    "            topics, probs = topicModel.fit_transform(data, embeddings)\n",
    "        except:\n",
    "            continue"
   ]
  },
  {
   "cell_type": "code",
   "execution_count": 48,
   "metadata": {},
   "outputs": [
    {
     "name": "stderr",
     "output_type": "stream",
     "text": [
      "Batches: 100%|██████████| 469/469 [12:09<00:00,  1.55s/it]\n",
      "2023-11-20 18:11:01,772 - BERTopic - Transformed documents to Embeddings\n",
      "2023-11-20 18:11:31,915 - BERTopic - Reduced dimensionality\n",
      "2023-11-20 18:11:32,852 - BERTopic - Clustered reduced embeddings\n"
     ]
    }
   ],
   "source": [
    "topic_model = BERTopic(verbose=True)\n",
    "sample_df = submissions.sample(15000)\n",
    "text = sample_df['selftext'].to_list()\n",
    "dates = sample_df['created_utc'].to_list()\n",
    "\n",
    "topic_model = BERTopic(verbose=True)\n",
    "topics, probs = topic_model.fit_transform(text)"
   ]
  },
  {
   "cell_type": "code",
   "execution_count": 64,
   "metadata": {},
   "outputs": [
    {
     "name": "stderr",
     "output_type": "stream",
     "text": [
      "10it [00:06,  1.52it/s]\n"
     ]
    }
   ],
   "source": [
    "topics_over_time = topic_model.topics_over_time(text, dates, datetime_format=\"%b%M\", nr_bins=10)"
   ]
  },
  {
   "cell_type": "code",
   "execution_count": 62,
   "metadata": {},
   "outputs": [],
   "source": [
    "topic_nums= list(range(0, 11))"
   ]
  },
  {
   "cell_type": "code",
   "execution_count": 63,
   "metadata": {},
   "outputs": [
    {
     "data": {
      "application/vnd.plotly.v1+json": {
       "config": {
        "plotlyServerURL": "https://plot.ly"
       },
       "data": [
        {
         "hoverinfo": "text",
         "hovertext": [
          "<b>Topic 0</b><br>Words: canada, 2007, exists, approved, websites",
          "<b>Topic 0</b><br>Words: cause, bupe, brown, subs, 2448",
          "<b>Topic 0</b><br>Words: subs, suboxone, sub, take, wait",
          "<b>Topic 0</b><br>Words: subs, pwd, lope, period, 24",
          "<b>Topic 0</b><br>Words: suboxone, subs, hours, subutex, take",
          "<b>Topic 0</b><br>Words: suboxone, subs, sub, 8mg, take",
          "<b>Topic 0</b><br>Words: suboxone, subs, sub, take, 8mg",
          "<b>Topic 0</b><br>Words: suboxone, subs, sub, take, day",
          "<b>Topic 0</b><br>Words: suboxone, subs, sub, take, hours",
          "<b>Topic 0</b><br>Words: suboxone, subs, sub, take, 8mg",
          "<b>Topic 0</b><br>Words: suboxone, subs, sub, take, 8mg",
          "<b>Topic 0</b><br>Words: suboxone, subs, sub, take, subutex",
          "<b>Topic 0</b><br>Words: suboxone, subs, take, sub, wait"
         ],
         "marker": {
          "color": "#E69F00"
         },
         "mode": "lines",
         "name": "0_suboxone_subs_sub_take",
         "type": "scatter",
         "x": [
          "2010-04-15T01:24:18.303000",
          "2011-04-04T07:39:01.384615",
          "2012-03-19T00:47:05.769230",
          "2013-03-03T17:55:10.153846",
          "2014-02-16T11:03:14.538461",
          "2015-02-01T04:11:18.923076",
          "2016-01-16T21:19:23.307692",
          "2016-12-31T14:27:27.692307",
          "2017-12-16T07:35:32.076923",
          "2018-12-01T00:43:36.461538",
          "2019-11-15T17:51:40.846153",
          "2020-10-30T10:59:45.230769",
          "2021-10-15T04:07:49.615384"
         ],
         "y": [
          1,
          2,
          10,
          1,
          18,
          34,
          55,
          59,
          64,
          77,
          85,
          74,
          75
         ]
        },
        {
         "hoverinfo": "text",
         "hovertext": [
          "<b>Topic 1</b><br>Words: pain, shift, hospital, was, sleepless",
          "<b>Topic 1</b><br>Words: ultram, menstrual, refilled, pms, 6pm",
          "<b>Topic 1</b><br>Words: pain, doctor, script, she, my",
          "<b>Topic 1</b><br>Words: script, adderall, lovelovelove, toothbrush, floss",
          "<b>Topic 1</b><br>Words: pain, script, doctor, my, me",
          "<b>Topic 1</b><br>Words: pain, doctor, script, my, to",
          "<b>Topic 1</b><br>Words: pain, script, doctor, my, they",
          "<b>Topic 1</b><br>Words: pain, doctor, script, my, they",
          "<b>Topic 1</b><br>Words: pain, script, doctor, my, dentist",
          "<b>Topic 1</b><br>Words: pain, doctor, script, my, to",
          "<b>Topic 1</b><br>Words: pain, doctor, my, they, script",
          "<b>Topic 1</b><br>Words: pain, doctor, script, my, me",
          "<b>Topic 1</b><br>Words: pain, doctor, my, script, they"
         ],
         "marker": {
          "color": "#56B4E9"
         },
         "mode": "lines",
         "name": "1_pain_doctor_script_my",
         "type": "scatter",
         "x": [
          "2010-04-15T01:24:18.303000",
          "2011-04-04T07:39:01.384615",
          "2012-03-19T00:47:05.769230",
          "2013-03-03T17:55:10.153846",
          "2014-02-16T11:03:14.538461",
          "2015-02-01T04:11:18.923076",
          "2016-01-16T21:19:23.307692",
          "2016-12-31T14:27:27.692307",
          "2017-12-16T07:35:32.076923",
          "2018-12-01T00:43:36.461538",
          "2019-11-15T17:51:40.846153",
          "2020-10-30T10:59:45.230769",
          "2021-10-15T04:07:49.615384"
         ],
         "y": [
          1,
          1,
          13,
          3,
          25,
          39,
          33,
          32,
          41,
          45,
          40,
          30,
          36
         ]
        },
        {
         "hoverinfo": "text",
         "hovertext": [
          "<b>Topic 2</b><br>Words: kratom, subtle, pillssmack, trythey, gkbgkb",
          "<b>Topic 2</b><br>Words: intestinal, mitragynine, kratom, knowledgeable, concentrate",
          "<b>Topic 2</b><br>Words: kratom, lope, sub, 6am, 1mg",
          "<b>Topic 2</b><br>Words: kratom, kava, paregoric, it, taking",
          "<b>Topic 2</b><br>Words: kratom, mxe, opiates, it, try",
          "<b>Topic 2</b><br>Words: kratom, of, for, days, the",
          "<b>Topic 2</b><br>Words: kratom, taking, oxy, dose, of",
          "<b>Topic 2</b><br>Words: kratom, grams, day, take, oxy",
          "<b>Topic 2</b><br>Words: kratom, take, taking, oxy, of",
          "<b>Topic 2</b><br>Words: kratom, take, withdrawals, hours, withdrawal",
          "<b>Topic 2</b><br>Words: kratom, taking, it, dose, oxy"
         ],
         "marker": {
          "color": "#009E73"
         },
         "mode": "lines",
         "name": "2_kratom_of_taking_it",
         "type": "scatter",
         "x": [
          "2011-04-04T07:39:01.384615",
          "2012-03-19T00:47:05.769230",
          "2014-02-16T11:03:14.538461",
          "2015-02-01T04:11:18.923076",
          "2016-01-16T21:19:23.307692",
          "2016-12-31T14:27:27.692307",
          "2017-12-16T07:35:32.076923",
          "2018-12-01T00:43:36.461538",
          "2019-11-15T17:51:40.846153",
          "2020-10-30T10:59:45.230769",
          "2021-10-15T04:07:49.615384"
         ],
         "y": [
          3,
          1,
          5,
          8,
          12,
          41,
          37,
          33,
          48,
          45,
          47
         ]
        },
        {
         "hoverinfo": "text",
         "hovertext": [
          "<b>Topic 3</b><br>Words: show, tuition, smoking, they, test",
          "<b>Topic 3</b><br>Words: am, tired, bye, texted, person",
          "<b>Topic 3</b><br>Words: gat, im, clean, all, suck",
          "<b>Topic 3</b><br>Words: life, rehab, to, im, all",
          "<b>Topic 3</b><br>Words: life, my, im, to, in",
          "<b>Topic 3</b><br>Words: rehab, choose, clean, my, im",
          "<b>Topic 3</b><br>Words: my, to, sober, im, life",
          "<b>Topic 3</b><br>Words: im, clean, you, my, life",
          "<b>Topic 3</b><br>Words: clean, im, sober, you, my",
          "<b>Topic 3</b><br>Words: life, sober, my, im, and",
          "<b>Topic 3</b><br>Words: life, sober, my, to, and",
          "<b>Topic 3</b><br>Words: sober, im, you, clean, and"
         ],
         "marker": {
          "color": "#F0E442"
         },
         "mode": "lines",
         "name": "3_life_my_sober_im",
         "type": "scatter",
         "x": [
          "2011-04-04T07:39:01.384615",
          "2012-03-19T00:47:05.769230",
          "2013-03-03T17:55:10.153846",
          "2014-02-16T11:03:14.538461",
          "2015-02-01T04:11:18.923076",
          "2016-01-16T21:19:23.307692",
          "2016-12-31T14:27:27.692307",
          "2017-12-16T07:35:32.076923",
          "2018-12-01T00:43:36.461538",
          "2019-11-15T17:51:40.846153",
          "2020-10-30T10:59:45.230769",
          "2021-10-15T04:07:49.615384"
         ],
         "y": [
          1,
          2,
          2,
          11,
          27,
          27,
          54,
          32,
          36,
          35,
          26,
          23
         ]
        },
        {
         "hoverinfo": "text",
         "hovertext": [
          "<b>Topic 4</b><br>Words: test, piss, plugging, tuesday, bropis",
          "<b>Topic 4</b><br>Words: test, tests, drug, urine, preemployment",
          "<b>Topic 4</b><br>Words: test, drug, assay, tested, testing",
          "<b>Topic 4</b><br>Words: test, urine, drug, piss, dilute",
          "<b>Topic 4</b><br>Words: test, drug, urine, piss, pass",
          "<b>Topic 4</b><br>Words: test, drug, piss, pass, monday",
          "<b>Topic 4</b><br>Words: test, drug, tested, urine, piss",
          "<b>Topic 4</b><br>Words: test, drug, urine, piss, pass",
          "<b>Topic 4</b><br>Words: test, drug, pass, piss, tested",
          "<b>Topic 4</b><br>Words: test, urine, drug, positive, lab",
          "<b>Topic 4</b><br>Words: test, drug, urine, tests, will"
         ],
         "marker": {
          "color": "#D55E00"
         },
         "mode": "lines",
         "name": "4_test_drug_urine_piss",
         "type": "scatter",
         "x": [
          "2012-03-19T00:47:05.769230",
          "2013-03-03T17:55:10.153846",
          "2014-02-16T11:03:14.538461",
          "2015-02-01T04:11:18.923076",
          "2016-01-16T21:19:23.307692",
          "2016-12-31T14:27:27.692307",
          "2017-12-16T07:35:32.076923",
          "2018-12-01T00:43:36.461538",
          "2019-11-15T17:51:40.846153",
          "2020-10-30T10:59:45.230769",
          "2021-10-15T04:07:49.615384"
         ],
         "y": [
          3,
          5,
          12,
          28,
          26,
          30,
          30,
          40,
          34,
          25,
          15
         ]
        },
        {
         "hoverinfo": "text",
         "hovertext": [
          "<b>Topic 5</b><br>Words: chopping, codeine, caffein, tablets, upsetting",
          "<b>Topic 5</b><br>Words: codeine, syrup, bottle, aches, what",
          "<b>Topic 5</b><br>Words: codeine, guifenisen, ingested, decent, immunity",
          "<b>Topic 5</b><br>Words: codeine, took, parachuted, cwe, dosage",
          "<b>Topic 5</b><br>Words: codeine, antacid, syrup, cwe, 3s",
          "<b>Topic 5</b><br>Words: codeine, sip, morphine, it, promethazine",
          "<b>Topic 5</b><br>Words: codeine, promethazine, cwe, tablets, hives",
          "<b>Topic 5</b><br>Words: codeine, promethazine, it, took, is",
          "<b>Topic 5</b><br>Words: codeine, promethazine, dhc, herman, dose",
          "<b>Topic 5</b><br>Words: codeine, promethazine, paracetamol, cwe, some",
          "<b>Topic 5</b><br>Words: codeine, promethazine, it, syrup, tolerance",
          "<b>Topic 5</b><br>Words: codeine, syrup, promethazine, phosphate, 300mg"
         ],
         "marker": {
          "color": "#0072B2"
         },
         "mode": "lines",
         "name": "5_codeine_promethazine_it_tolerance",
         "type": "scatter",
         "x": [
          "2011-04-04T07:39:01.384615",
          "2012-03-19T00:47:05.769230",
          "2013-03-03T17:55:10.153846",
          "2014-02-16T11:03:14.538461",
          "2015-02-01T04:11:18.923076",
          "2016-01-16T21:19:23.307692",
          "2016-12-31T14:27:27.692307",
          "2017-12-16T07:35:32.076923",
          "2018-12-01T00:43:36.461538",
          "2019-11-15T17:51:40.846153",
          "2020-10-30T10:59:45.230769",
          "2021-10-15T04:07:49.615384"
         ],
         "y": [
          1,
          7,
          2,
          9,
          11,
          14,
          24,
          29,
          32,
          36,
          36,
          19
         ]
        },
        {
         "hoverinfo": "text",
         "hovertext": [
          "<b>Topic 6</b><br>Words: adderall, oxy, headache, 6090, 1020mg",
          "<b>Topic 6</b><br>Words: 10mg, roxies, oxy, 75, mgsi",
          "<b>Topic 6</b><br>Words: oxy, tia, tolerance, 15mg, xanax",
          "<b>Topic 6</b><br>Words: oxy, take, oxys, how, speediness",
          "<b>Topic 6</b><br>Words: oxy, tolerance, 15mg, hours, take",
          "<b>Topic 6</b><br>Words: oxy, trazodone, take, oxys, 15mg",
          "<b>Topic 6</b><br>Words: oxy, take, tolerance, mg, 30mg",
          "<b>Topic 6</b><br>Words: oxy, tolerance, took, hours, 15mg",
          "<b>Topic 6</b><br>Words: oxy, tolerance, 30mg, take, safe",
          "<b>Topic 6</b><br>Words: oxy, take, 15mg, tolerance, hours"
         ],
         "marker": {
          "color": "#CC79A7"
         },
         "mode": "lines",
         "name": "6_oxy_tolerance_take_15mg",
         "type": "scatter",
         "x": [
          "2011-04-04T07:39:01.384615",
          "2014-02-16T11:03:14.538461",
          "2015-02-01T04:11:18.923076",
          "2016-01-16T21:19:23.307692",
          "2016-12-31T14:27:27.692307",
          "2017-12-16T07:35:32.076923",
          "2018-12-01T00:43:36.461538",
          "2019-11-15T17:51:40.846153",
          "2020-10-30T10:59:45.230769",
          "2021-10-15T04:07:49.615384"
         ],
         "y": [
          2,
          3,
          8,
          6,
          15,
          20,
          34,
          43,
          34,
          42
         ]
        },
        {
         "hoverinfo": "text",
         "hovertext": [
          "<b>Topic 7</b><br>Words: he, him, said, guy, up",
          "<b>Topic 7</b><br>Words: he, him, dude, his, me",
          "<b>Topic 7</b><br>Words: he, him, guy, his, me",
          "<b>Topic 7</b><br>Words: he, him, his, me, dude",
          "<b>Topic 7</b><br>Words: he, him, me, his, car",
          "<b>Topic 7</b><br>Words: he, him, his, me, guy",
          "<b>Topic 7</b><br>Words: he, him, his, me, hes",
          "<b>Topic 7</b><br>Words: he, him, his, nick, me",
          "<b>Topic 7</b><br>Words: he, him, middle, me, his",
          "<b>Topic 7</b><br>Words: he, dude, hes, him, says",
          "<b>Topic 7</b><br>Words: he, ubr, main, guy, money"
         ],
         "marker": {
          "color": "#E69F00"
         },
         "mode": "lines",
         "name": "7_he_him_his_me",
         "type": "scatter",
         "x": [
          "2012-03-19T00:47:05.769230",
          "2013-03-03T17:55:10.153846",
          "2014-02-16T11:03:14.538461",
          "2015-02-01T04:11:18.923076",
          "2016-01-16T21:19:23.307692",
          "2016-12-31T14:27:27.692307",
          "2017-12-16T07:35:32.076923",
          "2018-12-01T00:43:36.461538",
          "2019-11-15T17:51:40.846153",
          "2020-10-30T10:59:45.230769",
          "2021-10-15T04:07:49.615384"
         ],
         "y": [
          5,
          3,
          17,
          26,
          25,
          39,
          31,
          21,
          17,
          6,
          2
         ]
        },
        {
         "hoverinfo": "text",
         "hovertext": [
          "<b>Topic 8</b><br>Words: canceled, methadone, 2030mg, oxycodone, block",
          "<b>Topic 8</b><br>Words: methadone, 7mgs, dosed, cost, hours",
          "<b>Topic 8</b><br>Words: sub, methadone, pwds, taking, dose",
          "<b>Topic 8</b><br>Words: methadone, mg, dose, sweating, clinic",
          "<b>Topic 8</b><br>Words: methadone, liquid, dose, xanax, for",
          "<b>Topic 8</b><br>Words: methadone, dose, subs, on, day",
          "<b>Topic 8</b><br>Words: methadone, dose, on, of, kadian",
          "<b>Topic 8</b><br>Words: methadone, on, it, dose, get",
          "<b>Topic 8</b><br>Words: methadone, dose, clinic, on, take",
          "<b>Topic 8</b><br>Words: methadone, dose, clinic, on, to",
          "<b>Topic 8</b><br>Words: methadone, oxy, would, take, methadon",
          "<b>Topic 8</b><br>Words: methadone, 85mls, alberta, on, any"
         ],
         "marker": {
          "color": "#56B4E9"
         },
         "mode": "lines",
         "name": "8_methadone_dose_on_to",
         "type": "scatter",
         "x": [
          "2011-04-04T07:39:01.384615",
          "2012-03-19T00:47:05.769230",
          "2013-03-03T17:55:10.153846",
          "2014-02-16T11:03:14.538461",
          "2015-02-01T04:11:18.923076",
          "2016-01-16T21:19:23.307692",
          "2016-12-31T14:27:27.692307",
          "2017-12-16T07:35:32.076923",
          "2018-12-01T00:43:36.461538",
          "2019-11-15T17:51:40.846153",
          "2020-10-30T10:59:45.230769",
          "2021-10-15T04:07:49.615384"
         ],
         "y": [
          1,
          5,
          1,
          9,
          10,
          22,
          22,
          22,
          39,
          21,
          19,
          14
         ]
        },
        {
         "hoverinfo": "text",
         "hovertext": [
          "<b>Topic 9</b><br>Words: falls, 70mg, average, doses, short",
          "<b>Topic 9</b><br>Words: doseage, erowid, 130, lb, purchase",
          "<b>Topic 9</b><br>Words: httpwwwyoutubecomwatchverlijcwdwoc, 20mg10, croaking, gtgt, heartless",
          "<b>Topic 9</b><br>Words: bioavailability, oral, roxicodone, morphine, eliminated",
          "<b>Topic 9</b><br>Words: ngmg, lean, take, tolerance, morphine",
          "<b>Topic 9</b><br>Words: math, oxycodone, tolerance, pills, dosage",
          "<b>Topic 9</b><br>Words: morphine, oxycodone, mg, opiates, tolerance",
          "<b>Topic 9</b><br>Words: morphine, tolerance, dose, oxycodone, would",
          "<b>Topic 9</b><br>Words: morphine, oxycodone, take, tolerance, pills",
          "<b>Topic 9</b><br>Words: morphine, 10mg, tolerance, 20mg, dose",
          "<b>Topic 9</b><br>Words: morphine, oxycodone, equivalent, milligram, meperidine",
          "<b>Topic 9</b><br>Words: morphine, oxycodone, them, how, take"
         ],
         "marker": {
          "color": "#009E73"
         },
         "mode": "lines",
         "name": "9_morphine_oxycodone_tolerance_take",
         "type": "scatter",
         "x": [
          "2011-04-04T07:39:01.384615",
          "2012-03-19T00:47:05.769230",
          "2013-03-03T17:55:10.153846",
          "2014-02-16T11:03:14.538461",
          "2015-02-01T04:11:18.923076",
          "2016-01-16T21:19:23.307692",
          "2016-12-31T14:27:27.692307",
          "2017-12-16T07:35:32.076923",
          "2018-12-01T00:43:36.461538",
          "2019-11-15T17:51:40.846153",
          "2020-10-30T10:59:45.230769",
          "2021-10-15T04:07:49.615384"
         ],
         "y": [
          1,
          1,
          1,
          4,
          9,
          12,
          20,
          18,
          30,
          26,
          20,
          24
         ]
        },
        {
         "hoverinfo": "text",
         "hovertext": [
          "<b>Topic 10</b><br>Words: tramadol, seizure, gum, tram, mg",
          "<b>Topic 10</b><br>Words: tramadol, seizure, doc, yumm, lortabs",
          "<b>Topic 10</b><br>Words: tramadol, tram, single, pills, take",
          "<b>Topic 10</b><br>Words: tramadol, wellbutrin, seizure, cymbalta, weight",
          "<b>Topic 10</b><br>Words: tramadol, seizure, take, snri, any",
          "<b>Topic 10</b><br>Words: tramadol, 100mg, took, 50mg, tram",
          "<b>Topic 10</b><br>Words: tramadol, take, took, 200mg, taking",
          "<b>Topic 10</b><br>Words: tramadol, 50mg, 200mg, tram, 1x",
          "<b>Topic 10</b><br>Words: tramadol, 150mg, buzz, any, withdrawals",
          "<b>Topic 10</b><br>Words: tramadol, vibes, sleepy, calm, id"
         ],
         "marker": {
          "color": "#F0E442"
         },
         "mode": "lines",
         "name": "10_tramadol_seizure_tram_take",
         "type": "scatter",
         "x": [
          "2012-03-19T00:47:05.769230",
          "2014-02-16T11:03:14.538461",
          "2015-02-01T04:11:18.923076",
          "2016-01-16T21:19:23.307692",
          "2016-12-31T14:27:27.692307",
          "2017-12-16T07:35:32.076923",
          "2018-12-01T00:43:36.461538",
          "2019-11-15T17:51:40.846153",
          "2020-10-30T10:59:45.230769",
          "2021-10-15T04:07:49.615384"
         ],
         "y": [
          5,
          3,
          8,
          8,
          19,
          25,
          32,
          44,
          9,
          5
         ]
        }
       ],
       "layout": {
        "height": 450,
        "hoverlabel": {
         "bgcolor": "white",
         "font": {
          "family": "Rockwell",
          "size": 16
         }
        },
        "legend": {
         "title": {
          "text": "<b>Global Topic Representation"
         }
        },
        "template": {
         "data": {
          "bar": [
           {
            "error_x": {
             "color": "rgb(36,36,36)"
            },
            "error_y": {
             "color": "rgb(36,36,36)"
            },
            "marker": {
             "line": {
              "color": "white",
              "width": 0.5
             },
             "pattern": {
              "fillmode": "overlay",
              "size": 10,
              "solidity": 0.2
             }
            },
            "type": "bar"
           }
          ],
          "barpolar": [
           {
            "marker": {
             "line": {
              "color": "white",
              "width": 0.5
             },
             "pattern": {
              "fillmode": "overlay",
              "size": 10,
              "solidity": 0.2
             }
            },
            "type": "barpolar"
           }
          ],
          "carpet": [
           {
            "aaxis": {
             "endlinecolor": "rgb(36,36,36)",
             "gridcolor": "white",
             "linecolor": "white",
             "minorgridcolor": "white",
             "startlinecolor": "rgb(36,36,36)"
            },
            "baxis": {
             "endlinecolor": "rgb(36,36,36)",
             "gridcolor": "white",
             "linecolor": "white",
             "minorgridcolor": "white",
             "startlinecolor": "rgb(36,36,36)"
            },
            "type": "carpet"
           }
          ],
          "choropleth": [
           {
            "colorbar": {
             "outlinewidth": 1,
             "tickcolor": "rgb(36,36,36)",
             "ticks": "outside"
            },
            "type": "choropleth"
           }
          ],
          "contour": [
           {
            "colorbar": {
             "outlinewidth": 1,
             "tickcolor": "rgb(36,36,36)",
             "ticks": "outside"
            },
            "colorscale": [
             [
              0,
              "#440154"
             ],
             [
              0.1111111111111111,
              "#482878"
             ],
             [
              0.2222222222222222,
              "#3e4989"
             ],
             [
              0.3333333333333333,
              "#31688e"
             ],
             [
              0.4444444444444444,
              "#26828e"
             ],
             [
              0.5555555555555556,
              "#1f9e89"
             ],
             [
              0.6666666666666666,
              "#35b779"
             ],
             [
              0.7777777777777778,
              "#6ece58"
             ],
             [
              0.8888888888888888,
              "#b5de2b"
             ],
             [
              1,
              "#fde725"
             ]
            ],
            "type": "contour"
           }
          ],
          "contourcarpet": [
           {
            "colorbar": {
             "outlinewidth": 1,
             "tickcolor": "rgb(36,36,36)",
             "ticks": "outside"
            },
            "type": "contourcarpet"
           }
          ],
          "heatmap": [
           {
            "colorbar": {
             "outlinewidth": 1,
             "tickcolor": "rgb(36,36,36)",
             "ticks": "outside"
            },
            "colorscale": [
             [
              0,
              "#440154"
             ],
             [
              0.1111111111111111,
              "#482878"
             ],
             [
              0.2222222222222222,
              "#3e4989"
             ],
             [
              0.3333333333333333,
              "#31688e"
             ],
             [
              0.4444444444444444,
              "#26828e"
             ],
             [
              0.5555555555555556,
              "#1f9e89"
             ],
             [
              0.6666666666666666,
              "#35b779"
             ],
             [
              0.7777777777777778,
              "#6ece58"
             ],
             [
              0.8888888888888888,
              "#b5de2b"
             ],
             [
              1,
              "#fde725"
             ]
            ],
            "type": "heatmap"
           }
          ],
          "heatmapgl": [
           {
            "colorbar": {
             "outlinewidth": 1,
             "tickcolor": "rgb(36,36,36)",
             "ticks": "outside"
            },
            "colorscale": [
             [
              0,
              "#440154"
             ],
             [
              0.1111111111111111,
              "#482878"
             ],
             [
              0.2222222222222222,
              "#3e4989"
             ],
             [
              0.3333333333333333,
              "#31688e"
             ],
             [
              0.4444444444444444,
              "#26828e"
             ],
             [
              0.5555555555555556,
              "#1f9e89"
             ],
             [
              0.6666666666666666,
              "#35b779"
             ],
             [
              0.7777777777777778,
              "#6ece58"
             ],
             [
              0.8888888888888888,
              "#b5de2b"
             ],
             [
              1,
              "#fde725"
             ]
            ],
            "type": "heatmapgl"
           }
          ],
          "histogram": [
           {
            "marker": {
             "line": {
              "color": "white",
              "width": 0.6
             }
            },
            "type": "histogram"
           }
          ],
          "histogram2d": [
           {
            "colorbar": {
             "outlinewidth": 1,
             "tickcolor": "rgb(36,36,36)",
             "ticks": "outside"
            },
            "colorscale": [
             [
              0,
              "#440154"
             ],
             [
              0.1111111111111111,
              "#482878"
             ],
             [
              0.2222222222222222,
              "#3e4989"
             ],
             [
              0.3333333333333333,
              "#31688e"
             ],
             [
              0.4444444444444444,
              "#26828e"
             ],
             [
              0.5555555555555556,
              "#1f9e89"
             ],
             [
              0.6666666666666666,
              "#35b779"
             ],
             [
              0.7777777777777778,
              "#6ece58"
             ],
             [
              0.8888888888888888,
              "#b5de2b"
             ],
             [
              1,
              "#fde725"
             ]
            ],
            "type": "histogram2d"
           }
          ],
          "histogram2dcontour": [
           {
            "colorbar": {
             "outlinewidth": 1,
             "tickcolor": "rgb(36,36,36)",
             "ticks": "outside"
            },
            "colorscale": [
             [
              0,
              "#440154"
             ],
             [
              0.1111111111111111,
              "#482878"
             ],
             [
              0.2222222222222222,
              "#3e4989"
             ],
             [
              0.3333333333333333,
              "#31688e"
             ],
             [
              0.4444444444444444,
              "#26828e"
             ],
             [
              0.5555555555555556,
              "#1f9e89"
             ],
             [
              0.6666666666666666,
              "#35b779"
             ],
             [
              0.7777777777777778,
              "#6ece58"
             ],
             [
              0.8888888888888888,
              "#b5de2b"
             ],
             [
              1,
              "#fde725"
             ]
            ],
            "type": "histogram2dcontour"
           }
          ],
          "mesh3d": [
           {
            "colorbar": {
             "outlinewidth": 1,
             "tickcolor": "rgb(36,36,36)",
             "ticks": "outside"
            },
            "type": "mesh3d"
           }
          ],
          "parcoords": [
           {
            "line": {
             "colorbar": {
              "outlinewidth": 1,
              "tickcolor": "rgb(36,36,36)",
              "ticks": "outside"
             }
            },
            "type": "parcoords"
           }
          ],
          "pie": [
           {
            "automargin": true,
            "type": "pie"
           }
          ],
          "scatter": [
           {
            "fillpattern": {
             "fillmode": "overlay",
             "size": 10,
             "solidity": 0.2
            },
            "type": "scatter"
           }
          ],
          "scatter3d": [
           {
            "line": {
             "colorbar": {
              "outlinewidth": 1,
              "tickcolor": "rgb(36,36,36)",
              "ticks": "outside"
             }
            },
            "marker": {
             "colorbar": {
              "outlinewidth": 1,
              "tickcolor": "rgb(36,36,36)",
              "ticks": "outside"
             }
            },
            "type": "scatter3d"
           }
          ],
          "scattercarpet": [
           {
            "marker": {
             "colorbar": {
              "outlinewidth": 1,
              "tickcolor": "rgb(36,36,36)",
              "ticks": "outside"
             }
            },
            "type": "scattercarpet"
           }
          ],
          "scattergeo": [
           {
            "marker": {
             "colorbar": {
              "outlinewidth": 1,
              "tickcolor": "rgb(36,36,36)",
              "ticks": "outside"
             }
            },
            "type": "scattergeo"
           }
          ],
          "scattergl": [
           {
            "marker": {
             "colorbar": {
              "outlinewidth": 1,
              "tickcolor": "rgb(36,36,36)",
              "ticks": "outside"
             }
            },
            "type": "scattergl"
           }
          ],
          "scattermapbox": [
           {
            "marker": {
             "colorbar": {
              "outlinewidth": 1,
              "tickcolor": "rgb(36,36,36)",
              "ticks": "outside"
             }
            },
            "type": "scattermapbox"
           }
          ],
          "scatterpolar": [
           {
            "marker": {
             "colorbar": {
              "outlinewidth": 1,
              "tickcolor": "rgb(36,36,36)",
              "ticks": "outside"
             }
            },
            "type": "scatterpolar"
           }
          ],
          "scatterpolargl": [
           {
            "marker": {
             "colorbar": {
              "outlinewidth": 1,
              "tickcolor": "rgb(36,36,36)",
              "ticks": "outside"
             }
            },
            "type": "scatterpolargl"
           }
          ],
          "scatterternary": [
           {
            "marker": {
             "colorbar": {
              "outlinewidth": 1,
              "tickcolor": "rgb(36,36,36)",
              "ticks": "outside"
             }
            },
            "type": "scatterternary"
           }
          ],
          "surface": [
           {
            "colorbar": {
             "outlinewidth": 1,
             "tickcolor": "rgb(36,36,36)",
             "ticks": "outside"
            },
            "colorscale": [
             [
              0,
              "#440154"
             ],
             [
              0.1111111111111111,
              "#482878"
             ],
             [
              0.2222222222222222,
              "#3e4989"
             ],
             [
              0.3333333333333333,
              "#31688e"
             ],
             [
              0.4444444444444444,
              "#26828e"
             ],
             [
              0.5555555555555556,
              "#1f9e89"
             ],
             [
              0.6666666666666666,
              "#35b779"
             ],
             [
              0.7777777777777778,
              "#6ece58"
             ],
             [
              0.8888888888888888,
              "#b5de2b"
             ],
             [
              1,
              "#fde725"
             ]
            ],
            "type": "surface"
           }
          ],
          "table": [
           {
            "cells": {
             "fill": {
              "color": "rgb(237,237,237)"
             },
             "line": {
              "color": "white"
             }
            },
            "header": {
             "fill": {
              "color": "rgb(217,217,217)"
             },
             "line": {
              "color": "white"
             }
            },
            "type": "table"
           }
          ]
         },
         "layout": {
          "annotationdefaults": {
           "arrowhead": 0,
           "arrowwidth": 1
          },
          "autotypenumbers": "strict",
          "coloraxis": {
           "colorbar": {
            "outlinewidth": 1,
            "tickcolor": "rgb(36,36,36)",
            "ticks": "outside"
           }
          },
          "colorscale": {
           "diverging": [
            [
             0,
             "rgb(103,0,31)"
            ],
            [
             0.1,
             "rgb(178,24,43)"
            ],
            [
             0.2,
             "rgb(214,96,77)"
            ],
            [
             0.3,
             "rgb(244,165,130)"
            ],
            [
             0.4,
             "rgb(253,219,199)"
            ],
            [
             0.5,
             "rgb(247,247,247)"
            ],
            [
             0.6,
             "rgb(209,229,240)"
            ],
            [
             0.7,
             "rgb(146,197,222)"
            ],
            [
             0.8,
             "rgb(67,147,195)"
            ],
            [
             0.9,
             "rgb(33,102,172)"
            ],
            [
             1,
             "rgb(5,48,97)"
            ]
           ],
           "sequential": [
            [
             0,
             "#440154"
            ],
            [
             0.1111111111111111,
             "#482878"
            ],
            [
             0.2222222222222222,
             "#3e4989"
            ],
            [
             0.3333333333333333,
             "#31688e"
            ],
            [
             0.4444444444444444,
             "#26828e"
            ],
            [
             0.5555555555555556,
             "#1f9e89"
            ],
            [
             0.6666666666666666,
             "#35b779"
            ],
            [
             0.7777777777777778,
             "#6ece58"
            ],
            [
             0.8888888888888888,
             "#b5de2b"
            ],
            [
             1,
             "#fde725"
            ]
           ],
           "sequentialminus": [
            [
             0,
             "#440154"
            ],
            [
             0.1111111111111111,
             "#482878"
            ],
            [
             0.2222222222222222,
             "#3e4989"
            ],
            [
             0.3333333333333333,
             "#31688e"
            ],
            [
             0.4444444444444444,
             "#26828e"
            ],
            [
             0.5555555555555556,
             "#1f9e89"
            ],
            [
             0.6666666666666666,
             "#35b779"
            ],
            [
             0.7777777777777778,
             "#6ece58"
            ],
            [
             0.8888888888888888,
             "#b5de2b"
            ],
            [
             1,
             "#fde725"
            ]
           ]
          },
          "colorway": [
           "#1F77B4",
           "#FF7F0E",
           "#2CA02C",
           "#D62728",
           "#9467BD",
           "#8C564B",
           "#E377C2",
           "#7F7F7F",
           "#BCBD22",
           "#17BECF"
          ],
          "font": {
           "color": "rgb(36,36,36)"
          },
          "geo": {
           "bgcolor": "white",
           "lakecolor": "white",
           "landcolor": "white",
           "showlakes": true,
           "showland": true,
           "subunitcolor": "white"
          },
          "hoverlabel": {
           "align": "left"
          },
          "hovermode": "closest",
          "mapbox": {
           "style": "light"
          },
          "paper_bgcolor": "white",
          "plot_bgcolor": "white",
          "polar": {
           "angularaxis": {
            "gridcolor": "rgb(232,232,232)",
            "linecolor": "rgb(36,36,36)",
            "showgrid": false,
            "showline": true,
            "ticks": "outside"
           },
           "bgcolor": "white",
           "radialaxis": {
            "gridcolor": "rgb(232,232,232)",
            "linecolor": "rgb(36,36,36)",
            "showgrid": false,
            "showline": true,
            "ticks": "outside"
           }
          },
          "scene": {
           "xaxis": {
            "backgroundcolor": "white",
            "gridcolor": "rgb(232,232,232)",
            "gridwidth": 2,
            "linecolor": "rgb(36,36,36)",
            "showbackground": true,
            "showgrid": false,
            "showline": true,
            "ticks": "outside",
            "zeroline": false,
            "zerolinecolor": "rgb(36,36,36)"
           },
           "yaxis": {
            "backgroundcolor": "white",
            "gridcolor": "rgb(232,232,232)",
            "gridwidth": 2,
            "linecolor": "rgb(36,36,36)",
            "showbackground": true,
            "showgrid": false,
            "showline": true,
            "ticks": "outside",
            "zeroline": false,
            "zerolinecolor": "rgb(36,36,36)"
           },
           "zaxis": {
            "backgroundcolor": "white",
            "gridcolor": "rgb(232,232,232)",
            "gridwidth": 2,
            "linecolor": "rgb(36,36,36)",
            "showbackground": true,
            "showgrid": false,
            "showline": true,
            "ticks": "outside",
            "zeroline": false,
            "zerolinecolor": "rgb(36,36,36)"
           }
          },
          "shapedefaults": {
           "fillcolor": "black",
           "line": {
            "width": 0
           },
           "opacity": 0.3
          },
          "ternary": {
           "aaxis": {
            "gridcolor": "rgb(232,232,232)",
            "linecolor": "rgb(36,36,36)",
            "showgrid": false,
            "showline": true,
            "ticks": "outside"
           },
           "baxis": {
            "gridcolor": "rgb(232,232,232)",
            "linecolor": "rgb(36,36,36)",
            "showgrid": false,
            "showline": true,
            "ticks": "outside"
           },
           "bgcolor": "white",
           "caxis": {
            "gridcolor": "rgb(232,232,232)",
            "linecolor": "rgb(36,36,36)",
            "showgrid": false,
            "showline": true,
            "ticks": "outside"
           }
          },
          "title": {
           "x": 0.05
          },
          "xaxis": {
           "automargin": true,
           "gridcolor": "rgb(232,232,232)",
           "linecolor": "rgb(36,36,36)",
           "showgrid": false,
           "showline": true,
           "ticks": "outside",
           "title": {
            "standoff": 15
           },
           "zeroline": false,
           "zerolinecolor": "rgb(36,36,36)"
          },
          "yaxis": {
           "automargin": true,
           "gridcolor": "rgb(232,232,232)",
           "linecolor": "rgb(36,36,36)",
           "showgrid": false,
           "showline": true,
           "ticks": "outside",
           "title": {
            "standoff": 15
           },
           "zeroline": false,
           "zerolinecolor": "rgb(36,36,36)"
          }
         }
        },
        "title": {
         "font": {
          "color": "Black",
          "size": 22
         },
         "text": "<b>Topics over Time</b>",
         "x": 0.4,
         "xanchor": "center",
         "y": 0.95,
         "yanchor": "top"
        },
        "width": 1250,
        "xaxis": {
         "showgrid": true
        },
        "yaxis": {
         "showgrid": true,
         "title": {
          "text": "Frequency"
         }
        }
       }
      }
     },
     "metadata": {},
     "output_type": "display_data"
    }
   ],
   "source": [
    "topic_model.visualize_topics_over_time(topics_over_time, topics=topic_nums)"
   ]
  },
  {
   "cell_type": "code",
   "execution_count": 65,
   "metadata": {},
   "outputs": [],
   "source": [
    "fig = topic_model.visualize_topics_over_time(topics_over_time, topics=topic_nums)\n",
    "fig.write_html(\"topics_over_time.html\")"
   ]
  },
  {
   "cell_type": "code",
   "execution_count": null,
   "metadata": {},
   "outputs": [],
   "source": []
  }
 ],
 "metadata": {
  "kernelspec": {
   "display_name": "optus-ai-env",
   "language": "python",
   "name": "python3"
  },
  "language_info": {
   "codemirror_mode": {
    "name": "ipython",
    "version": 3
   },
   "file_extension": ".py",
   "mimetype": "text/x-python",
   "name": "python",
   "nbconvert_exporter": "python",
   "pygments_lexer": "ipython3",
   "version": "3.8.5"
  }
 },
 "nbformat": 4,
 "nbformat_minor": 2
}
