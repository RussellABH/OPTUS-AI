{
 "cells": [
  {
   "cell_type": "code",
   "execution_count": 3,
   "metadata": {},
   "outputs": [
    {
     "data": {
      "text/plain": [
       "['tok2vec', 'tagger', 'parser', 'attribute_ruler', 'lemmatizer', 'ner']"
      ]
     },
     "execution_count": 3,
     "metadata": {},
     "output_type": "execute_result"
    }
   ],
   "source": [
    "import spacy\n",
    "import en_core_web_sm\n",
    "import pandas as pd\n",
    "import spacytextblob.spacytextblob as spacytextblob\n",
    "import datetime\n",
    "import matplotlib.pyplot as plt\n",
    "import numpy as np\n",
    "import matplotlib as mpl\n",
    "import glob\n",
    "\n",
    "\n",
    "submissions2 = pd.read_json(\"/Users/ritikabrahmadesam/Downloads/opiates_submissions2.json\")\n",
    "submissions2 = submissions2\n",
    "\n",
    "\n",
    "submissions3 = pd.read_json(\"/Users/ritikabrahmadesam/Downloads/opiates_submissions3.json\")\n",
    "submissions3 = submissions3\n",
    "\n",
    "df = pd.concat([submissions2, submissions3])\n",
    "\n",
    "nlp = spacy.load(\"en_core_web_sm\")\n",
    "nlp.add_pipe('spacytextblob')\n",
    "\n",
    "nlp.select_pipes(disable = ['tok2vec', 'tagger', 'parser', 'attribute_ruler', 'lemmatizer', 'ner'])"
   ]
  },
  {
   "cell_type": "markdown",
   "metadata": {},
   "source": [
    "## Load data"
   ]
  },
  {
   "cell_type": "code",
   "execution_count": 5,
   "metadata": {},
   "outputs": [],
   "source": [
    "df = df.loc[(df['selftext'] != '') & (df['selftext'] != '[deleted]') & (df['selftext'] != '[removed]') & (df['author'] != '[deleted]') & (df['selftext'] != 'None')]\n",
    "df = df.dropna(subset=['selftext']).reset_index(drop=True)\n",
    "df.reset_index(inplace=True, drop=True)"
   ]
  },
  {
   "cell_type": "code",
   "execution_count": 6,
   "metadata": {},
   "outputs": [],
   "source": [
    "submissions2['blob'] = submissions2['selftext'].apply(lambda text: nlp(text)._.blob)\n",
    "submissions2['polarity'] = submissions2['blob'].apply(lambda b: float(b.polarity))\n",
    "submissions2['subjectivity'] = submissions2['blob'].apply(lambda b: float(b.subjectivity))\n",
    "\n",
    "submissions3['blob'] = submissions3['selftext'].apply(lambda text: nlp(text)._.blob)\n",
    "submissions3['polarity'] = submissions3['blob'].apply(lambda b: float(b.polarity))\n",
    "submissions3['subjectivity'] = submissions3['blob'].apply(lambda b: float(b.subjectivity))"
   ]
  },
  {
   "cell_type": "markdown",
   "metadata": {},
   "source": [
    "### Bin by Time"
   ]
  },
  {
   "cell_type": "code",
   "execution_count": 19,
   "metadata": {},
   "outputs": [
    {
     "data": {
      "text/plain": [
       "\"Got it for .50 cents a mili. Of course these are the OP formula.\\n\\nDid I get a decent deal? I'm okay with paying 1/2 for a blue but I've never done OP or even the old OCs so I don't know. Time release and all that shit.\\n\\nUsually two blues or three domes will set me straight (10 mg). Ate the whole pill. Happy new years b /r/opiates\""
      ]
     },
     "execution_count": 19,
     "metadata": {},
     "output_type": "execute_result"
    }
   ],
   "source": [
    "submissions2['selftext']"
   ]
  },
  {
   "cell_type": "markdown",
   "metadata": {},
   "source": [
    "## Spacy Sentiment Analysis"
   ]
  },
  {
   "cell_type": "code",
   "execution_count": 6,
   "metadata": {},
   "outputs": [],
   "source": [
    "submissions_polarity = {}\n",
    "submissions_subjectivity = {}"
   ]
  },
  {
   "cell_type": "code",
   "execution_count": 7,
   "metadata": {},
   "outputs": [
    {
     "data": {
      "text/plain": [
       "count    200.000000\n",
       "mean       0.073687\n",
       "std        0.205949\n",
       "min       -0.600000\n",
       "25%        0.000000\n",
       "50%        0.000000\n",
       "75%        0.139337\n",
       "max        1.000000\n",
       "Name: polarity, dtype: float64"
      ]
     },
     "metadata": {},
     "output_type": "display_data"
    },
    {
     "data": {
      "text/plain": [
       "count    200.000000\n",
       "mean       0.350639\n",
       "std        0.279330\n",
       "min        0.000000\n",
       "25%        0.000000\n",
       "50%        0.448571\n",
       "75%        0.545887\n",
       "max        1.000000\n",
       "Name: subjectivity, dtype: float64"
      ]
     },
     "metadata": {},
     "output_type": "display_data"
    }
   ],
   "source": [
    "# This is how happy/sad\n",
    "display(submissions2['polarity'].describe())\n",
    "submissions_polarity[\"submissions1\"] = (submissions2['polarity'].describe())\n",
    "\n",
    "# This is the subjectivity\n",
    "display(submissions2['subjectivity'].describe())\n",
    "submissions_subjectivity[\"submissions1\"] = (submissions2['subjectivity'].describe())"
   ]
  },
  {
   "cell_type": "code",
   "execution_count": 8,
   "metadata": {},
   "outputs": [],
   "source": [
    "# This is how happy/sad\n",
    "submissions3['polarity'].describe()\n",
    "submissions_polarity[\"submissions2\"] = (submissions3['polarity'].describe())\n",
    "\n",
    "# This is the subjectivity\n",
    "submissions3['subjectivity'].describe()\n",
    "submissions_subjectivity[\"submissions2\"] = (submissions3['subjectivity'].describe())"
   ]
  },
  {
   "cell_type": "code",
   "execution_count": 9,
   "metadata": {},
   "outputs": [],
   "source": [
    "submission_data_polarity = pd.concat(submissions_polarity, axis = 1)"
   ]
  },
  {
   "cell_type": "markdown",
   "metadata": {},
   "source": [
    "## Generate Graphs from the Sentiment Analysis"
   ]
  },
  {
   "cell_type": "code",
   "execution_count": 10,
   "metadata": {},
   "outputs": [
    {
     "data": {
      "text/html": [
       "<div>\n",
       "<style scoped>\n",
       "    .dataframe tbody tr th:only-of-type {\n",
       "        vertical-align: middle;\n",
       "    }\n",
       "\n",
       "    .dataframe tbody tr th {\n",
       "        vertical-align: top;\n",
       "    }\n",
       "\n",
       "    .dataframe thead th {\n",
       "        text-align: right;\n",
       "    }\n",
       "</style>\n",
       "<table border=\"1\" class=\"dataframe\">\n",
       "  <thead>\n",
       "    <tr style=\"text-align: right;\">\n",
       "      <th></th>\n",
       "      <th>count</th>\n",
       "      <th>mean</th>\n",
       "      <th>std</th>\n",
       "      <th>min</th>\n",
       "      <th>25%</th>\n",
       "      <th>50%</th>\n",
       "      <th>75%</th>\n",
       "      <th>max</th>\n",
       "    </tr>\n",
       "  </thead>\n",
       "  <tbody>\n",
       "    <tr>\n",
       "      <th>submissions1</th>\n",
       "      <td>200.0</td>\n",
       "      <td>0.073687</td>\n",
       "      <td>0.205949</td>\n",
       "      <td>-0.6</td>\n",
       "      <td>0.0</td>\n",
       "      <td>0.000000</td>\n",
       "      <td>0.139337</td>\n",
       "      <td>1.000</td>\n",
       "    </tr>\n",
       "    <tr>\n",
       "      <th>submissions2</th>\n",
       "      <td>200.0</td>\n",
       "      <td>0.055206</td>\n",
       "      <td>0.167403</td>\n",
       "      <td>-1.0</td>\n",
       "      <td>0.0</td>\n",
       "      <td>0.006427</td>\n",
       "      <td>0.118725</td>\n",
       "      <td>0.725</td>\n",
       "    </tr>\n",
       "  </tbody>\n",
       "</table>\n",
       "</div>"
      ],
      "text/plain": [
       "              count      mean       std  min  25%       50%       75%    max\n",
       "submissions1  200.0  0.073687  0.205949 -0.6  0.0  0.000000  0.139337  1.000\n",
       "submissions2  200.0  0.055206  0.167403 -1.0  0.0  0.006427  0.118725  0.725"
      ]
     },
     "execution_count": 10,
     "metadata": {},
     "output_type": "execute_result"
    }
   ],
   "source": [
    "submission_data_polarity = submission_data_polarity.transpose(copy=False)\n",
    "submission_data_polarity"
   ]
  },
  {
   "cell_type": "code",
   "execution_count": 15,
   "metadata": {},
   "outputs": [
    {
     "data": {
      "image/png": "[encoded data removed]",
      "text/plain": [
       "<Figure size 432x288 with 1 Axes>"
      ]
     },
     "metadata": {
      "needs_background": "light"
     },
     "output_type": "display_data"
    }
   ],
   "source": [
    "y_error = submission_data_polarity[\"std\"]#[submission_data_polarity[\"25%\"], submission_data_polarity[\"75%\"]]\n",
    "plt.scatter(submission_data_polarity.index, submission_data_polarity[\"mean\"])\n",
    "plt.errorbar(submission_data_polarity.index, submission_data_polarity[\"mean\"], yerr=y_error, fmt=\"r\")\n",
    "\n",
    "plt.title(\"Polarity of Submissions\")\n",
    "plt.xlabel(\"Submission Posts\")\n",
    "plt.ylabel(\"Polarity\")\n",
    "\n",
    "plt.show()"
   ]
  },
  {
   "cell_type": "code",
   "execution_count": null,
   "metadata": {},
   "outputs": [],
   "source": []
  }
 ],
 "metadata": {
  "kernelspec": {
   "display_name": "Python 3",
   "language": "python",
   "name": "python3"
  },
  "language_info": {
   "codemirror_mode": {
    "name": "ipython",
    "version": 3
   },
   "file_extension": ".py",
   "mimetype": "text/x-python",
   "name": "python",
   "nbconvert_exporter": "python",
   "pygments_lexer": "ipython3",
   "version": "3.8.3"
  },
  "orig_nbformat": 4
 },
 "nbformat": 4,
 "nbformat_minor": 2
}
