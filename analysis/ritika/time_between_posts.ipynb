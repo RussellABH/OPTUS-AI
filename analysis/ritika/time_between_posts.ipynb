{
 "cells": [
  {
   "cell_type": "markdown",
   "metadata": {},
   "source": [
    "## This analysis aims to track the average time between posts over multiple months, as of now it is incomplete"
   ]
  },
  {
   "cell_type": "code",
   "execution_count": 12,
   "metadata": {},
   "outputs": [],
   "source": [
    "import spacy \n",
    "import pandas as pd\n",
    "import matplotlib\n",
    "import matplotlib.pyplot as plt\n",
    "import datetime as dt \n",
    "import spacy\n",
    "from collections import Counter \n",
    "import json\n",
    "en = spacy.load('en_core_web_sm')\n",
    "sw_spacy = en.Defaults.stop_words"
   ]
  },
  {
   "cell_type": "code",
   "execution_count": 13,
   "metadata": {},
   "outputs": [],
   "source": [
    "submissions1 = pd.read_json(\"/Users/ritikabrahmadesam/Documents/College/RCOS/OPTUS-AI_RAWDATA/opiates_submissions1.json\")\n",
    "submissions2 = pd.read_json(\"/Users/ritikabrahmadesam/Documents/College/RCOS/OPTUS-AI_RAWDATA/opiates_submissions2.json\")\n",
    "submissions3 = pd.read_json(\"/Users/ritikabrahmadesam/Documents/College/RCOS/OPTUS-AI_RAWDATA/opiates_submissions3.json\")\n",
    "submissions4 = pd.read_json(\"/Users/ritikabrahmadesam/Documents/College/RCOS/OPTUS-AI_RAWDATA/opiates_submissions4.json\")\n",
    "submissions5 = pd.read_json(\"/Users/ritikabrahmadesam/Documents/College/RCOS/OPTUS-AI_RAWDATA/opiates_submissions5.json\")\n",
    "submissions6 = pd.read_json(\"/Users/ritikabrahmadesam/Documents/College/RCOS/OPTUS-AI_RAWDATA/opiates_submissions6.json\")\n",
    "submissions7 = pd.read_json(\"/Users/ritikabrahmadesam/Documents/College/RCOS/OPTUS-AI_RAWDATA/opiates_submissions7.json\")\n"
   ]
  },
  {
   "cell_type": "code",
   "execution_count": 15,
   "metadata": {},
   "outputs": [],
   "source": [
    "#create a column with real datetimes\n",
    "submissions = pd.concat([submissions1, submissions2, submissions3, submissions4, submissions5, submissions6, submissions7])\n",
    "submissions['created_utc'] = submissions['created_utc'].apply(lambda date: dt.datetime.fromtimestamp(date))\n",
    "submissions = submissions.sort_values(by='created_utc', ascending=True)"
   ]
  },
  {
   "cell_type": "code",
   "execution_count": 17,
   "metadata": {},
   "outputs": [
    {
     "data": {
      "text/plain": [
       "array([2010, 2011, 2012, 2013, 2014, 2015, 2016, 2017, 2018, 2019, 2020,\n",
       "       2021, 2022])"
      ]
     },
     "execution_count": 17,
     "metadata": {},
     "output_type": "execute_result"
    }
   ],
   "source": [
    "unique_years = submissions['created_utc'].dt.year.unique()"
   ]
  },
  {
   "cell_type": "code",
   "execution_count": 6,
   "metadata": {},
   "outputs": [],
   "source": [
    "curr_month_times = curr_df[\"january\"]['created_utc'].to_list()"
   ]
  },
  {
   "cell_type": "code",
   "execution_count": 25,
   "metadata": {},
   "outputs": [
    {
     "name": "stdout",
     "output_type": "stream",
     "text": [
      "january\n",
      "[]\n"
     ]
    },
    {
     "ename": "IndexError",
     "evalue": "list index out of range",
     "output_type": "error",
     "traceback": [
      "\u001b[0;31m---------------------------------------------------------------------------\u001b[0m",
      "\u001b[0;31mIndexError\u001b[0m                                Traceback (most recent call last)",
      "\u001b[1;32m/Users/ritikabrahmadesam/Documents/College/RCOS/OPTUS-AI/analysis/ritika/time_between_posts.ipynb Cell 6\u001b[0m line \u001b[0;36m1\n\u001b[1;32m     <a href='vscode-notebook-cell:/Users/ritikabrahmadesam/Documents/College/RCOS/OPTUS-AI/analysis/ritika/time_between_posts.ipynb#W5sZmlsZQ%3D%3D?line=15'>16</a>\u001b[0m curr_month_times \u001b[39m=\u001b[39m curr_df[month][\u001b[39m'\u001b[39m\u001b[39mcreated_utc\u001b[39m\u001b[39m'\u001b[39m]\u001b[39m.\u001b[39mto_list()\n\u001b[1;32m     <a href='vscode-notebook-cell:/Users/ritikabrahmadesam/Documents/College/RCOS/OPTUS-AI/analysis/ritika/time_between_posts.ipynb#W5sZmlsZQ%3D%3D?line=16'>17</a>\u001b[0m \u001b[39mprint\u001b[39m(curr_month_times)\n\u001b[0;32m---> <a href='vscode-notebook-cell:/Users/ritikabrahmadesam/Documents/College/RCOS/OPTUS-AI/analysis/ritika/time_between_posts.ipynb#W5sZmlsZQ%3D%3D?line=17'>18</a>\u001b[0m total_time \u001b[39m=\u001b[39m curr_month_times[\u001b[39mlen\u001b[39;49m(curr_month_times)\u001b[39m-\u001b[39;49m\u001b[39m1\u001b[39;49m] \u001b[39m+\u001b[39m curr_month_times[\u001b[39mlen\u001b[39m(curr_month_times)\u001b[39m-\u001b[39m\u001b[39m2\u001b[39m]\n\u001b[1;32m     <a href='vscode-notebook-cell:/Users/ritikabrahmadesam/Documents/College/RCOS/OPTUS-AI/analysis/ritika/time_between_posts.ipynb#W5sZmlsZQ%3D%3D?line=18'>19</a>\u001b[0m curr \u001b[39m=\u001b[39m \u001b[39mlen\u001b[39m(curr_month_times)\u001b[39m-\u001b[39m\u001b[39m2\u001b[39m\n\u001b[1;32m     <a href='vscode-notebook-cell:/Users/ritikabrahmadesam/Documents/College/RCOS/OPTUS-AI/analysis/ritika/time_between_posts.ipynb#W5sZmlsZQ%3D%3D?line=20'>21</a>\u001b[0m \u001b[39mwhile\u001b[39;00m(curr\u001b[39m>\u001b[39m\u001b[39m0\u001b[39m):\n",
      "\u001b[0;31mIndexError\u001b[0m: list index out of range"
     ]
    }
   ],
   "source": [
    "for year in unique_years:\n",
    "    posts = submissions[submissions['created_utc'].dt.year==year]\n",
    "    curr_df = {\"january\": posts[posts['created_utc'].dt.month==1],\n",
    "               \"febuary\": posts[posts['created_utc'].dt.month==2],\n",
    "               \"march\": posts[posts['created_utc'].dt.month==3],\n",
    "                \"april\": posts[posts['created_utc'].dt.month==4],\n",
    "                \"may\": posts[posts['created_utc'].dt.month==5],\n",
    "                \"june\": posts[posts['created_utc'].dt.month==6],\n",
    "                \"august\": posts[posts['created_utc'].dt.month==8],\n",
    "                \"september\": posts[posts['created_utc'].dt.month==9],\n",
    "                \"october\": posts[posts['created_utc'].dt.month==10],\n",
    "                \"november\": posts[posts['created_utc'].dt.month==11],\n",
    "                \"december\": posts[posts['created_utc'].dt.month==12]}\n",
    "    for month in curr_df.keys():\n",
    "        print(month)\n",
    "        curr_month_times = curr_df[month]['created_utc'].to_list()\n",
    "        if(len(curr_month_times>0)):\n",
    "            total_time = curr_month_times[len(curr_month_times)-1] + curr_month_times[len(curr_month_times)-2]\n",
    "            curr = len(curr_month_times)-2\n",
    "\n",
    "            while(curr>0):\n",
    "                total_time += curr_month_times[curr] - curr_month_times[curr-1]\n",
    "                curr-=1\n",
    "            print(total_time/(len(curr_month_times)))"
   ]
  },
  {
   "cell_type": "code",
   "execution_count": 9,
   "metadata": {},
   "outputs": [],
   "source": [
    "curr_month_times = curr_df[\"febuary\"]['created_utc'].to_list()\n",
    "total_time = curr_month_times[len(curr_month_times)-1] - curr_month_times[len(curr_month_times)-2]\n",
    "curr = len(curr_month_times)-2\n",
    "\n",
    "while(curr>0):\n",
    "    total_time += curr_month_times[curr] - curr_month_times[curr-1]\n",
    "    curr-=1\n",
    "total_time/(len(curr_month_times)-1)"
   ]
  }
 ],
 "metadata": {
  "kernelspec": {
   "display_name": "Python 3",
   "language": "python",
   "name": "python3"
  },
  "language_info": {
   "codemirror_mode": {
    "name": "ipython",
    "version": 3
   },
   "file_extension": ".py",
   "mimetype": "text/x-python",
   "name": "python",
   "nbconvert_exporter": "python",
   "pygments_lexer": "ipython3",
   "version": "3.8.5"
  }
 },
 "nbformat": 4,
 "nbformat_minor": 2
}
