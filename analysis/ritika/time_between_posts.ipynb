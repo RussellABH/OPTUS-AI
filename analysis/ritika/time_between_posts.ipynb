{
 "cells": [
  {
   "cell_type": "code",
   "execution_count": 1,
   "metadata": {},
   "outputs": [],
   "source": [
    "import spacy \n",
    "import pandas as pd\n",
    "import matplotlib\n",
    "import matplotlib.pyplot as plt\n",
    "import datetime as dt \n",
    "import spacy\n",
    "from collections import Counter \n",
    "import json\n",
    "en = spacy.load('en_core_web_sm')\n",
    "sw_spacy = en.Defaults.stop_words"
   ]
  },
  {
   "cell_type": "code",
   "execution_count": 2,
   "metadata": {},
   "outputs": [],
   "source": [
    "submissions = pd.read_json(\"/Users/ritikabrahmadesam/Downloads/opiates_submissions2.json\")"
   ]
  },
  {
   "cell_type": "code",
   "execution_count": 3,
   "metadata": {},
   "outputs": [],
   "source": [
    "#create a column with real datetimes\n",
    "submissions['created_utc'] = submissions['created_utc'].apply(lambda date: dt.datetime.fromtimestamp(date))\n",
    "submissions = submissions.sort_values(by='created_utc', ascending=True)"
   ]
  },
  {
   "cell_type": "code",
   "execution_count": 7,
   "metadata": {},
   "outputs": [],
   "source": [
    "df_2012 = submissions[submissions['created_utc'].dt.year==2012]\n",
    "curr_df = {\"january\": df_2012[df_2012['created_utc'].dt.month==1],\n",
    "           \"febuary\": df_2012[df_2012['created_utc'].dt.month==2],\n",
    "           \"march\": df_2012[df_2012['created_utc'].dt.month==3],\n",
    "            \"april\": df_2012[df_2012['created_utc'].dt.month==4],\n",
    "            \"may\": df_2012[df_2012['created_utc'].dt.month==5],\n",
    "            \"june\": df_2012[df_2012['created_utc'].dt.month==6],\n",
    "            \"august\": df_2012[df_2012['created_utc'].dt.month==8],\n",
    "            \"september\": df_2012[df_2012['created_utc'].dt.month==9],\n",
    "            \"october\": df_2012[df_2012['created_utc'].dt.month==10],\n",
    "            \"november\": df_2012[df_2012['created_utc'].dt.month==11],\n",
    "            \"december\": df_2012[df_2012['created_utc'].dt.month==12]}\n"
   ]
  },
  {
   "cell_type": "code",
   "execution_count": 17,
   "metadata": {},
   "outputs": [],
   "source": [
    "curr_month_times = curr_df[\"january\"]['created_utc'].to_list()"
   ]
  },
  {
   "cell_type": "code",
   "execution_count": 27,
   "metadata": {},
   "outputs": [],
   "source": [
    "total_time = curr_month_times[len(curr_month_times)-1] - curr_month_times[len(curr_month_times)-2]\n",
    "curr = len(curr_month_times)-2\n",
    "\n",
    "while(curr>0):\n",
    "    total_time += curr_month_times[curr] - curr_month_times[curr-1]\n",
    "    curr-=1"
   ]
  },
  {
   "cell_type": "code",
   "execution_count": 29,
   "metadata": {},
   "outputs": [
    {
     "name": "stdout",
     "output_type": "stream",
     "text": [
      "0 days 02:36:08.542253521\n"
     ]
    }
   ],
   "source": [
    "print(total_time/(len(curr_month_times)-1))"
   ]
  },
  {
   "cell_type": "code",
   "execution_count": 30,
   "metadata": {},
   "outputs": [],
   "source": [
    "curr_month_times = curr_df[\"febuary\"]['created_utc'].to_list()\n",
    "total_time = curr_month_times[len(curr_month_times)-1] - curr_month_times[len(curr_month_times)-2]\n",
    "curr = len(curr_month_times)-2\n",
    "\n",
    "while(curr>0):\n",
    "    total_time += curr_month_times[curr] - curr_month_times[curr-1]\n",
    "    curr-=1"
   ]
  },
  {
   "cell_type": "code",
   "execution_count": 32,
   "metadata": {},
   "outputs": [
    {
     "data": {
      "text/plain": [
       "Timedelta('0 days 01:13:24.310405643')"
      ]
     },
     "execution_count": 32,
     "metadata": {},
     "output_type": "execute_result"
    }
   ],
   "source": [
    "total_time/(len(curr_month_times)-1)"
   ]
  },
  {
   "cell_type": "code",
   "execution_count": null,
   "metadata": {},
   "outputs": [],
   "source": []
  }
 ],
 "metadata": {
  "kernelspec": {
   "display_name": "Python 3",
   "language": "python",
   "name": "python3"
  },
  "language_info": {
   "codemirror_mode": {
    "name": "ipython",
    "version": 3
   },
   "file_extension": ".py",
   "mimetype": "text/x-python",
   "name": "python",
   "nbconvert_exporter": "python",
   "pygments_lexer": "ipython3",
   "version": "3.8.5"
  }
 },
 "nbformat": 4,
 "nbformat_minor": 2
}
