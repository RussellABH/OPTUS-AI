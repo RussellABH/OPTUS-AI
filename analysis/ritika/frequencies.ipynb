{
 "cells": [
  {
   "cell_type": "code",
   "execution_count": 31,
   "metadata": {},
   "outputs": [],
   "source": [
    "import spacy \n",
    "import pandas as pd\n",
    "import matplotlib\n",
    "import matplotlib.pyplot as plt\n",
    "import datetime as dt \n",
    "import spacy\n",
    "en = spacy.load('en_core_web_sm')\n",
    "sw_spacy = en.Defaults.stop_words"
   ]
  },
  {
   "cell_type": "code",
   "execution_count": 32,
   "metadata": {},
   "outputs": [],
   "source": [
    "submissions = pd.read_json(\"/Users/ritikabrahmadesam/Downloads/opiates_submissions2.json\")\n",
    "#submissions3 = pd.read_json(\"/Users/ritikabrahmadesam/Downloads/opiates_submissions3.json\")"
   ]
  },
  {
   "cell_type": "markdown",
   "metadata": {},
   "source": [
    "### This analysis aims to track the frequencies of certain words over time"
   ]
  },
  {
   "cell_type": "code",
   "execution_count": 34,
   "metadata": {},
   "outputs": [],
   "source": [
    "#create a column with real datetimes\n",
    "submissions['created_utc'] = submissions['created_utc'].apply(lambda date: dt.datetime.fromtimestamp(date))\n",
    "submissions = submissions.sort_values(by='created_utc', ascending=True)"
   ]
  },
  {
   "cell_type": "code",
   "execution_count": 12,
   "metadata": {},
   "outputs": [],
   "source": [
    "#remove the stop words and punctionationfrom a line of text\n",
    "# def remove_stops(text):\n",
    "#     nlp = spacy.load(\"en_core_web_sm\")\n",
    "#     excluded_tags = {\"VERB\", \"ADJ\", \"ADV\", \"ADP\", \"PROPN\"}\n",
    "#     words = [word.lower() for word in text.split() if word.lower() not in sw_spacy]\n",
    "#     punc = '''!()-[]{};:'\"\\,<>./?@#$%^&*_~'''\n",
    "#     new_text = \" \".join(words)\n",
    "    # for elem in punc:\n",
    "    #     new_text = new_text.replace(elem, \"\")\n",
    "    # doc = nlp(new_text)\n",
    "    # for word in doc:\n",
    "    #     print(f'Text: {word.text} Part-of-speech: {word.pos_}')\n",
    "    # return new_text"
   ]
  },
  {
   "cell_type": "code",
   "execution_count": 62,
   "metadata": {},
   "outputs": [],
   "source": [
    "#remove the stop words and punctionationfrom a line of text\n",
    "def remove_stops(text):\n",
    "    nlp = spacy.load(\"en_core_web_sm\")\n",
    "    words = [word.lower() for word in text.split() if word.lower() not in sw_spacy]\n",
    "    punc = '''!()-[]{};:'\"\\,<>./?@#$%^&*_~'''\n",
    "    new_text = \" \".join(words)\n",
    "    for elem in punc:\n",
    "        new_text = new_text.replace(elem, \"\")\n",
    "    return new_text\n"
   ]
  },
  {
   "cell_type": "code",
   "execution_count": 63,
   "metadata": {},
   "outputs": [],
   "source": [
    "submissions[\"created_utc\"][0]\n",
    "month_dfs = {\"january\": submissions[submissions['created_utc'].dt.month==1],\n",
    "             \"febuary\": submissions[submissions['created_utc'].dt.month==2],\n",
    "             \"march\": submissions[submissions['created_utc'].dt.month==3]}"
   ]
  },
  {
   "cell_type": "code",
   "execution_count": 68,
   "metadata": {},
   "outputs": [
    {
     "ename": "KeyboardInterrupt",
     "evalue": "",
     "output_type": "error",
     "traceback": [
      "\u001b[0;31m---------------------------------------------------------------------------\u001b[0m",
      "\u001b[0;31mKeyboardInterrupt\u001b[0m                         Traceback (most recent call last)",
      "\u001b[1;32m/Users/ritikabrahmadesam/Documents/College/RCOS/OPTUS-AI/analysis/ritika/frequencies.ipynb Cell 8\u001b[0m line \u001b[0;36m4\n\u001b[1;32m      <a href='vscode-notebook-cell:/Users/ritikabrahmadesam/Documents/College/RCOS/OPTUS-AI/analysis/ritika/frequencies.ipynb#W5sZmlsZQ%3D%3D?line=1'>2</a>\u001b[0m curr_month \u001b[39m=\u001b[39m month_dfs[\u001b[39m'\u001b[39m\u001b[39mjanuary\u001b[39m\u001b[39m'\u001b[39m]\n\u001b[1;32m      <a href='vscode-notebook-cell:/Users/ritikabrahmadesam/Documents/College/RCOS/OPTUS-AI/analysis/ritika/frequencies.ipynb#W5sZmlsZQ%3D%3D?line=2'>3</a>\u001b[0m text \u001b[39m=\u001b[39m curr_month[\u001b[39m'\u001b[39m\u001b[39mselftext\u001b[39m\u001b[39m'\u001b[39m]\u001b[39m.\u001b[39mto_list()\n\u001b[0;32m----> <a href='vscode-notebook-cell:/Users/ritikabrahmadesam/Documents/College/RCOS/OPTUS-AI/analysis/ritika/frequencies.ipynb#W5sZmlsZQ%3D%3D?line=3'>4</a>\u001b[0m text \u001b[39m=\u001b[39m [remove_stops(t) \u001b[39mfor\u001b[39;00m t \u001b[39min\u001b[39;00m text]\n\u001b[1;32m      <a href='vscode-notebook-cell:/Users/ritikabrahmadesam/Documents/College/RCOS/OPTUS-AI/analysis/ritika/frequencies.ipynb#W5sZmlsZQ%3D%3D?line=4'>5</a>\u001b[0m text \u001b[39m=\u001b[39m submissions\u001b[39m.\u001b[39mloc[submissions[\u001b[39m'\u001b[39m\u001b[39mcleaned_text\u001b[39m\u001b[39m'\u001b[39m]\u001b[39m!=\u001b[39m\u001b[39m'\u001b[39m\u001b[39m'\u001b[39m,:]\n",
      "\u001b[1;32m/Users/ritikabrahmadesam/Documents/College/RCOS/OPTUS-AI/analysis/ritika/frequencies.ipynb Cell 8\u001b[0m line \u001b[0;36m4\n\u001b[1;32m      <a href='vscode-notebook-cell:/Users/ritikabrahmadesam/Documents/College/RCOS/OPTUS-AI/analysis/ritika/frequencies.ipynb#W5sZmlsZQ%3D%3D?line=1'>2</a>\u001b[0m curr_month \u001b[39m=\u001b[39m month_dfs[\u001b[39m'\u001b[39m\u001b[39mjanuary\u001b[39m\u001b[39m'\u001b[39m]\n\u001b[1;32m      <a href='vscode-notebook-cell:/Users/ritikabrahmadesam/Documents/College/RCOS/OPTUS-AI/analysis/ritika/frequencies.ipynb#W5sZmlsZQ%3D%3D?line=2'>3</a>\u001b[0m text \u001b[39m=\u001b[39m curr_month[\u001b[39m'\u001b[39m\u001b[39mselftext\u001b[39m\u001b[39m'\u001b[39m]\u001b[39m.\u001b[39mto_list()\n\u001b[0;32m----> <a href='vscode-notebook-cell:/Users/ritikabrahmadesam/Documents/College/RCOS/OPTUS-AI/analysis/ritika/frequencies.ipynb#W5sZmlsZQ%3D%3D?line=3'>4</a>\u001b[0m text \u001b[39m=\u001b[39m [remove_stops(t) \u001b[39mfor\u001b[39;00m t \u001b[39min\u001b[39;00m text]\n\u001b[1;32m      <a href='vscode-notebook-cell:/Users/ritikabrahmadesam/Documents/College/RCOS/OPTUS-AI/analysis/ritika/frequencies.ipynb#W5sZmlsZQ%3D%3D?line=4'>5</a>\u001b[0m text \u001b[39m=\u001b[39m submissions\u001b[39m.\u001b[39mloc[submissions[\u001b[39m'\u001b[39m\u001b[39mcleaned_text\u001b[39m\u001b[39m'\u001b[39m]\u001b[39m!=\u001b[39m\u001b[39m'\u001b[39m\u001b[39m'\u001b[39m,:]\n",
      "\u001b[1;32m/Users/ritikabrahmadesam/Documents/College/RCOS/OPTUS-AI/analysis/ritika/frequencies.ipynb Cell 8\u001b[0m line \u001b[0;36m3\n\u001b[1;32m      <a href='vscode-notebook-cell:/Users/ritikabrahmadesam/Documents/College/RCOS/OPTUS-AI/analysis/ritika/frequencies.ipynb#W5sZmlsZQ%3D%3D?line=1'>2</a>\u001b[0m \u001b[39mdef\u001b[39;00m \u001b[39mremove_stops\u001b[39m(text):\n\u001b[0;32m----> <a href='vscode-notebook-cell:/Users/ritikabrahmadesam/Documents/College/RCOS/OPTUS-AI/analysis/ritika/frequencies.ipynb#W5sZmlsZQ%3D%3D?line=2'>3</a>\u001b[0m     nlp \u001b[39m=\u001b[39m spacy\u001b[39m.\u001b[39;49mload(\u001b[39m\"\u001b[39;49m\u001b[39men_core_web_sm\u001b[39;49m\u001b[39m\"\u001b[39;49m)\n\u001b[1;32m      <a href='vscode-notebook-cell:/Users/ritikabrahmadesam/Documents/College/RCOS/OPTUS-AI/analysis/ritika/frequencies.ipynb#W5sZmlsZQ%3D%3D?line=3'>4</a>\u001b[0m     words \u001b[39m=\u001b[39m [word\u001b[39m.\u001b[39mlower() \u001b[39mfor\u001b[39;00m word \u001b[39min\u001b[39;00m text\u001b[39m.\u001b[39msplit() \u001b[39mif\u001b[39;00m word\u001b[39m.\u001b[39mlower() \u001b[39mnot\u001b[39;00m \u001b[39min\u001b[39;00m sw_spacy]\n\u001b[1;32m      <a href='vscode-notebook-cell:/Users/ritikabrahmadesam/Documents/College/RCOS/OPTUS-AI/analysis/ritika/frequencies.ipynb#W5sZmlsZQ%3D%3D?line=4'>5</a>\u001b[0m     punc \u001b[39m=\u001b[39m \u001b[39m'''\u001b[39m\u001b[39m!()-[]\u001b[39m\u001b[39m{}\u001b[39;00m\u001b[39m;:\u001b[39m\u001b[39m'\u001b[39m\u001b[39m\"\u001b[39m\u001b[39m\\\u001b[39m\u001b[39m,<>./?@#$\u001b[39m\u001b[39m%\u001b[39m\u001b[39m^&*_~\u001b[39m\u001b[39m'''\u001b[39m\n",
      "File \u001b[0;32m/Library/Frameworks/Python.framework/Versions/3.8/lib/python3.8/site-packages/spacy/__init__.py:50\u001b[0m, in \u001b[0;36mload\u001b[0;34m(name, vocab, disable, enable, exclude, config)\u001b[0m\n\u001b[1;32m     26\u001b[0m \u001b[39mdef\u001b[39;00m \u001b[39mload\u001b[39m(\n\u001b[1;32m     27\u001b[0m     name: Union[\u001b[39mstr\u001b[39m, Path],\n\u001b[1;32m     28\u001b[0m     \u001b[39m*\u001b[39m,\n\u001b[0;32m   (...)\u001b[0m\n\u001b[1;32m     33\u001b[0m     config: Union[Dict[\u001b[39mstr\u001b[39m, Any], Config] \u001b[39m=\u001b[39m util\u001b[39m.\u001b[39mSimpleFrozenDict(),\n\u001b[1;32m     34\u001b[0m ) \u001b[39m-\u001b[39m\u001b[39m>\u001b[39m Language:\n\u001b[1;32m     35\u001b[0m \u001b[39m    \u001b[39m\u001b[39m\"\"\"Load a spaCy model from an installed package or a local path.\u001b[39;00m\n\u001b[1;32m     36\u001b[0m \n\u001b[1;32m     37\u001b[0m \u001b[39m    name (str): Package name or model path.\u001b[39;00m\n\u001b[0;32m   (...)\u001b[0m\n\u001b[1;32m     48\u001b[0m \u001b[39m    RETURNS (Language): The loaded nlp object.\u001b[39;00m\n\u001b[1;32m     49\u001b[0m \u001b[39m    \"\"\"\u001b[39;00m\n\u001b[0;32m---> 50\u001b[0m     \u001b[39mreturn\u001b[39;00m util\u001b[39m.\u001b[39;49mload_model(\n\u001b[1;32m     51\u001b[0m         name,\n\u001b[1;32m     52\u001b[0m         vocab\u001b[39m=\u001b[39;49mvocab,\n\u001b[1;32m     53\u001b[0m         disable\u001b[39m=\u001b[39;49mdisable,\n\u001b[1;32m     54\u001b[0m         enable\u001b[39m=\u001b[39;49menable,\n\u001b[1;32m     55\u001b[0m         exclude\u001b[39m=\u001b[39;49mexclude,\n\u001b[1;32m     56\u001b[0m         config\u001b[39m=\u001b[39;49mconfig,\n\u001b[1;32m     57\u001b[0m     )\n",
      "File \u001b[0;32m/Library/Frameworks/Python.framework/Versions/3.8/lib/python3.8/site-packages/spacy/util.py:465\u001b[0m, in \u001b[0;36mload_model\u001b[0;34m(name, vocab, disable, enable, exclude, config)\u001b[0m\n\u001b[1;32m    463\u001b[0m     \u001b[39mreturn\u001b[39;00m get_lang_class(name\u001b[39m.\u001b[39mreplace(\u001b[39m\"\u001b[39m\u001b[39mblank:\u001b[39m\u001b[39m\"\u001b[39m, \u001b[39m\"\u001b[39m\u001b[39m\"\u001b[39m))()\n\u001b[1;32m    464\u001b[0m \u001b[39mif\u001b[39;00m is_package(name):  \u001b[39m# installed as package\u001b[39;00m\n\u001b[0;32m--> 465\u001b[0m     \u001b[39mreturn\u001b[39;00m load_model_from_package(name, \u001b[39m*\u001b[39;49m\u001b[39m*\u001b[39;49mkwargs)  \u001b[39m# type: ignore[arg-type]\u001b[39;00m\n\u001b[1;32m    466\u001b[0m \u001b[39mif\u001b[39;00m Path(name)\u001b[39m.\u001b[39mexists():  \u001b[39m# path to model data directory\u001b[39;00m\n\u001b[1;32m    467\u001b[0m     \u001b[39mreturn\u001b[39;00m load_model_from_path(Path(name), \u001b[39m*\u001b[39m\u001b[39m*\u001b[39mkwargs)  \u001b[39m# type: ignore[arg-type]\u001b[39;00m\n",
      "File \u001b[0;32m/Library/Frameworks/Python.framework/Versions/3.8/lib/python3.8/site-packages/spacy/util.py:501\u001b[0m, in \u001b[0;36mload_model_from_package\u001b[0;34m(name, vocab, disable, enable, exclude, config)\u001b[0m\n\u001b[1;32m    484\u001b[0m \u001b[39m\u001b[39m\u001b[39m\"\"\"Load a model from an installed package.\u001b[39;00m\n\u001b[1;32m    485\u001b[0m \n\u001b[1;32m    486\u001b[0m \u001b[39mname (str): The package name.\u001b[39;00m\n\u001b[0;32m   (...)\u001b[0m\n\u001b[1;32m    498\u001b[0m \u001b[39mRETURNS (Language): The loaded nlp object.\u001b[39;00m\n\u001b[1;32m    499\u001b[0m \u001b[39m\"\"\"\u001b[39;00m\n\u001b[1;32m    500\u001b[0m \u001b[39mcls\u001b[39m \u001b[39m=\u001b[39m importlib\u001b[39m.\u001b[39mimport_module(name)\n\u001b[0;32m--> 501\u001b[0m \u001b[39mreturn\u001b[39;00m \u001b[39mcls\u001b[39;49m\u001b[39m.\u001b[39;49mload(vocab\u001b[39m=\u001b[39;49mvocab, disable\u001b[39m=\u001b[39;49mdisable, enable\u001b[39m=\u001b[39;49menable, exclude\u001b[39m=\u001b[39;49mexclude, config\u001b[39m=\u001b[39;49mconfig)\n",
      "File \u001b[0;32m/Library/Frameworks/Python.framework/Versions/3.8/lib/python3.8/site-packages/en_core_web_sm/__init__.py:10\u001b[0m, in \u001b[0;36mload\u001b[0;34m(**overrides)\u001b[0m\n\u001b[1;32m      9\u001b[0m \u001b[39mdef\u001b[39;00m \u001b[39mload\u001b[39m(\u001b[39m*\u001b[39m\u001b[39m*\u001b[39moverrides):\n\u001b[0;32m---> 10\u001b[0m     \u001b[39mreturn\u001b[39;00m load_model_from_init_py(\u001b[39m__file__\u001b[39;49m, \u001b[39m*\u001b[39;49m\u001b[39m*\u001b[39;49moverrides)\n",
      "File \u001b[0;32m/Library/Frameworks/Python.framework/Versions/3.8/lib/python3.8/site-packages/spacy/util.py:682\u001b[0m, in \u001b[0;36mload_model_from_init_py\u001b[0;34m(init_file, vocab, disable, enable, exclude, config)\u001b[0m\n\u001b[1;32m    680\u001b[0m \u001b[39mif\u001b[39;00m \u001b[39mnot\u001b[39;00m model_path\u001b[39m.\u001b[39mexists():\n\u001b[1;32m    681\u001b[0m     \u001b[39mraise\u001b[39;00m \u001b[39mIOError\u001b[39;00m(Errors\u001b[39m.\u001b[39mE052\u001b[39m.\u001b[39mformat(path\u001b[39m=\u001b[39mdata_path))\n\u001b[0;32m--> 682\u001b[0m \u001b[39mreturn\u001b[39;00m load_model_from_path(\n\u001b[1;32m    683\u001b[0m     data_path,\n\u001b[1;32m    684\u001b[0m     vocab\u001b[39m=\u001b[39;49mvocab,\n\u001b[1;32m    685\u001b[0m     meta\u001b[39m=\u001b[39;49mmeta,\n\u001b[1;32m    686\u001b[0m     disable\u001b[39m=\u001b[39;49mdisable,\n\u001b[1;32m    687\u001b[0m     enable\u001b[39m=\u001b[39;49menable,\n\u001b[1;32m    688\u001b[0m     exclude\u001b[39m=\u001b[39;49mexclude,\n\u001b[1;32m    689\u001b[0m     config\u001b[39m=\u001b[39;49mconfig,\n\u001b[1;32m    690\u001b[0m )\n",
      "File \u001b[0;32m/Library/Frameworks/Python.framework/Versions/3.8/lib/python3.8/site-packages/spacy/util.py:547\u001b[0m, in \u001b[0;36mload_model_from_path\u001b[0;34m(model_path, meta, vocab, disable, enable, exclude, config)\u001b[0m\n\u001b[1;32m    538\u001b[0m config \u001b[39m=\u001b[39m load_config(config_path, overrides\u001b[39m=\u001b[39moverrides)\n\u001b[1;32m    539\u001b[0m nlp \u001b[39m=\u001b[39m load_model_from_config(\n\u001b[1;32m    540\u001b[0m     config,\n\u001b[1;32m    541\u001b[0m     vocab\u001b[39m=\u001b[39mvocab,\n\u001b[0;32m   (...)\u001b[0m\n\u001b[1;32m    545\u001b[0m     meta\u001b[39m=\u001b[39mmeta,\n\u001b[1;32m    546\u001b[0m )\n\u001b[0;32m--> 547\u001b[0m \u001b[39mreturn\u001b[39;00m nlp\u001b[39m.\u001b[39;49mfrom_disk(model_path, exclude\u001b[39m=\u001b[39;49mexclude, overrides\u001b[39m=\u001b[39;49moverrides)\n",
      "File \u001b[0;32m/Library/Frameworks/Python.framework/Versions/3.8/lib/python3.8/site-packages/spacy/language.py:2184\u001b[0m, in \u001b[0;36mLanguage.from_disk\u001b[0;34m(self, path, exclude, overrides)\u001b[0m\n\u001b[1;32m   2181\u001b[0m \u001b[39mif\u001b[39;00m \u001b[39mnot\u001b[39;00m (path \u001b[39m/\u001b[39m \u001b[39m\"\u001b[39m\u001b[39mvocab\u001b[39m\u001b[39m\"\u001b[39m)\u001b[39m.\u001b[39mexists() \u001b[39mand\u001b[39;00m \u001b[39m\"\u001b[39m\u001b[39mvocab\u001b[39m\u001b[39m\"\u001b[39m \u001b[39mnot\u001b[39;00m \u001b[39min\u001b[39;00m exclude:  \u001b[39m# type: ignore[operator]\u001b[39;00m\n\u001b[1;32m   2182\u001b[0m     \u001b[39m# Convert to list here in case exclude is (default) tuple\u001b[39;00m\n\u001b[1;32m   2183\u001b[0m     exclude \u001b[39m=\u001b[39m \u001b[39mlist\u001b[39m(exclude) \u001b[39m+\u001b[39m [\u001b[39m\"\u001b[39m\u001b[39mvocab\u001b[39m\u001b[39m\"\u001b[39m]\n\u001b[0;32m-> 2184\u001b[0m util\u001b[39m.\u001b[39;49mfrom_disk(path, deserializers, exclude)  \u001b[39m# type: ignore[arg-type]\u001b[39;00m\n\u001b[1;32m   2185\u001b[0m \u001b[39mself\u001b[39m\u001b[39m.\u001b[39m_path \u001b[39m=\u001b[39m path  \u001b[39m# type: ignore[assignment]\u001b[39;00m\n\u001b[1;32m   2186\u001b[0m \u001b[39mself\u001b[39m\u001b[39m.\u001b[39m_link_components()\n",
      "File \u001b[0;32m/Library/Frameworks/Python.framework/Versions/3.8/lib/python3.8/site-packages/spacy/util.py:1372\u001b[0m, in \u001b[0;36mfrom_disk\u001b[0;34m(path, readers, exclude)\u001b[0m\n\u001b[1;32m   1369\u001b[0m \u001b[39mfor\u001b[39;00m key, reader \u001b[39min\u001b[39;00m readers\u001b[39m.\u001b[39mitems():\n\u001b[1;32m   1370\u001b[0m     \u001b[39m# Split to support file names like meta.json\u001b[39;00m\n\u001b[1;32m   1371\u001b[0m     \u001b[39mif\u001b[39;00m key\u001b[39m.\u001b[39msplit(\u001b[39m\"\u001b[39m\u001b[39m.\u001b[39m\u001b[39m\"\u001b[39m)[\u001b[39m0\u001b[39m] \u001b[39mnot\u001b[39;00m \u001b[39min\u001b[39;00m exclude:\n\u001b[0;32m-> 1372\u001b[0m         reader(path \u001b[39m/\u001b[39;49m key)\n\u001b[1;32m   1373\u001b[0m \u001b[39mreturn\u001b[39;00m path\n",
      "File \u001b[0;32m/Library/Frameworks/Python.framework/Versions/3.8/lib/python3.8/site-packages/spacy/language.py:2160\u001b[0m, in \u001b[0;36mLanguage.from_disk.<locals>.deserialize_vocab\u001b[0;34m(path)\u001b[0m\n\u001b[1;32m   2158\u001b[0m \u001b[39mdef\u001b[39;00m \u001b[39mdeserialize_vocab\u001b[39m(path: Path) \u001b[39m-\u001b[39m\u001b[39m>\u001b[39m \u001b[39mNone\u001b[39;00m:\n\u001b[1;32m   2159\u001b[0m     \u001b[39mif\u001b[39;00m path\u001b[39m.\u001b[39mexists():\n\u001b[0;32m-> 2160\u001b[0m         \u001b[39mself\u001b[39;49m\u001b[39m.\u001b[39;49mvocab\u001b[39m.\u001b[39;49mfrom_disk(path, exclude\u001b[39m=\u001b[39;49mexclude)\n",
      "File \u001b[0;32m/Library/Frameworks/Python.framework/Versions/3.8/lib/python3.8/site-packages/spacy/vocab.pyx:513\u001b[0m, in \u001b[0;36mspacy.vocab.Vocab.from_disk\u001b[0;34m()\u001b[0m\n",
      "File \u001b[0;32m/Library/Frameworks/Python.framework/Versions/3.8/lib/python3.8/site-packages/spacy/vectors.pyx:718\u001b[0m, in \u001b[0;36mspacy.vectors.Vectors.from_disk\u001b[0;34m()\u001b[0m\n",
      "File \u001b[0;32m/Library/Frameworks/Python.framework/Versions/3.8/lib/python3.8/site-packages/spacy/util.py:1363\u001b[0m, in \u001b[0;36mfrom_disk\u001b[0;34m(path, readers, exclude)\u001b[0m\n\u001b[1;32m   1359\u001b[0m             writer(path \u001b[39m/\u001b[39m key)\n\u001b[1;32m   1360\u001b[0m     \u001b[39mreturn\u001b[39;00m path\n\u001b[0;32m-> 1363\u001b[0m \u001b[39mdef\u001b[39;00m \u001b[39mfrom_disk\u001b[39m(\n\u001b[1;32m   1364\u001b[0m     path: Union[\u001b[39mstr\u001b[39m, Path],\n\u001b[1;32m   1365\u001b[0m     readers: Dict[\u001b[39mstr\u001b[39m, Callable[[Path], \u001b[39mNone\u001b[39;00m]],\n\u001b[1;32m   1366\u001b[0m     exclude: Iterable[\u001b[39mstr\u001b[39m],\n\u001b[1;32m   1367\u001b[0m ) \u001b[39m-\u001b[39m\u001b[39m>\u001b[39m Path:\n\u001b[1;32m   1368\u001b[0m     path \u001b[39m=\u001b[39m ensure_path(path)\n\u001b[1;32m   1369\u001b[0m     \u001b[39mfor\u001b[39;00m key, reader \u001b[39min\u001b[39;00m readers\u001b[39m.\u001b[39mitems():\n\u001b[1;32m   1370\u001b[0m         \u001b[39m# Split to support file names like meta.json\u001b[39;00m\n",
      "\u001b[0;31mKeyboardInterrupt\u001b[0m: "
     ]
    }
   ],
   "source": [
    "#clean the text by removing stop words, punctuation, and empty entries\n",
    "curr_month = month_dfs['january']\n",
    "text = curr_month['selftext'].to_list()\n",
    "text = [remove_stops(t) for t in text]\n",
    "text = submissions.loc[submissions['cleaned_text']!='',:]"
   ]
  },
  {
   "cell_type": "code",
   "execution_count": null,
   "metadata": {},
   "outputs": [],
   "source": []
  }
 ],
 "metadata": {
  "kernelspec": {
   "display_name": "Python 3",
   "language": "python",
   "name": "python3"
  },
  "language_info": {
   "codemirror_mode": {
    "name": "ipython",
    "version": 3
   },
   "file_extension": ".py",
   "mimetype": "text/x-python",
   "name": "python",
   "nbconvert_exporter": "python",
   "pygments_lexer": "ipython3",
   "version": "3.8.5"
  }
 },
 "nbformat": 4,
 "nbformat_minor": 2
}
