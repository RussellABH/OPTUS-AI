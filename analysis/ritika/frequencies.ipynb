{
 "cells": [
  {
   "cell_type": "code",
   "execution_count": 4,
   "metadata": {},
   "outputs": [],
   "source": [
    "import spacy \n",
    "import pandas as pd\n",
    "import datetime as dt \n",
    "import spacy\n",
    "from collections import Counter \n",
    "import json\n",
    "en = spacy.load('en_core_web_sm')\n",
    "sw_spacy = en.Defaults.stop_words"
   ]
  },
  {
   "cell_type": "code",
   "execution_count": 5,
   "metadata": {},
   "outputs": [],
   "source": [
    "submissions1 = pd.read_json(\"/Users/ritikabrahmadesam/Documents/College/RCOS/OPTUS-AI_RAWDATA/opiates_submissions1.json\")\n",
    "submissions2 = pd.read_json(\"/Users/ritikabrahmadesam/Documents/College/RCOS/OPTUS-AI_RAWDATA/opiates_submissions2.json\")\n",
    "submissions3 = pd.read_json(\"/Users/ritikabrahmadesam/Documents/College/RCOS/OPTUS-AI_RAWDATA/opiates_submissions3.json\")\n",
    "submissions4 = pd.read_json(\"/Users/ritikabrahmadesam/Documents/College/RCOS/OPTUS-AI_RAWDATA/opiates_submissions4.json\")\n",
    "submissions5 = pd.read_json(\"/Users/ritikabrahmadesam/Documents/College/RCOS/OPTUS-AI_RAWDATA/opiates_submissions5.json\")\n",
    "submissions6 = pd.read_json(\"/Users/ritikabrahmadesam/Documents/College/RCOS/OPTUS-AI_RAWDATA/opiates_submissions6.json\")\n",
    "submissions7 = pd.read_json(\"/Users/ritikabrahmadesam/Documents/College/RCOS/OPTUS-AI_RAWDATA/opiates_submissions7.json\")\n"
   ]
  },
  {
   "cell_type": "markdown",
   "metadata": {},
   "source": [
    "### This analysis aims to track the frequencies of certain words over time"
   ]
  },
  {
   "cell_type": "code",
   "execution_count": 22,
   "metadata": {},
   "outputs": [],
   "source": [
    "submissions = pd.concat([submissions1, submissions2, submissions3, submissions4, submissions5, submissions6, submissions7])"
   ]
  },
  {
   "cell_type": "code",
   "execution_count": 23,
   "metadata": {},
   "outputs": [],
   "source": [
    "#create a column with real datetimes\n",
    "submissions['created_utc'] = submissions['created_utc'].apply(lambda date: dt.datetime.fromtimestamp(date))\n",
    "submissions = submissions.sort_values(by='created_utc', ascending=True)"
   ]
  },
  {
   "cell_type": "code",
   "execution_count": 24,
   "metadata": {},
   "outputs": [],
   "source": [
    "#remove the stop words and punctionationfrom a line of text\n",
    "def remove_stops(text):\n",
    "    nlp = spacy.load(\"en_core_web_sm\")\n",
    "    words = [word.lower() for word in text.split() if word.lower() not in sw_spacy]\n",
    "    punc = '''!()-[]{};:'\"\\,<>./?@#$%^&*_~'''\n",
    "    new_text = \" \".join(words)\n",
    "    for elem in punc:\n",
    "        new_text = new_text.replace(elem, \"\")\n",
    "    return new_text"
   ]
  },
  {
   "cell_type": "code",
   "execution_count": 31,
   "metadata": {},
   "outputs": [],
   "source": [
    "posts = submissions[submissions['created_utc'].dt.year==2014]\n",
    "curr_df = {\"january\": posts[posts['created_utc'].dt.month==1],\n",
    "           \"febuary\": posts[posts['created_utc'].dt.month==2],\n",
    "           \"march\": posts[posts['created_utc'].dt.month==3],\n",
    "            \"april\": posts[posts['created_utc'].dt.month==4],\n",
    "            \"may\": posts[posts['created_utc'].dt.month==5],\n",
    "            \"june\": posts[posts['created_utc'].dt.month==6],\n",
    "            \"august\": posts[posts['created_utc'].dt.month==8],\n",
    "            \"september\": posts[posts['created_utc'].dt.month==9],\n",
    "            \"october\": posts[posts['created_utc'].dt.month==10],\n",
    "            \"november\": posts[posts['created_utc'].dt.month==11],\n",
    "            \"december\": posts[posts['created_utc'].dt.month==12]}"
   ]
  },
  {
   "cell_type": "code",
   "execution_count": 32,
   "metadata": {},
   "outputs": [],
   "source": [
    "#clean the text by removing stop words, punctuation, and empty entries\n",
    "for month in curr_df.keys():\n",
    "    curr_month = curr_df[month]\n",
    "    text = curr_month['selftext'].to_list()\n",
    "    text = [remove_stops(t) for t in text]\n",
    "    while(\"\" in text):\n",
    "        text.remove(\"\")\n",
    "    text = \" \".join(text)\n",
    "    text = text.split()\n",
    "    frequent = Counter(text) \n",
    "    most_occur = frequent.most_common(50) \n",
    "    json_format = json.dumps(dict(most_occur))\n",
    "    with open(month + \".json\", \"w\") as outfile:\n",
    "        outfile.write(json_format)"
   ]
  }
 ],
 "metadata": {
  "kernelspec": {
   "display_name": "Python 3",
   "language": "python",
   "name": "python3"
  },
  "language_info": {
   "codemirror_mode": {
    "name": "ipython",
    "version": 3
   },
   "file_extension": ".py",
   "mimetype": "text/x-python",
   "name": "python",
   "nbconvert_exporter": "python",
   "pygments_lexer": "ipython3",
   "version": "3.9.6"
  }
 },
 "nbformat": 4,
 "nbformat_minor": 2
}
