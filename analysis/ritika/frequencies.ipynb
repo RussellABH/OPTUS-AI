{
 "cells": [
  {
   "cell_type": "code",
   "execution_count": 1,
   "metadata": {},
   "outputs": [],
   "source": [
    "import spacy \n",
    "import pandas as pd\n",
    "import matplotlib\n",
    "import matplotlib.pyplot as plt\n",
    "import datetime as dt \n",
    "import spacy\n",
    "from collections import Counter \n",
    "import json\n",
    "en = spacy.load('en_core_web_sm')\n",
    "sw_spacy = en.Defaults.stop_words"
   ]
  },
  {
   "cell_type": "code",
   "execution_count": 3,
   "metadata": {},
   "outputs": [],
   "source": [
    "submissions1 = pd.read_json(\"/Users/ritikabrahmadesam/Downloads/opiates_submissions1.json\")\n",
    "submissions2 = pd.read_json(\"/Users/ritikabrahmadesam/Downloads/opiates_submissions2.json\")"
   ]
  },
  {
   "cell_type": "markdown",
   "metadata": {},
   "source": [
    "### This analysis aims to track the frequencies of certain words over time"
   ]
  },
  {
   "cell_type": "code",
   "execution_count": 5,
   "metadata": {},
   "outputs": [],
   "source": [
    "submissions = pd.concat([submissions1, submissions2])"
   ]
  },
  {
   "cell_type": "code",
   "execution_count": 8,
   "metadata": {},
   "outputs": [],
   "source": [
    "#create a column with real datetimes\n",
    "submissions['created_utc'] = submissions['created_utc'].apply(lambda date: dt.datetime.fromtimestamp(date))\n",
    "submissions = submissions.sort_values(by='created_utc', ascending=True)"
   ]
  },
  {
   "cell_type": "code",
   "execution_count": 10,
   "metadata": {},
   "outputs": [],
   "source": [
    "#remove the stop words and punctionationfrom a line of text\n",
    "def remove_stops(text):\n",
    "    nlp = spacy.load(\"en_core_web_sm\")\n",
    "    words = [word.lower() for word in text.split() if word.lower() not in sw_spacy]\n",
    "    punc = '''!()-[]{};:'\"\\,<>./?@#$%^&*_~'''\n",
    "    new_text = \" \".join(words)\n",
    "    for elem in punc:\n",
    "        new_text = new_text.replace(elem, \"\")\n",
    "    return new_text"
   ]
  },
  {
   "cell_type": "code",
   "execution_count": 11,
   "metadata": {},
   "outputs": [],
   "source": [
    "df_2011 = submissions[submissions['created_utc'].dt.year==2011]"
   ]
  },
  {
   "cell_type": "code",
   "execution_count": 14,
   "metadata": {},
   "outputs": [],
   "source": [
    "df_2011 = submissions[submissions['created_utc'].dt.year==2012]\n",
    "curr_df = {\"january\": df_2011[df_2011['created_utc'].dt.month==1],\n",
    "           \"febuary\": df_2011[df_2011['created_utc'].dt.month==2],\n",
    "           \"march\": df_2011[df_2011['created_utc'].dt.month==3],\n",
    "            \"april\": df_2011[df_2011['created_utc'].dt.month==4],\n",
    "            \"may\": df_2011[df_2011['created_utc'].dt.month==5],\n",
    "            \"june\": df_2011[df_2011['created_utc'].dt.month==6],\n",
    "            \"august\": df_2011[df_2011['created_utc'].dt.month==8],\n",
    "            \"september\": df_2011[df_2011['created_utc'].dt.month==9],\n",
    "            \"october\": df_2011[df_2011['created_utc'].dt.month==10],\n",
    "            \"november\": df_2011[df_2011['created_utc'].dt.month==11],\n",
    "            \"december\": df_2011[df_2011['created_utc'].dt.month==12]}"
   ]
  },
  {
   "cell_type": "code",
   "execution_count": 15,
   "metadata": {},
   "outputs": [],
   "source": [
    "#clean the text by removing stop words, punctuation, and empty entries\n",
    "for month in curr_df.keys():\n",
    "    curr_month = curr_df[month]\n",
    "    text = curr_month['selftext'].to_list()\n",
    "    text = [remove_stops(t) for t in text]\n",
    "    while(\"\" in text):\n",
    "        text.remove(\"\")\n",
    "    text = \" \".join(text)\n",
    "    text = text.split()\n",
    "    frequent = Counter(text) \n",
    "    most_occur = frequent.most_common(50) \n",
    "    json_format = json.dumps(dict(most_occur))\n",
    "    with open(month + \".json\", \"w\") as outfile:\n",
    "        outfile.write(json_format)"
   ]
  },
  {
   "cell_type": "code",
   "execution_count": 14,
   "metadata": {},
   "outputs": [],
   "source": []
  },
  {
   "cell_type": "code",
   "execution_count": null,
   "metadata": {},
   "outputs": [],
   "source": []
  }
 ],
 "metadata": {
  "kernelspec": {
   "display_name": "Python 3",
   "language": "python",
   "name": "python3"
  },
  "language_info": {
   "codemirror_mode": {
    "name": "ipython",
    "version": 3
   },
   "file_extension": ".py",
   "mimetype": "text/x-python",
   "name": "python",
   "nbconvert_exporter": "python",
   "pygments_lexer": "ipython3",
   "version": "3.8.5"
  }
 },
 "nbformat": 4,
 "nbformat_minor": 2
}
