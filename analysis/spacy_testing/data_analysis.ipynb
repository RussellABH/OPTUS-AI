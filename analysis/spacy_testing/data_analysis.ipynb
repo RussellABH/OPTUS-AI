{
 "cells": [
  {
   "cell_type": "code",
   "execution_count": 1,
   "metadata": {},
   "outputs": [],
   "source": [
    "import pandas as pd\n",
    "import spacy\n",
    "from spacy.lang.en.stop_words import STOP_WORDS\n",
    "from spacytextblob.spacytextblob import SpacyTextBlob"
   ]
  },
  {
   "cell_type": "code",
   "execution_count": 2,
   "metadata": {},
   "outputs": [],
   "source": [
    "#READ and store the sumbissions\n",
    "#submission1 = pd.read_json('/Users/ritikabrahmadesam/Downloads/opiates_submissions2.json')\n",
    "submission2 = pd.read_json('/Users/ritikabrahmadesam/Downloads/opiates_submissions2.json')\n",
    "#submission3 = pd.read_json('/Users/ritikabrahmadesam/Downloads/opiates_submissions3.json')\n",
    "#submission4 = pd.read_json('/Users/ritikabrahmadesam/Downloads/opiates_submissions2.json')\n",
    "#submission5 = pd.read_json('/Users/ritikabrahmadesam/Downloads/opiates_submissions2.json')\n",
    "#submission6 = pd.read_json('/Users/ritikabrahmadesam/Downloads/opiates_submissions2.json')\n",
    "submission7 = pd.read_json('/Users/ritikabrahmadesam/Downloads/opiates_submissions7.json')\n",
    "\n",
    "#READ and store the comments\n",
    "#comments1 = pd.read_json('/Users/ritikabrahmadesam/Downloads/opiates_submissions2.json')\n",
    "# comments2 = pd.read_json('/Users/ritikabrahmadesam/Downloads/opiates_comments2.json')\n",
    "#comments3 = pd.read_json('/Users/ritikabrahmadesam/Downloads/opiates_comments3.json')\n",
    "#comments4 = pd.read_json('/Users/ritikabrahmadesam/Downloads/opiates_submissions2.json')\n",
    "#comments5 = pd.read_json('/Users/ritikabrahmadesam/Downloads/opiates_submissions2.json')\n",
    "#comments6 = pd.read_json('/Users/ritikabrahmadesam/Downloads/opiates_submissions2.json')\n",
    "#comments7 = pd.read_json('/Users/ritikabrahmadesam/Downloads/opiates_submissions2.json')"
   ]
  },
  {
   "cell_type": "code",
   "execution_count": 2,
   "metadata": {},
   "outputs": [],
   "source": [
    "#set the \n",
    "pd.set_option('display.max_rows', 500)\n",
    "pd.set_option('display.max_columns', 500)"
   ]
  },
  {
   "cell_type": "code",
   "execution_count": 3,
   "metadata": {},
   "outputs": [],
   "source": [
    "url_sent_score = []\n",
    "url_sent_label = []\n",
    "total_pos = []\n",
    "total_neg = []"
   ]
  },
  {
   "cell_type": "code",
   "execution_count": 5,
   "metadata": {},
   "outputs": [
    {
     "data": {
      "text/plain": [
       "['spacytextblob',\n",
       " 'tok2vec',\n",
       " 'tagger',\n",
       " 'parser',\n",
       " 'attribute_ruler',\n",
       " 'lemmatizer',\n",
       " 'ner']"
      ]
     },
     "execution_count": 5,
     "metadata": {},
     "output_type": "execute_result"
    }
   ],
   "source": [
    "nlp = spacy.load('en_core_web_sm')\n",
    "nlp.add_pipe(\"spacytextblob\", first=True)\n",
    "nlp.pipe_names"
   ]
  },
  {
   "cell_type": "code",
   "execution_count": 17,
   "metadata": {},
   "outputs": [
    {
     "name": "stdout",
     "output_type": "stream",
     "text": [
      "Name: spacy\n",
      "Version: 3.7.0\n",
      "Summary: Industrial-strength Natural Language Processing (NLP) in Python\n",
      "Home-page: https://spacy.io\n",
      "Author: Explosion\n",
      "Author-email: contact@explosion.ai\n",
      "License: MIT\n",
      "Location: /Users/ritikabrahmadesam/opt/anaconda3/lib/python3.8/site-packages\n",
      "Requires: catalogue, cymem, jinja2, langcodes, murmurhash, numpy, packaging, pathy, preshed, pydantic, requests, setuptools, smart-open, spacy-legacy, spacy-loggers, srsly, thinc, tqdm, typer, wasabi, weasel\n",
      "Required-by: en-core-web-sm, spacytextblob\n"
     ]
    }
   ],
   "source": [
    "!pip show spacy"
   ]
  },
  {
   "cell_type": "code",
   "execution_count": 18,
   "metadata": {},
   "outputs": [
    {
     "name": "stdout",
     "output_type": "stream",
     "text": [
      "Name: spacytextblob\n",
      "Version: 4.0.0\n",
      "Summary: A TextBlob sentiment analysis pipeline component for spaCy.\n",
      "Home-page: https://github.com/SamEdwardes/spacytextblob\n",
      "Author: SamEdwardes\n",
      "Author-email: edwardes.s@gmail.com\n",
      "License: MIT\n",
      "Location: /Users/ritikabrahmadesam/opt/anaconda3/lib/python3.8/site-packages\n",
      "Requires: spacy, textblob\n",
      "Required-by: \n"
     ]
    }
   ],
   "source": [
    "!pip show spacytextblob"
   ]
  },
  {
   "cell_type": "code",
   "execution_count": 6,
   "metadata": {},
   "outputs": [
    {
     "name": "stdout",
     "output_type": "stream",
     "text": [
      "2023-10-03 17:17:13.341551: I tensorflow/compiler/jit/xla_cpu_device.cc:41] Not creating XLA devices, tf_xla_enable_xla_devices not set\n",
      "Collecting en-core-web-sm==3.7.0\n",
      "  Downloading https://github.com/explosion/spacy-models/releases/download/en_core_web_sm-3.7.0/en_core_web_sm-3.7.0-py3-none-any.whl (12.8 MB)\n",
      "\u001b[2K     \u001b[90m━━━━━━━━━━━━━━━━━━━━━━━━━━━━━━━━━━━━━━━━\u001b[0m \u001b[32m12.8/12.8 MB\u001b[0m \u001b[31m7.3 MB/s\u001b[0m eta \u001b[36m0:00:00\u001b[0m00:01\u001b[0m00:01\u001b[0mm\n",
      "\u001b[?25hRequirement already satisfied: spacy<3.8.0,>=3.7.0 in /Users/ritikabrahmadesam/opt/anaconda3/lib/python3.8/site-packages (from en-core-web-sm==3.7.0) (3.7.0)\n",
      "Requirement already satisfied: spacy-legacy<3.1.0,>=3.0.11 in /Users/ritikabrahmadesam/opt/anaconda3/lib/python3.8/site-packages (from spacy<3.8.0,>=3.7.0->en-core-web-sm==3.7.0) (3.0.12)\n",
      "Requirement already satisfied: spacy-loggers<2.0.0,>=1.0.0 in /Users/ritikabrahmadesam/opt/anaconda3/lib/python3.8/site-packages (from spacy<3.8.0,>=3.7.0->en-core-web-sm==3.7.0) (1.0.5)\n",
      "Requirement already satisfied: murmurhash<1.1.0,>=0.28.0 in /Users/ritikabrahmadesam/opt/anaconda3/lib/python3.8/site-packages (from spacy<3.8.0,>=3.7.0->en-core-web-sm==3.7.0) (1.0.10)\n",
      "Requirement already satisfied: cymem<2.1.0,>=2.0.2 in /Users/ritikabrahmadesam/opt/anaconda3/lib/python3.8/site-packages (from spacy<3.8.0,>=3.7.0->en-core-web-sm==3.7.0) (2.0.8)\n",
      "Requirement already satisfied: preshed<3.1.0,>=3.0.2 in /Users/ritikabrahmadesam/opt/anaconda3/lib/python3.8/site-packages (from spacy<3.8.0,>=3.7.0->en-core-web-sm==3.7.0) (3.0.9)\n",
      "Requirement already satisfied: thinc<8.3.0,>=8.1.8 in /Users/ritikabrahmadesam/opt/anaconda3/lib/python3.8/site-packages (from spacy<3.8.0,>=3.7.0->en-core-web-sm==3.7.0) (8.1.12)\n",
      "Requirement already satisfied: wasabi<1.2.0,>=0.9.1 in /Users/ritikabrahmadesam/opt/anaconda3/lib/python3.8/site-packages (from spacy<3.8.0,>=3.7.0->en-core-web-sm==3.7.0) (1.1.2)\n",
      "Requirement already satisfied: srsly<3.0.0,>=2.4.3 in /Users/ritikabrahmadesam/opt/anaconda3/lib/python3.8/site-packages (from spacy<3.8.0,>=3.7.0->en-core-web-sm==3.7.0) (2.4.8)\n",
      "Requirement already satisfied: catalogue<2.1.0,>=2.0.6 in /Users/ritikabrahmadesam/opt/anaconda3/lib/python3.8/site-packages (from spacy<3.8.0,>=3.7.0->en-core-web-sm==3.7.0) (2.0.9)\n",
      "Requirement already satisfied: weasel<0.4.0,>=0.1.0 in /Users/ritikabrahmadesam/opt/anaconda3/lib/python3.8/site-packages (from spacy<3.8.0,>=3.7.0->en-core-web-sm==3.7.0) (0.3.1)\n",
      "Requirement already satisfied: typer<0.10.0,>=0.3.0 in /Users/ritikabrahmadesam/opt/anaconda3/lib/python3.8/site-packages (from spacy<3.8.0,>=3.7.0->en-core-web-sm==3.7.0) (0.7.0)\n",
      "Requirement already satisfied: pathy>=0.10.0 in /Users/ritikabrahmadesam/opt/anaconda3/lib/python3.8/site-packages (from spacy<3.8.0,>=3.7.0->en-core-web-sm==3.7.0) (0.10.2)\n",
      "Requirement already satisfied: smart-open<7.0.0,>=5.2.1 in /Users/ritikabrahmadesam/opt/anaconda3/lib/python3.8/site-packages (from spacy<3.8.0,>=3.7.0->en-core-web-sm==3.7.0) (6.4.0)\n",
      "Requirement already satisfied: tqdm<5.0.0,>=4.38.0 in /Users/ritikabrahmadesam/opt/anaconda3/lib/python3.8/site-packages (from spacy<3.8.0,>=3.7.0->en-core-web-sm==3.7.0) (4.47.0)\n",
      "Requirement already satisfied: requests<3.0.0,>=2.13.0 in /Users/ritikabrahmadesam/opt/anaconda3/lib/python3.8/site-packages (from spacy<3.8.0,>=3.7.0->en-core-web-sm==3.7.0) (2.24.0)\n",
      "Requirement already satisfied: pydantic!=1.8,!=1.8.1,<3.0.0,>=1.7.4 in /Users/ritikabrahmadesam/opt/anaconda3/lib/python3.8/site-packages (from spacy<3.8.0,>=3.7.0->en-core-web-sm==3.7.0) (2.3.0)\n",
      "Requirement already satisfied: jinja2 in /Users/ritikabrahmadesam/opt/anaconda3/lib/python3.8/site-packages (from spacy<3.8.0,>=3.7.0->en-core-web-sm==3.7.0) (2.11.2)\n",
      "Requirement already satisfied: setuptools in /Users/ritikabrahmadesam/opt/anaconda3/lib/python3.8/site-packages (from spacy<3.8.0,>=3.7.0->en-core-web-sm==3.7.0) (49.2.0.post20200714)\n",
      "Requirement already satisfied: packaging>=20.0 in /Users/ritikabrahmadesam/opt/anaconda3/lib/python3.8/site-packages (from spacy<3.8.0,>=3.7.0->en-core-web-sm==3.7.0) (20.4)\n",
      "Requirement already satisfied: langcodes<4.0.0,>=3.2.0 in /Users/ritikabrahmadesam/opt/anaconda3/lib/python3.8/site-packages (from spacy<3.8.0,>=3.7.0->en-core-web-sm==3.7.0) (3.3.0)\n",
      "Requirement already satisfied: numpy>=1.15.0 in /Users/ritikabrahmadesam/opt/anaconda3/lib/python3.8/site-packages (from spacy<3.8.0,>=3.7.0->en-core-web-sm==3.7.0) (1.19.2)\n",
      "Requirement already satisfied: pyparsing>=2.0.2 in /Users/ritikabrahmadesam/opt/anaconda3/lib/python3.8/site-packages (from packaging>=20.0->spacy<3.8.0,>=3.7.0->en-core-web-sm==3.7.0) (2.4.7)\n",
      "Requirement already satisfied: six in /Users/ritikabrahmadesam/opt/anaconda3/lib/python3.8/site-packages (from packaging>=20.0->spacy<3.8.0,>=3.7.0->en-core-web-sm==3.7.0) (1.15.0)\n",
      "Requirement already satisfied: annotated-types>=0.4.0 in /Users/ritikabrahmadesam/opt/anaconda3/lib/python3.8/site-packages (from pydantic!=1.8,!=1.8.1,<3.0.0,>=1.7.4->spacy<3.8.0,>=3.7.0->en-core-web-sm==3.7.0) (0.5.0)\n",
      "Requirement already satisfied: pydantic-core==2.6.3 in /Users/ritikabrahmadesam/opt/anaconda3/lib/python3.8/site-packages (from pydantic!=1.8,!=1.8.1,<3.0.0,>=1.7.4->spacy<3.8.0,>=3.7.0->en-core-web-sm==3.7.0) (2.6.3)\n",
      "Requirement already satisfied: typing-extensions>=4.6.1 in /Users/ritikabrahmadesam/opt/anaconda3/lib/python3.8/site-packages (from pydantic!=1.8,!=1.8.1,<3.0.0,>=1.7.4->spacy<3.8.0,>=3.7.0->en-core-web-sm==3.7.0) (4.8.0)\n",
      "Requirement already satisfied: chardet<4,>=3.0.2 in /Users/ritikabrahmadesam/opt/anaconda3/lib/python3.8/site-packages (from requests<3.0.0,>=2.13.0->spacy<3.8.0,>=3.7.0->en-core-web-sm==3.7.0) (3.0.4)\n",
      "Requirement already satisfied: idna<3,>=2.5 in /Users/ritikabrahmadesam/opt/anaconda3/lib/python3.8/site-packages (from requests<3.0.0,>=2.13.0->spacy<3.8.0,>=3.7.0->en-core-web-sm==3.7.0) (2.10)\n",
      "Requirement already satisfied: urllib3!=1.25.0,!=1.25.1,<1.26,>=1.21.1 in /Users/ritikabrahmadesam/opt/anaconda3/lib/python3.8/site-packages (from requests<3.0.0,>=2.13.0->spacy<3.8.0,>=3.7.0->en-core-web-sm==3.7.0) (1.25.9)\n",
      "Requirement already satisfied: certifi>=2017.4.17 in /Users/ritikabrahmadesam/opt/anaconda3/lib/python3.8/site-packages (from requests<3.0.0,>=2.13.0->spacy<3.8.0,>=3.7.0->en-core-web-sm==3.7.0) (2020.6.20)\n",
      "Requirement already satisfied: blis<0.8.0,>=0.7.8 in /Users/ritikabrahmadesam/opt/anaconda3/lib/python3.8/site-packages (from thinc<8.3.0,>=8.1.8->spacy<3.8.0,>=3.7.0->en-core-web-sm==3.7.0) (0.7.11)\n",
      "Requirement already satisfied: confection<1.0.0,>=0.0.1 in /Users/ritikabrahmadesam/opt/anaconda3/lib/python3.8/site-packages (from thinc<8.3.0,>=8.1.8->spacy<3.8.0,>=3.7.0->en-core-web-sm==3.7.0) (0.1.3)\n",
      "Requirement already satisfied: click<9.0.0,>=7.1.1 in /Users/ritikabrahmadesam/opt/anaconda3/lib/python3.8/site-packages (from typer<0.10.0,>=0.3.0->spacy<3.8.0,>=3.7.0->en-core-web-sm==3.7.0) (7.1.2)\n",
      "Requirement already satisfied: cloudpathlib<0.16.0,>=0.7.0 in /Users/ritikabrahmadesam/opt/anaconda3/lib/python3.8/site-packages (from weasel<0.4.0,>=0.1.0->spacy<3.8.0,>=3.7.0->en-core-web-sm==3.7.0) (0.15.1)\n",
      "Requirement already satisfied: MarkupSafe>=0.23 in /Users/ritikabrahmadesam/opt/anaconda3/lib/python3.8/site-packages (from jinja2->spacy<3.8.0,>=3.7.0->en-core-web-sm==3.7.0) (1.1.1)\n",
      "\u001b[33mDEPRECATION: pyodbc 4.0.0-unsupported has a non-standard version number. pip 23.3 will enforce this behaviour change. A possible replacement is to upgrade to a newer version of pyodbc or contact the author to suggest that they release a version with a conforming version number. Discussion can be found at https://github.com/pypa/pip/issues/12063\u001b[0m\u001b[33m\n",
      "\u001b[0m\u001b[38;5;2m✔ Download and installation successful\u001b[0m\n",
      "You can now load the package via spacy.load('en_core_web_sm')\n"
     ]
    }
   ],
   "source": [
    "!python -m spacy download en_core_web_sm"
   ]
  },
  {
   "cell_type": "code",
   "execution_count": null,
   "metadata": {},
   "outputs": [],
   "source": []
  }
 ],
 "metadata": {
  "kernelspec": {
   "display_name": "Python 3",
   "language": "python",
   "name": "python3"
  },
  "language_info": {
   "codemirror_mode": {
    "name": "ipython",
    "version": 3
   },
   "file_extension": ".py",
   "mimetype": "text/x-python",
   "name": "python",
   "nbconvert_exporter": "python",
   "pygments_lexer": "ipython3",
   "version": "3.8.5"
  },
  "orig_nbformat": 4
 },
 "nbformat": 4,
 "nbformat_minor": 2
}
