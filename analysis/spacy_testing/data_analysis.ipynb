{
 "cells": [
  {
   "cell_type": "code",
   "execution_count": 12,
   "metadata": {},
   "outputs": [],
   "source": [
    "import pandas as pd\n",
    "import spacy\n",
    "from spacy.lang.en.stop_words import STOP_WORDS\n",
    "from spacytextblob.spacytextblob import SpacyTextBlob\n",
    "import datetime as dt"
   ]
  },
  {
   "cell_type": "code",
   "execution_count": 46,
   "metadata": {},
   "outputs": [],
   "source": [
    "#READ and store the sumbissions\n",
    "#submission1 = pd.read_json('/Users/ritikabrahmadesam/Downloads/opiates_submissions2.json')\n",
    "submission2 = pd.read_json('/Users/ritikabrahmadesam/Downloads/opiates_submissions2.json')\n",
    "#submission3 = pd.read_json('/Users/ritikabrahmadesam/Downloads/opiates_submissions3.json')\n",
    "#submission4 = pd.read_json('/Users/ritikabrahmadesam/Downloads/opiates_submissions2.json')\n",
    "#submission5 = pd.read_json('/Users/ritikabrahmadesam/Downloads/opiates_submissions2.json')\n",
    "#submission6 = pd.read_json('/Users/ritikabrahmadesam/Downloads/opiates_submissions2.json')\n",
    "submission7 = pd.read_json('/Users/ritikabrahmadesam/Downloads/opiates_submissions7.json')\n",
    "\n",
    "#READ and store the comments\n",
    "#comments1 = pd.read_json('/Users/ritikabrahmadesam/Downloads/opiates_submissions2.json')\n",
    "# comments2 = pd.read_json('/Users/ritikabrahmadesam/Downloads/opiates_comments2.json')\n",
    "#comments3 = pd.read_json('/Users/ritikabrahmadesam/Downloads/opiates_comments3.json')\n",
    "#comments4 = pd.read_json('/Users/ritikabrahmadesam/Downloads/opiates_submissions2.json')\n",
    "#comments5 = pd.read_json('/Users/ritikabrahmadesam/Downloads/opiates_submissions2.json')\n",
    "#comments6 = pd.read_json('/Users/ritikabrahmadesam/Downloads/opiates_submissions2.json')\n",
    "#comments7 = pd.read_json('/Users/ritikabrahmadesam/Downloads/opiates_submissions2.json')"
   ]
  },
  {
   "cell_type": "code",
   "execution_count": 47,
   "metadata": {},
   "outputs": [],
   "source": [
    "#set the \n",
    "pd.set_option('display.max_rows', 500)\n",
    "pd.set_option('display.max_columns', 500)"
   ]
  },
  {
   "cell_type": "code",
   "execution_count": 48,
   "metadata": {},
   "outputs": [],
   "source": [
    "url_sent_score = []\n",
    "url_sent_label = []\n",
    "total_pos = []\n",
    "total_neg = []"
   ]
  },
  {
   "cell_type": "code",
   "execution_count": 49,
   "metadata": {},
   "outputs": [
    {
     "data": {
      "text/plain": [
       "Index(['author', 'author_flair_css_class', 'author_flair_text', 'created_utc',\n",
       "       'domain', 'full_link', 'gilded', 'id', 'is_self', 'media_embed',\n",
       "       'mod_reports', 'num_comments', 'over_18', 'permalink', 'retrieved_on',\n",
       "       'score', 'secure_media_embed', 'selftext', 'stickied', 'subreddit',\n",
       "       'subreddit_id', 'thumbnail', 'title', 'url', 'user_reports', 'created',\n",
       "       'author_created_utc', 'author_fullname', 'edited', 'media',\n",
       "       'distinguished'],\n",
       "      dtype='object')"
      ]
     },
     "execution_count": 49,
     "metadata": {},
     "output_type": "execute_result"
    }
   ],
   "source": [
    "submission2.columns"
   ]
  },
  {
   "cell_type": "code",
   "execution_count": 50,
   "metadata": {},
   "outputs": [],
   "source": [
    "#create a column with real datetimes\n",
    "submission2['created_utc'] = submission2['created_utc'].apply(lambda date: dt.datetime.fromtimestamp(date).strftime('%m-%d-%Y %H:%M:%S'))\n",
    "submission2 = submission2.sort_values(by='created_utc', ascending=True)"
   ]
  },
  {
   "cell_type": "code",
   "execution_count": null,
   "metadata": {},
   "outputs": [],
   "source": []
  }
 ],
 "metadata": {
  "kernelspec": {
   "display_name": "Python 3",
   "language": "python",
   "name": "python3"
  },
  "language_info": {
   "codemirror_mode": {
    "name": "ipython",
    "version": 3
   },
   "file_extension": ".py",
   "mimetype": "text/x-python",
   "name": "python",
   "nbconvert_exporter": "python",
   "pygments_lexer": "ipython3",
   "version": "3.8.5"
  },
  "orig_nbformat": 4
 },
 "nbformat": 4,
 "nbformat_minor": 2
}
